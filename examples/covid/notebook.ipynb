{
 "cells": [
  {
   "cell_type": "markdown",
   "id": "dd77739f",
   "metadata": {},
   "source": [
    "<center>\n",
    "<a href=\"https://github.com/kamu-data/kamu-cli\">\n",
    "<img alt=\"kamu\" src=\"https://raw.githubusercontent.com/kamu-data/kamu-cli/master/docs/readme_files/kamu_logo.png\" width=270/>\n",
    "</a>\n",
    "</center>\n",
    "\n",
    "<br/>\n",
    "\n",
    "<div align=\"center\">\n",
    "<a href=\"https://github.com/kamu-data/kamu-cli\">Repo</a> | \n",
    "<a href=\"https://docs.kamu.dev/cli/\">Docs</a> | \n",
    "<a href=\"https://docs.kamu.dev/cli/learn/learning-materials/\">Tutorials</a> | \n",
    "<a href=\"https://docs.kamu.dev/cli/learn/examples/\">Examples</a> |\n",
    "<a href=\"https://docs.kamu.dev/cli/get-started/faq/\">FAQ</a> |\n",
    "<a href=\"https://discord.gg/nU6TXRQNXC\">Discord</a> |\n",
    "<a href=\"https://kamu.dev\">Website</a>\n",
    "</div>\n",
    "\n",
    "\n",
    "<center>\n",
    "\n",
    "<br/>\n",
    "    \n",
    "# Covid Jupyter Notebook\n",
    "\n",
    "</center>"
   ]
  },
  {
   "cell_type": "markdown",
   "id": "bd153e3f",
   "metadata": {},
   "source": [
    "In this tutorial there is a step by step guide on how to use the Covid data to make visually pleasing graphs and use SQL to manipulate data."
   ]
  },
  {
   "cell_type": "markdown",
   "id": "7ddb58f7",
   "metadata": {},
   "source": [
    "<div class=\"alert alert-block alert-success\">\n",
    "To follow this example checkout kamu-cli repository and navigate into the examples/covid sub-directory.\n",
    "\n",
    "Create a temporary kamu workspace in that folder using:\n",
    "<p style=\"background:black\">\n",
    "<code style=\"background:black;color:white\">kamu init\n",
    "</code>\n",
    "</p>\n",
    "</div>"
   ]
  },
  {
   "cell_type": "markdown",
   "id": "adeae959",
   "metadata": {},
   "source": [
    "<div class=\"alert alert-block alert-success\">\n",
    "Then add all dataset manifests found in the current directory:\n",
    "<p style=\"background:black\">\n",
    "<code style=\"background:black;color:white\">kamu add --recursive .\n",
    "kamu pull --all\n",
    "</code>\n",
    "</p>\n",
    "</div>"
   ]
  },
  {
   "cell_type": "markdown",
   "id": "ff03afd2-8f27-4b4b-bf37-98e4b8aee997",
   "metadata": {},
   "source": [
    "## Connect to Kamu\n",
    "First we need to import `kamu` library and create a connection to the server. We will let the library to figure out where to find the server, but you can connect to other nodes by providing a URL.\n",
    "\n",
    "<div class=\"alert alert-block alert-success\">\n",
    "\n",
    "Connect to `kamu` server.\n",
    "\n",
    "</div>"
   ]
  },
  {
   "cell_type": "code",
   "execution_count": null,
   "id": "77ff78d6-d674-41ac-a762-b43fd22d428d",
   "metadata": {},
   "outputs": [],
   "source": [
    "import kamu\n",
    "\n",
    "con = kamu.connect()"
   ]
  },
  {
   "cell_type": "markdown",
   "id": "2c8f5a2f-74c9-4476-a91e-792f45e542b1",
   "metadata": {},
   "source": [
    "You can already query data using the connection object."
   ]
  },
  {
   "cell_type": "code",
   "execution_count": null,
   "id": "144502a9-831f-4072-9fa6-b9add039c5d1",
   "metadata": {},
   "outputs": [],
   "source": [
    "con.query(\"select 1 as value\")"
   ]
  },
  {
   "cell_type": "markdown",
   "id": "c2c61eee",
   "metadata": {},
   "source": [
    "## Load Kamu Extension\n",
    "To avoid typying `con.query(\"...\")` all the time let's load <code>kamu</code> Jupyter extension."
   ]
  },
  {
   "cell_type": "code",
   "execution_count": null,
   "id": "28c1c94a",
   "metadata": {
    "scrolled": true
   },
   "outputs": [],
   "source": [
    "%load_ext kamu"
   ]
  },
  {
   "cell_type": "markdown",
   "id": "b4c3ad82",
   "metadata": {},
   "source": [
    "The extension provides a convenient `%%sql` cell magic. Let's use it to look at the data from the province of BC."
   ]
  },
  {
   "cell_type": "code",
   "execution_count": null,
   "id": "cb505b23",
   "metadata": {
    "scrolled": true
   },
   "outputs": [],
   "source": [
    "%%sql\n",
    "select * from 'covid19.british-columbia.case-details' limit 3"
   ]
  },
  {
   "cell_type": "markdown",
   "id": "821818ad-90c8-4034-9b7f-6ac16ea6c48b",
   "metadata": {},
   "source": [
    "## Explore Data"
   ]
  },
  {
   "cell_type": "markdown",
   "id": "665855a7",
   "metadata": {},
   "source": [
    "We can use the same approach to sample data from other provinces:"
   ]
  },
  {
   "cell_type": "code",
   "execution_count": null,
   "id": "599cac31-e7d7-4313-a768-dbb0d1c5fdae",
   "metadata": {
    "scrolled": true
   },
   "outputs": [],
   "source": [
    "%%sql\n",
    "select * from 'covid19.alberta.case-details' limit 3"
   ]
  },
  {
   "cell_type": "code",
   "execution_count": null,
   "id": "ad28d886-cb48-40c9-b2b5-161644f304b3",
   "metadata": {
    "scrolled": true
   },
   "outputs": [],
   "source": [
    "%%sql\n",
    "select * from 'covid19.ontario.case-details' limit 3"
   ]
  },
  {
   "cell_type": "code",
   "execution_count": null,
   "id": "874863d9-e4af-41fc-9a90-a48fe8072a9d",
   "metadata": {
    "scrolled": true
   },
   "outputs": [],
   "source": [
    "%%sql\n",
    "select * from 'covid19.quebec.case-details' limit 3"
   ]
  },
  {
   "cell_type": "markdown",
   "id": "314078ef",
   "metadata": {},
   "source": [
    "Notice how data schemas and column semantics are slightly different between provinces. This makes pretty difficult to work with data across all provinces.\n",
    "\n",
    "To tackle that we have created several harmonization datasets `{province}.case-details.hm` that bring data from all provinces under a common format. The `covid19.canada.case-details` dataset then uses `UNION ALL` operation to derive a new pan-Canadian dataset.\n",
    "\n",
    "<div class=\"alert alert-block alert-success\">\n",
    "Take a minute to study the definitions of these datasets.\n",
    "</div>\n",
    "\n",
    "Let's sample the pan-Canadian dataset now."
   ]
  },
  {
   "cell_type": "code",
   "execution_count": null,
   "id": "ee795d89",
   "metadata": {},
   "outputs": [],
   "source": [
    "%%sql\n",
    "select * from 'covid19.canada.case-details' limit 3"
   ]
  },
  {
   "cell_type": "markdown",
   "id": "027313e1",
   "metadata": {},
   "source": [
    "Let's write a query that counts the number of cases by age group and by province."
   ]
  },
  {
   "cell_type": "code",
   "execution_count": null,
   "id": "37d286c2",
   "metadata": {},
   "outputs": [],
   "source": [
    "%%sql -o age_cases\n",
    "select\n",
    "    province,\n",
    "    age_group,\n",
    "    count(*)\n",
    "from 'covid19.canada.case-details'\n",
    "group by province, age_group\n",
    "order by province, age_group"
   ]
  },
  {
   "cell_type": "markdown",
   "id": "27e8856f",
   "metadata": {},
   "source": [
    "We can use `plotly` to visualize this data as a pie chart."
   ]
  },
  {
   "cell_type": "code",
   "execution_count": null,
   "id": "c7436226",
   "metadata": {},
   "outputs": [],
   "source": [
    "import plotly.express \n",
    "plotly.express.pie(age_cases, values='count(*)', names='age_group', color='age_group', title='Cases by Age Group and Province', facet_col='province')"
   ]
  },
  {
   "cell_type": "markdown",
   "id": "932dfe7c-1765-466b-b5bf-0b8f1fc7ff67",
   "metadata": {},
   "source": [
    "As can bee seen over a third of Quebec's cases are unknow which is probably due to Quebec's strict privacy act laws that are part of the Act Respecting Access to Documents Held by Public Bodies and the Protection of Personal Information. These differences in law can cause errors when comparing data!"
   ]
  },
  {
   "cell_type": "markdown",
   "id": "fa22f18f",
   "metadata": {},
   "source": [
    "Now let's look at the distribution of cases by gender and by province"
   ]
  },
  {
   "cell_type": "code",
   "execution_count": null,
   "id": "f72bdd07",
   "metadata": {
    "scrolled": true
   },
   "outputs": [],
   "source": [
    "%%sql -o total_cases\n",
    "select\n",
    "    province,\n",
    "    gender,\n",
    "    count(*)\n",
    "from 'covid19.canada.case-details'\n",
    "group by province, gender\n",
    "order by province, gender"
   ]
  },
  {
   "cell_type": "code",
   "execution_count": null,
   "id": "983ec368",
   "metadata": {},
   "outputs": [],
   "source": [
    "plotly.express.bar(total_cases, x='province', y='count(*)', color='gender', title='Cases per Gender')\n"
   ]
  },
  {
   "cell_type": "markdown",
   "id": "f0c746b6",
   "metadata": {},
   "source": [
    "Here you can see that Quebec has a large amount of people who were classified as undefined. This is probably again due to Quebec's strict privacy laws."
   ]
  },
  {
   "cell_type": "markdown",
   "id": "d65f66df",
   "metadata": {},
   "source": [
    "The last dataset that we will look at is daily cases aggregation for the four provinces."
   ]
  },
  {
   "cell_type": "code",
   "execution_count": null,
   "id": "6884e659",
   "metadata": {},
   "outputs": [],
   "source": [
    "%%sql -o daily_cases\n",
    "select * from 'covid19.canada.daily-cases'"
   ]
  },
  {
   "cell_type": "markdown",
   "id": "083fecc2",
   "metadata": {},
   "source": [
    "We can use it to create a line plot graph to compare the different amount of cases per day by province."
   ]
  },
  {
   "cell_type": "code",
   "execution_count": null,
   "id": "7169812b",
   "metadata": {
    "scrolled": true
   },
   "outputs": [],
   "source": [
    "plotly.express.line(daily_cases, x=\"reported_date\" , y=\"total_daily\", color=\"province\")"
   ]
  },
  {
   "cell_type": "markdown",
   "id": "6bd2a6b0",
   "metadata": {},
   "source": [
    "As seen in the graph above, the case data has multiple spikes, including two extreme ones in Quebec from late December 2020 and early January 2021. As explained in [this data source issue](https://github.com/ccodwg/Covid19Canada/issues/44) these spikes don't reflect an actual surge in cases, but rather a **delay in data entry** due to the holidays and weekends, with cases being attributed to the day they are entered on instead of amending the past data for the days they were registered on. This issue makes data hard to work with, often requiring some \"smoothing\" to get approximate number of cases on a cetrain date.\n",
    "\n",
    "\n",
    "Kamu offers a combination of techniques like [watermarks](https://docs.kamu.dev/glossary/#watermark), explicit [retractions and corrections](https://docs.kamu.dev/glossary/#retractions-and-corrections) to automatically account for late arriving data and simultaneously provide **minimal latency** and **accuracy and consistency** of data.\n",
    "\n",
    "Continue to [other examples](https://docs.kamu.dev/cli/get-started/examples/) to learn more!"
   ]
  },
  {
   "cell_type": "code",
   "execution_count": null,
   "id": "b16c6926",
   "metadata": {},
   "outputs": [],
   "source": []
  }
 ],
 "metadata": {
  "kernelspec": {
   "display_name": "Python 3 (ipykernel)",
   "language": "python",
   "name": "python3"
  },
  "language_info": {
   "codemirror_mode": {
    "name": "ipython",
    "version": 3
   },
   "file_extension": ".py",
   "mimetype": "text/x-python",
   "name": "python",
   "nbconvert_exporter": "python",
   "pygments_lexer": "ipython3",
   "version": "3.12.8"
  }
 },
 "nbformat": 4,
 "nbformat_minor": 5
}
