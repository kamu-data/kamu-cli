{
 "cells": [
  {
   "cell_type": "markdown",
   "id": "dd77739f",
   "metadata": {},
   "source": [
    "<center>\n",
    "<a href=\"https://github.com/kamu-data/kamu-cli\">\n",
    "<img alt=\"kamu\" src=\"https://raw.githubusercontent.com/kamu-data/kamu-cli/master/docs/readme_files/kamu_logo.png\" width=270/>\n",
    "</a>\n",
    "</center>\n",
    "\n",
    "<br/>\n",
    "\n",
    "<div align=\"center\">\n",
    "<a href=\"https://github.com/kamu-data/kamu-cli\">Repo</a> | \n",
    "<a href=\"https://docs.kamu.dev/cli/\">Docs</a> | \n",
    "<a href=\"https://docs.kamu.dev/cli/learn/learning-materials/\">Tutorials</a> | \n",
    "<a href=\"https://docs.kamu.dev/cli/learn/examples/\">Examples</a> |\n",
    "<a href=\"https://docs.kamu.dev/cli/get-started/faq/\">FAQ</a> |\n",
    "<a href=\"https://discord.gg/nU6TXRQNXC\">Discord</a> |\n",
    "<a href=\"https://kamu.dev\">Website</a>\n",
    "</div>\n",
    "\n",
    "\n",
    "<center>\n",
    "\n",
    "<br/>\n",
    "    \n",
    "# Covid Jupyter Notebook\n",
    "\n",
    "</center>"
   ]
  },
  {
   "cell_type": "markdown",
   "id": "bd153e3f",
   "metadata": {},
   "source": [
    "In this tutorial there is a step by step guide on how to use the Covid data to make visually pleasing graphs and use SQL to manipulate data."
   ]
  },
  {
   "cell_type": "markdown",
   "id": "7ddb58f7",
   "metadata": {},
   "source": [
    "<div class=\"alert alert-block alert-success\">\n",
    "To follow this example checkout kamu-cli repository and navigate into the examples/covid sub-directory.\n",
    "\n",
    "Create a temporary kamu workspace in that folder using:\n",
    "<p style=\"background:black\">\n",
    "<code style=\"background:black;color:white\">kamu init\n",
    "</code>\n",
    "</p>\n",
    "</div>"
   ]
  },
  {
   "cell_type": "markdown",
   "id": "adeae959",
   "metadata": {},
   "source": [
    "<div class=\"alert alert-block alert-success\">\n",
    "Then add all dataset manifests found in the current directory:\n",
    "<p style=\"background:black\">\n",
    "<code style=\"background:black;color:white\">kamu add --recursive .\n",
    "kamu pull --all\n",
    "</code>\n",
    "</p>\n",
    "</div>"
   ]
  },
  {
   "cell_type": "markdown",
   "id": "c2c61eee",
   "metadata": {},
   "source": [
    "## Load Kamu Extension\n",
    "<div class=\"alert alert-block alert-success\">\n",
    "Start by loading <code>kamu</code> Jupyter extension in your terminal:\n",
    "</div>"
   ]
  },
  {
   "cell_type": "code",
   "execution_count": null,
   "id": "28c1c94a",
   "metadata": {
    "scrolled": true
   },
   "outputs": [],
   "source": [
    "%load_ext kamu"
   ]
  },
  {
   "cell_type": "markdown",
   "id": "b4c3ad82",
   "metadata": {},
   "source": [
    "## Import and Test Data\n",
    "<div class=\"alert alert-block alert-success\">\n",
    "Now it is time to start importing your Covid data by province. First import the data from the province of BC by using the command <code>%import dataset</code>. An alias was created to make it easier to call this file.\n",
    "</div>"
   ]
  },
  {
   "cell_type": "code",
   "execution_count": null,
   "id": "f665cd74",
   "metadata": {
    "scrolled": true
   },
   "outputs": [],
   "source": [
    "%import_dataset covid19.british-columbia.case-details --alias cases_bc"
   ]
  },
  {
   "cell_type": "markdown",
   "id": "64b3449f",
   "metadata": {},
   "source": [
    "<div class=\"alert alert-block alert-success\">\n",
    "To test if the data was loaded correctly a SQL querry is run.\n",
    "</div>"
   ]
  },
  {
   "cell_type": "code",
   "execution_count": null,
   "id": "cb505b23",
   "metadata": {
    "scrolled": true
   },
   "outputs": [],
   "source": [
    "%%sql\n",
    "SELECT * FROM cases_bc\n",
    "ORDER BY id DESC\n",
    "LIMIT 10"
   ]
  },
  {
   "cell_type": "markdown",
   "id": "665855a7",
   "metadata": {},
   "source": [
    "<div class=\"alert alert-block alert-success\">\n",
    "Now it is time to import the rest of the Covid data files and create aliases for them\n",
    "</div>"
   ]
  },
  {
   "cell_type": "code",
   "execution_count": null,
   "id": "50a8426b",
   "metadata": {},
   "outputs": [],
   "source": [
    "%import_dataset covid19.ontario.case-details --alias cases_on\n",
    "%import_dataset covid19.alberta.case-details --alias cases_ab\n",
    "%import_dataset covid19.quebec.case-details --alias cases_qb"
   ]
  },
  {
   "cell_type": "markdown",
   "id": "7b1540af",
   "metadata": {},
   "source": [
    "<div class=\"alert alert-block alert-success\">\n",
    "Time to test again if the data was imported correctly. You can test the Alberta files by changing  <code>cases_on</code> to   <code>cases_ab</code>. For Quebec change it to  <code>cases_qb</code> and <code>id</code> to <code>row_id</code>. \n",
    "</div>"
   ]
  },
  {
   "cell_type": "code",
   "execution_count": null,
   "id": "5c50f473",
   "metadata": {
    "scrolled": true
   },
   "outputs": [],
   "source": [
    "%%sql\n",
    "SELECT * FROM cases_on\n",
    "ORDER BY id DESC\n",
    "LIMIT 10"
   ]
  },
  {
   "cell_type": "markdown",
   "id": "314078ef",
   "metadata": {},
   "source": [
    "<div class=\"alert alert-block alert-success\">\n",
    "The next file that you import is case details for the four provinces combined. The file <code>covid19.canada.case-details</code>  uses an SQL query in the yaml file to combine that data so that you don't have to combine them with 'UNION ALL'.\n",
    "The SQL queries that harmonize the data of each province can be found in <code>(province).case-details.hm.</code> If you open these yamls, there are queries that make the datasets be able to be compared without semantic differences between them. For example only two provinces have a 90+ whereas the other two has age ranges of 80+. Therefore, we need to switch the age ranges to 80+ to compare the data.\n",
    "</div>"
   ]
  },
  {
   "cell_type": "code",
   "execution_count": null,
   "id": "d8c32581",
   "metadata": {},
   "outputs": [],
   "source": [
    "%import_dataset covid19.canada.case-details --alias cases_four_provinces"
   ]
  },
  {
   "cell_type": "markdown",
   "id": "03b616c3",
   "metadata": {},
   "source": [
    "<div class=\"alert alert-block alert-success\">\n",
    "Again, test to see if the data worked by showing the last 10 data rows.\n",
    "</div>"
   ]
  },
  {
   "cell_type": "code",
   "execution_count": null,
   "id": "ee795d89",
   "metadata": {
    "scrolled": false
   },
   "outputs": [],
   "source": [
    "%%sql\n",
    "SELECT * FROM cases_four_provinces\n",
    "LIMIT 10"
   ]
  },
  {
   "cell_type": "markdown",
   "id": "027313e1",
   "metadata": {},
   "source": [
    "<div class=\"alert alert-block alert-success\">\n",
    "To use this file, a SQL query is created to combine all of the cases by age group and by province\n",
    "</div>"
   ]
  },
  {
   "cell_type": "code",
   "execution_count": null,
   "id": "37d286c2",
   "metadata": {},
   "outputs": [],
   "source": [
    "%%sql -o age_cases\n",
    "SELECT province, age_group, COUNT(*) \n",
    "FROM cases_four_provinces\n",
    "GROUP BY province, age_group\n",
    "ORDER BY province, age_group;"
   ]
  },
  {
   "cell_type": "markdown",
   "id": "27e8856f",
   "metadata": {},
   "source": [
    "<div class=\"alert alert-block alert-success\">\n",
    "    Through <code>With plotly.express.pie</code> a pie chart can be created to compare the cases per province then per age group. As can bee seen over a third of Quebec's cases are unknow which is probably to to Quebec's strict privacy act laws that are part of the Act Respecting Access to Documents Held by Public Bodies and the Protection of Personal Information. These differences in law can cause errors when comparing data. </div>"
   ]
  },
  {
   "cell_type": "code",
   "execution_count": null,
   "id": "c7436226",
   "metadata": {},
   "outputs": [],
   "source": [
    "%%local \n",
    "import plotly.express \n",
    "plotly.express.pie(age_cases, values='count(1)', names='age_group', color='age_group', title='Cases by Age Group and Province', facet_col='province')"
   ]
  },
  {
   "cell_type": "markdown",
   "id": "fa22f18f",
   "metadata": {},
   "source": [
    "<div class=\"alert alert-block alert-success\">\n",
    "Another piece of data we can get from this yaml is gender. Therefore, a SQL query is created to combine all of the cases by gender and by province\n",
    "</div>"
   ]
  },
  {
   "cell_type": "code",
   "execution_count": null,
   "id": "f72bdd07",
   "metadata": {
    "scrolled": true
   },
   "outputs": [],
   "source": [
    "%%sql -o total_cases\n",
    "SELECT province, gender, COUNT(*) \n",
    "FROM cases_four_provinces\n",
    "GROUP BY province, gender\n",
    "ORDER BY province, gender;"
   ]
  },
  {
   "cell_type": "markdown",
   "id": "65858b3b",
   "metadata": {},
   "source": [
    "<div class=\"alert alert-block alert-success\">\n",
    "    Through <code>plotly.express.bar</code> a bar chart can be created to compare the cases per province then per gender (male, female, unspecified).\n",
    "</div>"
   ]
  },
  {
   "cell_type": "code",
   "execution_count": null,
   "id": "983ec368",
   "metadata": {},
   "outputs": [],
   "source": [
    "%%local \n",
    "import plotly.express \n",
    "plotly.express.bar(total_cases, x='province', y='count(1)', color='gender', title='Cases per Gender')\n"
   ]
  },
  {
   "cell_type": "markdown",
   "id": "f0c746b6",
   "metadata": {},
   "source": [
    "<div class=\"alert alert-block alert-info\">\n",
    "    By looking through the data you can see that Quebec has a large amount of people who were classified as undefined. This is probably again due to Quebec's strict privacy laws.\n",
    "</div>"
   ]
  },
  {
   "cell_type": "markdown",
   "id": "d65f66df",
   "metadata": {},
   "source": [
    "<div class=\"alert alert-block alert-success\">\n",
    "The last dataset that we are importing is daily cases for the four provinces.\n",
    "</div>"
   ]
  },
  {
   "cell_type": "code",
   "execution_count": null,
   "id": "8b54ceff",
   "metadata": {},
   "outputs": [],
   "source": [
    "%import_dataset covid19.canada.daily-cases --alias daily_cases"
   ]
  },
  {
   "cell_type": "markdown",
   "id": "44ff2b2a",
   "metadata": {},
   "source": [
    "<div class=\"alert alert-block alert-success\">\n",
    "Now test again to see if the data was succcesfully installed for this file.\n",
    "</div>"
   ]
  },
  {
   "cell_type": "code",
   "execution_count": null,
   "id": "6884e659",
   "metadata": {},
   "outputs": [],
   "source": [
    "%%sql -o daily_cases\n",
    "select * from daily_cases"
   ]
  },
  {
   "cell_type": "markdown",
   "id": "083fecc2",
   "metadata": {},
   "source": [
    "<div class=\"alert alert-block alert-success\">\n",
    "The last step is to create a line plot graph to compare the different amount of cases per day by province.\n",
    "</div>"
   ]
  },
  {
   "cell_type": "code",
   "execution_count": null,
   "id": "7169812b",
   "metadata": {
    "scrolled": true
   },
   "outputs": [],
   "source": [
    "%%local\n",
    "import plotly.express\n",
    "plotly.express.line(daily_cases, x=\"reported_date\" , y=\"total_daily\", color=\"province\")"
   ]
  },
  {
   "cell_type": "markdown",
   "id": "6bd2a6b0",
   "metadata": {},
   "source": [
    "<div class=\"alert alert-block alert-info\">\n",
    "\n",
    "As seen in the graph above, the case data has multiple spikes, including two significant ones in Quebec from late December 2020 and early January 2021. As explained in [this data source issue](https://github.com/ccodwg/Covid19Canada/issues/44) these spikes don't reflect an actual surge in cases, but rather a **delay in data entry** due to the holidays and weekends, with cases being attributed to the day they are entered on instead of amending the past data for the days they were registered on. This issue makes data hard to work with, often requiring some \"smoothing\" to get approximate number of cases on a cetrain date.\n",
    "\n",
    "\n",
    "Kamu offers a combination of techniques like [watermarks](https://docs.kamu.dev/glossary/#watermark), explicit [retractions and corrections](https://docs.kamu.dev/glossary/#retractions-and-corrections) to automatically account for late arriving data and simultaneously provide **minimal latency** and **accuracy and consistency** of data. Continue to [other examples](https://docs.kamu.dev/cli/get-started/examples/) to learn more.\n",
    "\n",
    "</div>"
   ]
  },
  {
   "cell_type": "code",
   "execution_count": null,
   "id": "b16c6926",
   "metadata": {},
   "outputs": [],
   "source": []
  }
 ],
 "metadata": {
  "kernelspec": {
   "display_name": "PySpark",
   "language": "python",
   "name": "pysparkkernel"
  },
  "language_info": {
   "codemirror_mode": {
    "name": "python",
    "version": 3
   },
   "file_extension": ".py",
   "mimetype": "text/x-python",
   "name": "pyspark",
   "pygments_lexer": "python3"
  }
 },
 "nbformat": 4,
 "nbformat_minor": 5
}
