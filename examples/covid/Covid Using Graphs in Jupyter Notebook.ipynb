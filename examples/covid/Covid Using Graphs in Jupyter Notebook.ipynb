{
 "cells": [
  {
   "cell_type": "markdown",
   "id": "dd77739f",
   "metadata": {},
   "source": [
    "<center>\n",
    "<a href=\"https://github.com/kamu-data/kamu-cli\">\n",
    "<img alt=\"kamu\" src=\"https://raw.githubusercontent.com/kamu-data/kamu-cli/master/docs/readme_files/kamu_logo.png\" width=270/>\n",
    "</a>\n",
    "</center>\n",
    "\n",
    "<br/>\n",
    "\n",
    "<div align=\"center\">\n",
    "<a href=\"https://github.com/kamu-data/kamu-cli\">Repo</a> | \n",
    "<a href=\"https://docs.kamu.dev/cli/\">Docs</a> | \n",
    "<a href=\"https://docs.kamu.dev/cli/learn/learning-materials/\">Tutorials</a> | \n",
    "<a href=\"https://docs.kamu.dev/cli/learn/examples/\">Examples</a> |\n",
    "<a href=\"https://docs.kamu.dev/cli/get-started/faq/\">FAQ</a> |\n",
    "<a href=\"https://discord.gg/nU6TXRQNXC\">Discord</a> |\n",
    "<a href=\"https://kamu.dev\">Website</a>\n",
    "</div>\n",
    "\n",
    "\n",
    "<center>\n",
    "\n",
    "<br/>\n",
    "    \n",
    "# Covid Jupyter Notebook\n",
    "\n",
    "</center>"
   ]
  },
  {
   "cell_type": "markdown",
   "id": "bd153e3f",
   "metadata": {},
   "source": [
    "In this tutorial there is a step by step guide on how to use the Covid data make visually pleasing graphs and use SQL to edit data."
   ]
  },
  {
   "cell_type": "markdown",
   "id": "7ddb58f7",
   "metadata": {},
   "source": [
    "<div class=\"alert alert-block alert-success\">\n",
    "To follow this example checkout kamu-cli repository and navigate into the examples/covid sub-directory.\n",
    "\n",
    "Create a temporary kamu workspace in that folder using:\n",
    "<p style=\"background:black\">\n",
    "<code style=\"background:black;color:white\">kamu init\n",
    "</code>\n",
    "</p>\n",
    "</div>"
   ]
  },
  {
   "cell_type": "markdown",
   "id": "adeae959",
   "metadata": {},
   "source": [
    "<div class=\"alert alert-block alert-success\">\n",
    "Then add all dataset manifests found in the current directory:\n",
    "<p style=\"background:black\">\n",
    "<code style=\"background:black;color:white\">kamu add --recursive .\n",
    "kamu pull --all\n",
    "</code>\n",
    "</p>\n",
    "</div>"
   ]
  },
  {
   "cell_type": "markdown",
   "id": "c2c61eee",
   "metadata": {},
   "source": [
    "## Load Kamu Extension\n",
    "<div class=\"alert alert-block alert-success\">\n",
    "Start by loading <code>kamu</code> Jupyter extension in your terminal:\n",
    "</div>"
   ]
  },
  {
   "cell_type": "code",
   "execution_count": 1,
   "id": "28c1c94a",
   "metadata": {
    "scrolled": true
   },
   "outputs": [],
   "source": [
    "%load_ext kamu"
   ]
  },
  {
   "cell_type": "markdown",
   "id": "b4c3ad82",
   "metadata": {},
   "source": [
    "## Import and Test Data\n",
    "<div class=\"alert alert-block alert-success\">\n",
    "Now it is time to start importing your Covid data by province. First import the data from the province of BC by using the command <code>%import dataset</code>. An alias was created to make it easier to call this file.\n",
    "</div>"
   ]
  },
  {
   "cell_type": "code",
   "execution_count": 2,
   "id": "f665cd74",
   "metadata": {
    "scrolled": true
   },
   "outputs": [
    {
     "name": "stdout",
     "output_type": "stream",
     "text": [
      "Starting Spark application\n"
     ]
    },
    {
     "data": {
      "text/html": [
       "<table>\n",
       "<tr><th>ID</th><th>YARN Application ID</th><th>Kind</th><th>State</th><th>Spark UI</th><th>Driver log</th><th>User</th><th>Current session?</th></tr><tr><td>6</td><td>None</td><td>pyspark</td><td>idle</td><td></td><td></td><td>None</td><td>✔</td></tr></table>"
      ],
      "text/plain": [
       "<IPython.core.display.HTML object>"
      ]
     },
     "metadata": {},
     "output_type": "display_data"
    },
    {
     "data": {
      "application/vnd.jupyter.widget-view+json": {
       "model_id": "",
       "version_major": 2,
       "version_minor": 0
      },
      "text/plain": [
       "FloatProgress(value=0.0, bar_style='info', description='Progress:', layout=Layout(height='25px', width='50%'),…"
      ]
     },
     "metadata": {},
     "output_type": "display_data"
    },
    {
     "name": "stdout",
     "output_type": "stream",
     "text": [
      "SparkSession available as 'spark'.\n"
     ]
    },
    {
     "data": {
      "application/vnd.jupyter.widget-view+json": {
       "model_id": "",
       "version_major": 2,
       "version_minor": 0
      },
      "text/plain": [
       "FloatProgress(value=0.0, bar_style='info', description='Progress:', layout=Layout(height='25px', width='50%'),…"
      ]
     },
     "metadata": {},
     "output_type": "display_data"
    }
   ],
   "source": [
    "%import_dataset covid19.british-columbia.case-details --alias cases_bc"
   ]
  },
  {
   "cell_type": "markdown",
   "id": "64b3449f",
   "metadata": {},
   "source": [
    "<div class=\"alert alert-block alert-success\">\n",
    "To test if the data was loaded correctly a SQL querry is run.\n",
    "</div>"
   ]
  },
  {
   "cell_type": "code",
   "execution_count": 3,
   "id": "cb505b23",
   "metadata": {
    "scrolled": true
   },
   "outputs": [
    {
     "data": {
      "application/vnd.jupyter.widget-view+json": {
       "model_id": "",
       "version_major": 2,
       "version_minor": 0
      },
      "text/plain": [
       "FloatProgress(value=0.0, bar_style='info', description='Progress:', layout=Layout(height='25px', width='50%'),…"
      ]
     },
     "metadata": {},
     "output_type": "display_data"
    },
    {
     "data": {
      "application/vnd.jupyter.widget-view+json": {
       "model_id": "cc8431036a80461b8a9b710f3d312a84",
       "version_major": 2,
       "version_minor": 0
      },
      "text/plain": [
       "VBox(children=(HBox(children=(HTML(value='Type:'), Button(description='Table', layout=Layout(width='70px'), st…"
      ]
     },
     "metadata": {},
     "output_type": "display_data"
    },
    {
     "data": {
      "application/vnd.jupyter.widget-view+json": {
       "model_id": "32647a409f8f4c1a9e9260fda508f87d",
       "version_major": 2,
       "version_minor": 0
      },
      "text/plain": [
       "Output()"
      ]
     },
     "metadata": {},
     "output_type": "display_data"
    }
   ],
   "source": [
    "%%sql\n",
    "SELECT * FROM cases_bc\n",
    "ORDER BY id DESC\n",
    "LIMIT 10"
   ]
  },
  {
   "cell_type": "markdown",
   "id": "665855a7",
   "metadata": {},
   "source": [
    "<div class=\"alert alert-block alert-success\">\n",
    "Now it is time to import the rest of the Covid data files and create aliases for them\n",
    "</div>"
   ]
  },
  {
   "cell_type": "code",
   "execution_count": 4,
   "id": "50a8426b",
   "metadata": {},
   "outputs": [
    {
     "data": {
      "application/vnd.jupyter.widget-view+json": {
       "model_id": "",
       "version_major": 2,
       "version_minor": 0
      },
      "text/plain": [
       "FloatProgress(value=0.0, bar_style='info', description='Progress:', layout=Layout(height='25px', width='50%'),…"
      ]
     },
     "metadata": {},
     "output_type": "display_data"
    },
    {
     "data": {
      "application/vnd.jupyter.widget-view+json": {
       "model_id": "",
       "version_major": 2,
       "version_minor": 0
      },
      "text/plain": [
       "FloatProgress(value=0.0, bar_style='info', description='Progress:', layout=Layout(height='25px', width='50%'),…"
      ]
     },
     "metadata": {},
     "output_type": "display_data"
    }
   ],
   "source": [
    "%import_dataset covid19.ontario.case-details --alias cases_on\n",
    "%import_dataset covid19.alberta.case-details --alias cases_ab"
   ]
  },
  {
   "cell_type": "markdown",
   "id": "7b1540af",
   "metadata": {},
   "source": [
    "<div class=\"alert alert-block alert-success\">\n",
    "Time to test again if the data was imported correctly. You can test the Alberta files by changing  <code>cases_on</code> to   <code>cases_ab</code>. \n",
    "</div>"
   ]
  },
  {
   "cell_type": "code",
   "execution_count": 5,
   "id": "5c50f473",
   "metadata": {
    "scrolled": true
   },
   "outputs": [
    {
     "data": {
      "application/vnd.jupyter.widget-view+json": {
       "model_id": "",
       "version_major": 2,
       "version_minor": 0
      },
      "text/plain": [
       "FloatProgress(value=0.0, bar_style='info', description='Progress:', layout=Layout(height='25px', width='50%'),…"
      ]
     },
     "metadata": {},
     "output_type": "display_data"
    },
    {
     "data": {
      "application/vnd.jupyter.widget-view+json": {
       "model_id": "e584308b98d74acfac6ed90260252667",
       "version_major": 2,
       "version_minor": 0
      },
      "text/plain": [
       "VBox(children=(HBox(children=(HTML(value='Type:'), Button(description='Table', layout=Layout(width='70px'), st…"
      ]
     },
     "metadata": {},
     "output_type": "display_data"
    },
    {
     "data": {
      "application/vnd.jupyter.widget-view+json": {
       "model_id": "ff5b5e7700d34919b145d4f6800975d2",
       "version_major": 2,
       "version_minor": 0
      },
      "text/plain": [
       "Output()"
      ]
     },
     "metadata": {},
     "output_type": "display_data"
    }
   ],
   "source": [
    "%%sql\n",
    "SELECT * FROM cases_on\n",
    "ORDER BY id DESC\n",
    "LIMIT 10"
   ]
  },
  {
   "cell_type": "markdown",
   "id": "de367230",
   "metadata": {},
   "source": [
    "<div class=\"alert alert-block alert-success\">\n",
    "Now we are importing a yaml file which allows for changing the age ranges of each of the three provinces so that they align  with eachother. For example only one province has a 90+ whereas the other two has age ranges of 80+. Therefore we need to switch the age ranges to 80+ to compare the data.\n",
    "</div>"
   ]
  },
  {
   "cell_type": "code",
   "execution_count": 6,
   "id": "e3c64739",
   "metadata": {
    "scrolled": false
   },
   "outputs": [
    {
     "data": {
      "application/vnd.jupyter.widget-view+json": {
       "model_id": "",
       "version_major": 2,
       "version_minor": 0
      },
      "text/plain": [
       "FloatProgress(value=0.0, bar_style='info', description='Progress:', layout=Layout(height='25px', width='50%'),…"
      ]
     },
     "metadata": {},
     "output_type": "display_data"
    }
   ],
   "source": [
    "%import_dataset abbcon.case-details --alias cases_three"
   ]
  },
  {
   "cell_type": "markdown",
   "id": "2cb5fe9f",
   "metadata": {},
   "source": [
    "<div class=\"alert alert-block alert-success\">\n",
    "Time to test again if the data was imported correctly.\n",
    "</div>"
   ]
  },
  {
   "cell_type": "code",
   "execution_count": 7,
   "id": "083d28ed",
   "metadata": {
    "scrolled": true
   },
   "outputs": [
    {
     "data": {
      "application/vnd.jupyter.widget-view+json": {
       "model_id": "",
       "version_major": 2,
       "version_minor": 0
      },
      "text/plain": [
       "FloatProgress(value=0.0, bar_style='info', description='Progress:', layout=Layout(height='25px', width='50%'),…"
      ]
     },
     "metadata": {},
     "output_type": "display_data"
    },
    {
     "data": {
      "application/vnd.jupyter.widget-view+json": {
       "model_id": "ee0caf1cd34541fbb5ca472415a6d857",
       "version_major": 2,
       "version_minor": 0
      },
      "text/plain": [
       "VBox(children=(HBox(children=(HTML(value='Type:'), Button(description='Table', layout=Layout(width='70px'), st…"
      ]
     },
     "metadata": {},
     "output_type": "display_data"
    },
    {
     "data": {
      "application/vnd.jupyter.widget-view+json": {
       "model_id": "1116c7aff2d5494581a6f2fbe0a6329f",
       "version_major": 2,
       "version_minor": 0
      },
      "text/plain": [
       "Output()"
      ]
     },
     "metadata": {},
     "output_type": "display_data"
    }
   ],
   "source": [
    "%%sql\n",
    "SELECT * FROM cases_three\n",
    "LIMIT 10"
   ]
  },
  {
   "cell_type": "markdown",
   "id": "9d33ec36",
   "metadata": {},
   "source": [
    "<div class=\"alert alert-block alert-success\">With the below SQL querry you can compare the cases per age range per province\n",
    " </div>"
   ]
  },
  {
   "cell_type": "code",
   "execution_count": 8,
   "id": "e57b2944",
   "metadata": {},
   "outputs": [
    {
     "data": {
      "application/vnd.jupyter.widget-view+json": {
       "model_id": "",
       "version_major": 2,
       "version_minor": 0
      },
      "text/plain": [
       "FloatProgress(value=0.0, bar_style='info', description='Progress:', layout=Layout(height='25px', width='50%'),…"
      ]
     },
     "metadata": {},
     "output_type": "display_data"
    },
    {
     "data": {
      "application/vnd.jupyter.widget-view+json": {
       "model_id": "d9c4616872d8484b860ddb267fd01ced",
       "version_major": 2,
       "version_minor": 0
      },
      "text/plain": [
       "VBox(children=(HBox(children=(HTML(value='Type:'), Button(description='Table', layout=Layout(width='70px'), st…"
      ]
     },
     "metadata": {},
     "output_type": "display_data"
    },
    {
     "data": {
      "application/vnd.jupyter.widget-view+json": {
       "model_id": "8ef8950055fd499b926ad621c102dcd8",
       "version_major": 2,
       "version_minor": 0
      },
      "text/plain": [
       "Output()"
      ]
     },
     "metadata": {},
     "output_type": "display_data"
    }
   ],
   "source": [
    "%%sql\n",
    "SELECT province, age_group, COUNT(*) \n",
    "FROM cases_three\n",
    "GROUP BY province, age_group\n",
    "ORDER BY province, age_group;"
   ]
  },
  {
   "cell_type": "markdown",
   "id": "0c2a7e36",
   "metadata": {},
   "source": [
    "<div class=\"alert alert-block alert-success\">\n",
    "Since Quebec does not show data by age, we are importing this data now. However, if you want to test whether the data is correct, you would repeat the SQL query used for case_bc and case_on, but change id to row_id since Quebec uses different headers. This causes issues when combining data which will be talked about more later.\n",
    "</div>"
   ]
  },
  {
   "cell_type": "code",
   "execution_count": 9,
   "id": "084d689e",
   "metadata": {},
   "outputs": [
    {
     "data": {
      "application/vnd.jupyter.widget-view+json": {
       "model_id": "",
       "version_major": 2,
       "version_minor": 0
      },
      "text/plain": [
       "FloatProgress(value=0.0, bar_style='info', description='Progress:', layout=Layout(height='25px', width='50%'),…"
      ]
     },
     "metadata": {},
     "output_type": "display_data"
    }
   ],
   "source": [
    "%import_dataset covid19.quebec.case-details --alias cases_qb"
   ]
  },
  {
   "cell_type": "markdown",
   "id": "314078ef",
   "metadata": {},
   "source": [
    "<div class=\"alert alert-block alert-success\">\n",
    "The next file that you import is case details for the four provinces combined. The file <code>covid19.canada.case-details</code>  uses an SQL query in the yaml file to combine that data so that you don't have to combine them.\n",
    "The SQL data can be found in this yaml. If you open this yaml, you will see an sql query to change the headers to combine the data.\n",
    "</div>"
   ]
  },
  {
   "cell_type": "code",
   "execution_count": 10,
   "id": "d8c32581",
   "metadata": {},
   "outputs": [
    {
     "data": {
      "application/vnd.jupyter.widget-view+json": {
       "model_id": "",
       "version_major": 2,
       "version_minor": 0
      },
      "text/plain": [
       "FloatProgress(value=0.0, bar_style='info', description='Progress:', layout=Layout(height='25px', width='50%'),…"
      ]
     },
     "metadata": {},
     "output_type": "display_data"
    }
   ],
   "source": [
    "%import_dataset covid19.canada.case-details --alias cases_four_provinces"
   ]
  },
  {
   "cell_type": "markdown",
   "id": "03b616c3",
   "metadata": {},
   "source": [
    "<div class=\"alert alert-block alert-success\">\n",
    "Again there is a test to see if the data worked by showing the last 10 data rows.\n",
    "</div>"
   ]
  },
  {
   "cell_type": "code",
   "execution_count": 11,
   "id": "ee795d89",
   "metadata": {
    "scrolled": false
   },
   "outputs": [
    {
     "data": {
      "application/vnd.jupyter.widget-view+json": {
       "model_id": "",
       "version_major": 2,
       "version_minor": 0
      },
      "text/plain": [
       "FloatProgress(value=0.0, bar_style='info', description='Progress:', layout=Layout(height='25px', width='50%'),…"
      ]
     },
     "metadata": {},
     "output_type": "display_data"
    },
    {
     "data": {
      "application/vnd.jupyter.widget-view+json": {
       "model_id": "a5eccfbaf08641e6b86cae70235ced19",
       "version_major": 2,
       "version_minor": 0
      },
      "text/plain": [
       "VBox(children=(HBox(children=(HTML(value='Type:'), Button(description='Table', layout=Layout(width='70px'), st…"
      ]
     },
     "metadata": {},
     "output_type": "display_data"
    },
    {
     "data": {
      "application/vnd.jupyter.widget-view+json": {
       "model_id": "4ecf609b92004b2894480d03198d6ac0",
       "version_major": 2,
       "version_minor": 0
      },
      "text/plain": [
       "Output()"
      ]
     },
     "metadata": {},
     "output_type": "display_data"
    }
   ],
   "source": [
    "%%sql\n",
    "SELECT * FROM cases_four_provinces\n",
    "LIMIT 10"
   ]
  },
  {
   "cell_type": "markdown",
   "id": "fa22f18f",
   "metadata": {},
   "source": [
    "<div class=\"alert alert-block alert-success\">\n",
    "To use this file, a SQL query is created to combine all of the cases by gender and by province\n",
    "</div>"
   ]
  },
  {
   "cell_type": "code",
   "execution_count": 12,
   "id": "f72bdd07",
   "metadata": {
    "scrolled": true
   },
   "outputs": [
    {
     "data": {
      "application/vnd.jupyter.widget-view+json": {
       "model_id": "",
       "version_major": 2,
       "version_minor": 0
      },
      "text/plain": [
       "FloatProgress(value=0.0, bar_style='info', description='Progress:', layout=Layout(height='25px', width='50%'),…"
      ]
     },
     "metadata": {},
     "output_type": "display_data"
    },
    {
     "data": {
      "application/vnd.jupyter.widget-view+json": {
       "model_id": "c01b799039b542e0843a0f0e18a6321a",
       "version_major": 2,
       "version_minor": 0
      },
      "text/plain": [
       "VBox(children=(HBox(children=(HTML(value='Type:'), Button(description='Table', layout=Layout(width='70px'), st…"
      ]
     },
     "metadata": {},
     "output_type": "display_data"
    },
    {
     "data": {
      "application/vnd.jupyter.widget-view+json": {
       "model_id": "943aa9f2cf484cd7bcacf26f799b55f8",
       "version_major": 2,
       "version_minor": 0
      },
      "text/plain": [
       "Output()"
      ]
     },
     "metadata": {},
     "output_type": "display_data"
    }
   ],
   "source": [
    "%%sql -o total_cases\n",
    "SELECT province, gender, COUNT(*) \n",
    "FROM cases_four_provinces\n",
    "GROUP BY province, gender\n",
    "ORDER BY province, gender;"
   ]
  },
  {
   "cell_type": "markdown",
   "id": "65858b3b",
   "metadata": {},
   "source": [
    "<div class=\"alert alert-block alert-success\">\n",
    "    Through <code>plotly.express.bar</code> a bar chart can be created to compare the cases per province then per gender (male, female, unspecified).\n",
    "</div>"
   ]
  },
  {
   "cell_type": "code",
   "execution_count": 13,
   "id": "983ec368",
   "metadata": {},
   "outputs": [
    {
     "data": {
      "application/vnd.plotly.v1+json": {
       "config": {
        "plotlyServerURL": "https://plot.ly"
       },
       "data": [
        {
         "alignmentgroup": "True",
         "hovertemplate": "gender=F<br>province=%{x}<br>count(1)=%{y}<extra></extra>",
         "legendgroup": "F",
         "marker": {
          "color": "#636efa",
          "pattern": {
           "shape": ""
          }
         },
         "name": "F",
         "offsetgroup": "F",
         "orientation": "v",
         "showlegend": true,
         "textposition": "auto",
         "type": "bar",
         "x": [
          "AB",
          "BC",
          "ON",
          "QC"
         ],
         "xaxis": "x",
         "y": [
          313566,
          206564,
          919139,
          446515
         ],
         "yaxis": "y"
        },
        {
         "alignmentgroup": "True",
         "hovertemplate": "gender=M<br>province=%{x}<br>count(1)=%{y}<extra></extra>",
         "legendgroup": "M",
         "marker": {
          "color": "#EF553B",
          "pattern": {
           "shape": ""
          }
         },
         "name": "M",
         "offsetgroup": "M",
         "orientation": "v",
         "showlegend": true,
         "textposition": "auto",
         "type": "bar",
         "x": [
          "AB",
          "BC",
          "ON",
          "QC"
         ],
         "xaxis": "x",
         "y": [
          282308,
          191265,
          737537,
          456454
         ],
         "yaxis": "y"
        },
        {
         "alignmentgroup": "True",
         "hovertemplate": "gender=U<br>province=%{x}<br>count(1)=%{y}<extra></extra>",
         "legendgroup": "U",
         "marker": {
          "color": "#00cc96",
          "pattern": {
           "shape": ""
          }
         },
         "name": "U",
         "offsetgroup": "U",
         "orientation": "v",
         "showlegend": true,
         "textposition": "auto",
         "type": "bar",
         "x": [
          "AB",
          "BC",
          "ON",
          "QC"
         ],
         "xaxis": "x",
         "y": [
          252,
          1665,
          11281,
          481912
         ],
         "yaxis": "y"
        }
       ],
       "layout": {
        "barmode": "relative",
        "legend": {
         "title": {
          "text": "gender"
         },
         "tracegroupgap": 0
        },
        "template": {
         "data": {
          "bar": [
           {
            "error_x": {
             "color": "#2a3f5f"
            },
            "error_y": {
             "color": "#2a3f5f"
            },
            "marker": {
             "line": {
              "color": "#E5ECF6",
              "width": 0.5
             },
             "pattern": {
              "fillmode": "overlay",
              "size": 10,
              "solidity": 0.2
             }
            },
            "type": "bar"
           }
          ],
          "barpolar": [
           {
            "marker": {
             "line": {
              "color": "#E5ECF6",
              "width": 0.5
             },
             "pattern": {
              "fillmode": "overlay",
              "size": 10,
              "solidity": 0.2
             }
            },
            "type": "barpolar"
           }
          ],
          "carpet": [
           {
            "aaxis": {
             "endlinecolor": "#2a3f5f",
             "gridcolor": "white",
             "linecolor": "white",
             "minorgridcolor": "white",
             "startlinecolor": "#2a3f5f"
            },
            "baxis": {
             "endlinecolor": "#2a3f5f",
             "gridcolor": "white",
             "linecolor": "white",
             "minorgridcolor": "white",
             "startlinecolor": "#2a3f5f"
            },
            "type": "carpet"
           }
          ],
          "choropleth": [
           {
            "colorbar": {
             "outlinewidth": 0,
             "ticks": ""
            },
            "type": "choropleth"
           }
          ],
          "contour": [
           {
            "colorbar": {
             "outlinewidth": 0,
             "ticks": ""
            },
            "colorscale": [
             [
              0,
              "#0d0887"
             ],
             [
              0.1111111111111111,
              "#46039f"
             ],
             [
              0.2222222222222222,
              "#7201a8"
             ],
             [
              0.3333333333333333,
              "#9c179e"
             ],
             [
              0.4444444444444444,
              "#bd3786"
             ],
             [
              0.5555555555555556,
              "#d8576b"
             ],
             [
              0.6666666666666666,
              "#ed7953"
             ],
             [
              0.7777777777777778,
              "#fb9f3a"
             ],
             [
              0.8888888888888888,
              "#fdca26"
             ],
             [
              1,
              "#f0f921"
             ]
            ],
            "type": "contour"
           }
          ],
          "contourcarpet": [
           {
            "colorbar": {
             "outlinewidth": 0,
             "ticks": ""
            },
            "type": "contourcarpet"
           }
          ],
          "heatmap": [
           {
            "colorbar": {
             "outlinewidth": 0,
             "ticks": ""
            },
            "colorscale": [
             [
              0,
              "#0d0887"
             ],
             [
              0.1111111111111111,
              "#46039f"
             ],
             [
              0.2222222222222222,
              "#7201a8"
             ],
             [
              0.3333333333333333,
              "#9c179e"
             ],
             [
              0.4444444444444444,
              "#bd3786"
             ],
             [
              0.5555555555555556,
              "#d8576b"
             ],
             [
              0.6666666666666666,
              "#ed7953"
             ],
             [
              0.7777777777777778,
              "#fb9f3a"
             ],
             [
              0.8888888888888888,
              "#fdca26"
             ],
             [
              1,
              "#f0f921"
             ]
            ],
            "type": "heatmap"
           }
          ],
          "heatmapgl": [
           {
            "colorbar": {
             "outlinewidth": 0,
             "ticks": ""
            },
            "colorscale": [
             [
              0,
              "#0d0887"
             ],
             [
              0.1111111111111111,
              "#46039f"
             ],
             [
              0.2222222222222222,
              "#7201a8"
             ],
             [
              0.3333333333333333,
              "#9c179e"
             ],
             [
              0.4444444444444444,
              "#bd3786"
             ],
             [
              0.5555555555555556,
              "#d8576b"
             ],
             [
              0.6666666666666666,
              "#ed7953"
             ],
             [
              0.7777777777777778,
              "#fb9f3a"
             ],
             [
              0.8888888888888888,
              "#fdca26"
             ],
             [
              1,
              "#f0f921"
             ]
            ],
            "type": "heatmapgl"
           }
          ],
          "histogram": [
           {
            "marker": {
             "pattern": {
              "fillmode": "overlay",
              "size": 10,
              "solidity": 0.2
             }
            },
            "type": "histogram"
           }
          ],
          "histogram2d": [
           {
            "colorbar": {
             "outlinewidth": 0,
             "ticks": ""
            },
            "colorscale": [
             [
              0,
              "#0d0887"
             ],
             [
              0.1111111111111111,
              "#46039f"
             ],
             [
              0.2222222222222222,
              "#7201a8"
             ],
             [
              0.3333333333333333,
              "#9c179e"
             ],
             [
              0.4444444444444444,
              "#bd3786"
             ],
             [
              0.5555555555555556,
              "#d8576b"
             ],
             [
              0.6666666666666666,
              "#ed7953"
             ],
             [
              0.7777777777777778,
              "#fb9f3a"
             ],
             [
              0.8888888888888888,
              "#fdca26"
             ],
             [
              1,
              "#f0f921"
             ]
            ],
            "type": "histogram2d"
           }
          ],
          "histogram2dcontour": [
           {
            "colorbar": {
             "outlinewidth": 0,
             "ticks": ""
            },
            "colorscale": [
             [
              0,
              "#0d0887"
             ],
             [
              0.1111111111111111,
              "#46039f"
             ],
             [
              0.2222222222222222,
              "#7201a8"
             ],
             [
              0.3333333333333333,
              "#9c179e"
             ],
             [
              0.4444444444444444,
              "#bd3786"
             ],
             [
              0.5555555555555556,
              "#d8576b"
             ],
             [
              0.6666666666666666,
              "#ed7953"
             ],
             [
              0.7777777777777778,
              "#fb9f3a"
             ],
             [
              0.8888888888888888,
              "#fdca26"
             ],
             [
              1,
              "#f0f921"
             ]
            ],
            "type": "histogram2dcontour"
           }
          ],
          "mesh3d": [
           {
            "colorbar": {
             "outlinewidth": 0,
             "ticks": ""
            },
            "type": "mesh3d"
           }
          ],
          "parcoords": [
           {
            "line": {
             "colorbar": {
              "outlinewidth": 0,
              "ticks": ""
             }
            },
            "type": "parcoords"
           }
          ],
          "pie": [
           {
            "automargin": true,
            "type": "pie"
           }
          ],
          "scatter": [
           {
            "fillpattern": {
             "fillmode": "overlay",
             "size": 10,
             "solidity": 0.2
            },
            "type": "scatter"
           }
          ],
          "scatter3d": [
           {
            "line": {
             "colorbar": {
              "outlinewidth": 0,
              "ticks": ""
             }
            },
            "marker": {
             "colorbar": {
              "outlinewidth": 0,
              "ticks": ""
             }
            },
            "type": "scatter3d"
           }
          ],
          "scattercarpet": [
           {
            "marker": {
             "colorbar": {
              "outlinewidth": 0,
              "ticks": ""
             }
            },
            "type": "scattercarpet"
           }
          ],
          "scattergeo": [
           {
            "marker": {
             "colorbar": {
              "outlinewidth": 0,
              "ticks": ""
             }
            },
            "type": "scattergeo"
           }
          ],
          "scattergl": [
           {
            "marker": {
             "colorbar": {
              "outlinewidth": 0,
              "ticks": ""
             }
            },
            "type": "scattergl"
           }
          ],
          "scattermapbox": [
           {
            "marker": {
             "colorbar": {
              "outlinewidth": 0,
              "ticks": ""
             }
            },
            "type": "scattermapbox"
           }
          ],
          "scatterpolar": [
           {
            "marker": {
             "colorbar": {
              "outlinewidth": 0,
              "ticks": ""
             }
            },
            "type": "scatterpolar"
           }
          ],
          "scatterpolargl": [
           {
            "marker": {
             "colorbar": {
              "outlinewidth": 0,
              "ticks": ""
             }
            },
            "type": "scatterpolargl"
           }
          ],
          "scatterternary": [
           {
            "marker": {
             "colorbar": {
              "outlinewidth": 0,
              "ticks": ""
             }
            },
            "type": "scatterternary"
           }
          ],
          "surface": [
           {
            "colorbar": {
             "outlinewidth": 0,
             "ticks": ""
            },
            "colorscale": [
             [
              0,
              "#0d0887"
             ],
             [
              0.1111111111111111,
              "#46039f"
             ],
             [
              0.2222222222222222,
              "#7201a8"
             ],
             [
              0.3333333333333333,
              "#9c179e"
             ],
             [
              0.4444444444444444,
              "#bd3786"
             ],
             [
              0.5555555555555556,
              "#d8576b"
             ],
             [
              0.6666666666666666,
              "#ed7953"
             ],
             [
              0.7777777777777778,
              "#fb9f3a"
             ],
             [
              0.8888888888888888,
              "#fdca26"
             ],
             [
              1,
              "#f0f921"
             ]
            ],
            "type": "surface"
           }
          ],
          "table": [
           {
            "cells": {
             "fill": {
              "color": "#EBF0F8"
             },
             "line": {
              "color": "white"
             }
            },
            "header": {
             "fill": {
              "color": "#C8D4E3"
             },
             "line": {
              "color": "white"
             }
            },
            "type": "table"
           }
          ]
         },
         "layout": {
          "annotationdefaults": {
           "arrowcolor": "#2a3f5f",
           "arrowhead": 0,
           "arrowwidth": 1
          },
          "autotypenumbers": "strict",
          "coloraxis": {
           "colorbar": {
            "outlinewidth": 0,
            "ticks": ""
           }
          },
          "colorscale": {
           "diverging": [
            [
             0,
             "#8e0152"
            ],
            [
             0.1,
             "#c51b7d"
            ],
            [
             0.2,
             "#de77ae"
            ],
            [
             0.3,
             "#f1b6da"
            ],
            [
             0.4,
             "#fde0ef"
            ],
            [
             0.5,
             "#f7f7f7"
            ],
            [
             0.6,
             "#e6f5d0"
            ],
            [
             0.7,
             "#b8e186"
            ],
            [
             0.8,
             "#7fbc41"
            ],
            [
             0.9,
             "#4d9221"
            ],
            [
             1,
             "#276419"
            ]
           ],
           "sequential": [
            [
             0,
             "#0d0887"
            ],
            [
             0.1111111111111111,
             "#46039f"
            ],
            [
             0.2222222222222222,
             "#7201a8"
            ],
            [
             0.3333333333333333,
             "#9c179e"
            ],
            [
             0.4444444444444444,
             "#bd3786"
            ],
            [
             0.5555555555555556,
             "#d8576b"
            ],
            [
             0.6666666666666666,
             "#ed7953"
            ],
            [
             0.7777777777777778,
             "#fb9f3a"
            ],
            [
             0.8888888888888888,
             "#fdca26"
            ],
            [
             1,
             "#f0f921"
            ]
           ],
           "sequentialminus": [
            [
             0,
             "#0d0887"
            ],
            [
             0.1111111111111111,
             "#46039f"
            ],
            [
             0.2222222222222222,
             "#7201a8"
            ],
            [
             0.3333333333333333,
             "#9c179e"
            ],
            [
             0.4444444444444444,
             "#bd3786"
            ],
            [
             0.5555555555555556,
             "#d8576b"
            ],
            [
             0.6666666666666666,
             "#ed7953"
            ],
            [
             0.7777777777777778,
             "#fb9f3a"
            ],
            [
             0.8888888888888888,
             "#fdca26"
            ],
            [
             1,
             "#f0f921"
            ]
           ]
          },
          "colorway": [
           "#636efa",
           "#EF553B",
           "#00cc96",
           "#ab63fa",
           "#FFA15A",
           "#19d3f3",
           "#FF6692",
           "#B6E880",
           "#FF97FF",
           "#FECB52"
          ],
          "font": {
           "color": "#2a3f5f"
          },
          "geo": {
           "bgcolor": "white",
           "lakecolor": "white",
           "landcolor": "#E5ECF6",
           "showlakes": true,
           "showland": true,
           "subunitcolor": "white"
          },
          "hoverlabel": {
           "align": "left"
          },
          "hovermode": "closest",
          "mapbox": {
           "style": "light"
          },
          "paper_bgcolor": "white",
          "plot_bgcolor": "#E5ECF6",
          "polar": {
           "angularaxis": {
            "gridcolor": "white",
            "linecolor": "white",
            "ticks": ""
           },
           "bgcolor": "#E5ECF6",
           "radialaxis": {
            "gridcolor": "white",
            "linecolor": "white",
            "ticks": ""
           }
          },
          "scene": {
           "xaxis": {
            "backgroundcolor": "#E5ECF6",
            "gridcolor": "white",
            "gridwidth": 2,
            "linecolor": "white",
            "showbackground": true,
            "ticks": "",
            "zerolinecolor": "white"
           },
           "yaxis": {
            "backgroundcolor": "#E5ECF6",
            "gridcolor": "white",
            "gridwidth": 2,
            "linecolor": "white",
            "showbackground": true,
            "ticks": "",
            "zerolinecolor": "white"
           },
           "zaxis": {
            "backgroundcolor": "#E5ECF6",
            "gridcolor": "white",
            "gridwidth": 2,
            "linecolor": "white",
            "showbackground": true,
            "ticks": "",
            "zerolinecolor": "white"
           }
          },
          "shapedefaults": {
           "line": {
            "color": "#2a3f5f"
           }
          },
          "ternary": {
           "aaxis": {
            "gridcolor": "white",
            "linecolor": "white",
            "ticks": ""
           },
           "baxis": {
            "gridcolor": "white",
            "linecolor": "white",
            "ticks": ""
           },
           "bgcolor": "#E5ECF6",
           "caxis": {
            "gridcolor": "white",
            "linecolor": "white",
            "ticks": ""
           }
          },
          "title": {
           "x": 0.05
          },
          "xaxis": {
           "automargin": true,
           "gridcolor": "white",
           "linecolor": "white",
           "ticks": "",
           "title": {
            "standoff": 15
           },
           "zerolinecolor": "white",
           "zerolinewidth": 2
          },
          "yaxis": {
           "automargin": true,
           "gridcolor": "white",
           "linecolor": "white",
           "ticks": "",
           "title": {
            "standoff": 15
           },
           "zerolinecolor": "white",
           "zerolinewidth": 2
          }
         }
        },
        "title": {
         "text": "Cases per Gender"
        },
        "xaxis": {
         "anchor": "y",
         "domain": [
          0,
          1
         ],
         "title": {
          "text": "province"
         }
        },
        "yaxis": {
         "anchor": "x",
         "domain": [
          0,
          1
         ],
         "title": {
          "text": "count(1)"
         }
        }
       }
      },
      "text/html": [
       "<div>                            <div id=\"dc1f695f-f56f-499d-955a-573d8aa7fc02\" class=\"plotly-graph-div\" style=\"height:525px; width:100%;\"></div>            <script type=\"text/javascript\">                require([\"plotly\"], function(Plotly) {                    window.PLOTLYENV=window.PLOTLYENV || {};                                    if (document.getElementById(\"dc1f695f-f56f-499d-955a-573d8aa7fc02\")) {                    Plotly.newPlot(                        \"dc1f695f-f56f-499d-955a-573d8aa7fc02\",                        [{\"alignmentgroup\":\"True\",\"hovertemplate\":\"gender=F\\u003cbr\\u003eprovince=%{x}\\u003cbr\\u003ecount(1)=%{y}\\u003cextra\\u003e\\u003c\\u002fextra\\u003e\",\"legendgroup\":\"F\",\"marker\":{\"color\":\"#636efa\",\"pattern\":{\"shape\":\"\"}},\"name\":\"F\",\"offsetgroup\":\"F\",\"orientation\":\"v\",\"showlegend\":true,\"textposition\":\"auto\",\"x\":[\"AB\",\"BC\",\"ON\",\"QC\"],\"xaxis\":\"x\",\"y\":[313566,206564,919139,446515],\"yaxis\":\"y\",\"type\":\"bar\"},{\"alignmentgroup\":\"True\",\"hovertemplate\":\"gender=M\\u003cbr\\u003eprovince=%{x}\\u003cbr\\u003ecount(1)=%{y}\\u003cextra\\u003e\\u003c\\u002fextra\\u003e\",\"legendgroup\":\"M\",\"marker\":{\"color\":\"#EF553B\",\"pattern\":{\"shape\":\"\"}},\"name\":\"M\",\"offsetgroup\":\"M\",\"orientation\":\"v\",\"showlegend\":true,\"textposition\":\"auto\",\"x\":[\"AB\",\"BC\",\"ON\",\"QC\"],\"xaxis\":\"x\",\"y\":[282308,191265,737537,456454],\"yaxis\":\"y\",\"type\":\"bar\"},{\"alignmentgroup\":\"True\",\"hovertemplate\":\"gender=U\\u003cbr\\u003eprovince=%{x}\\u003cbr\\u003ecount(1)=%{y}\\u003cextra\\u003e\\u003c\\u002fextra\\u003e\",\"legendgroup\":\"U\",\"marker\":{\"color\":\"#00cc96\",\"pattern\":{\"shape\":\"\"}},\"name\":\"U\",\"offsetgroup\":\"U\",\"orientation\":\"v\",\"showlegend\":true,\"textposition\":\"auto\",\"x\":[\"AB\",\"BC\",\"ON\",\"QC\"],\"xaxis\":\"x\",\"y\":[252,1665,11281,481912],\"yaxis\":\"y\",\"type\":\"bar\"}],                        {\"template\":{\"data\":{\"histogram2dcontour\":[{\"type\":\"histogram2dcontour\",\"colorbar\":{\"outlinewidth\":0,\"ticks\":\"\"},\"colorscale\":[[0.0,\"#0d0887\"],[0.1111111111111111,\"#46039f\"],[0.2222222222222222,\"#7201a8\"],[0.3333333333333333,\"#9c179e\"],[0.4444444444444444,\"#bd3786\"],[0.5555555555555556,\"#d8576b\"],[0.6666666666666666,\"#ed7953\"],[0.7777777777777778,\"#fb9f3a\"],[0.8888888888888888,\"#fdca26\"],[1.0,\"#f0f921\"]]}],\"choropleth\":[{\"type\":\"choropleth\",\"colorbar\":{\"outlinewidth\":0,\"ticks\":\"\"}}],\"histogram2d\":[{\"type\":\"histogram2d\",\"colorbar\":{\"outlinewidth\":0,\"ticks\":\"\"},\"colorscale\":[[0.0,\"#0d0887\"],[0.1111111111111111,\"#46039f\"],[0.2222222222222222,\"#7201a8\"],[0.3333333333333333,\"#9c179e\"],[0.4444444444444444,\"#bd3786\"],[0.5555555555555556,\"#d8576b\"],[0.6666666666666666,\"#ed7953\"],[0.7777777777777778,\"#fb9f3a\"],[0.8888888888888888,\"#fdca26\"],[1.0,\"#f0f921\"]]}],\"heatmap\":[{\"type\":\"heatmap\",\"colorbar\":{\"outlinewidth\":0,\"ticks\":\"\"},\"colorscale\":[[0.0,\"#0d0887\"],[0.1111111111111111,\"#46039f\"],[0.2222222222222222,\"#7201a8\"],[0.3333333333333333,\"#9c179e\"],[0.4444444444444444,\"#bd3786\"],[0.5555555555555556,\"#d8576b\"],[0.6666666666666666,\"#ed7953\"],[0.7777777777777778,\"#fb9f3a\"],[0.8888888888888888,\"#fdca26\"],[1.0,\"#f0f921\"]]}],\"heatmapgl\":[{\"type\":\"heatmapgl\",\"colorbar\":{\"outlinewidth\":0,\"ticks\":\"\"},\"colorscale\":[[0.0,\"#0d0887\"],[0.1111111111111111,\"#46039f\"],[0.2222222222222222,\"#7201a8\"],[0.3333333333333333,\"#9c179e\"],[0.4444444444444444,\"#bd3786\"],[0.5555555555555556,\"#d8576b\"],[0.6666666666666666,\"#ed7953\"],[0.7777777777777778,\"#fb9f3a\"],[0.8888888888888888,\"#fdca26\"],[1.0,\"#f0f921\"]]}],\"contourcarpet\":[{\"type\":\"contourcarpet\",\"colorbar\":{\"outlinewidth\":0,\"ticks\":\"\"}}],\"contour\":[{\"type\":\"contour\",\"colorbar\":{\"outlinewidth\":0,\"ticks\":\"\"},\"colorscale\":[[0.0,\"#0d0887\"],[0.1111111111111111,\"#46039f\"],[0.2222222222222222,\"#7201a8\"],[0.3333333333333333,\"#9c179e\"],[0.4444444444444444,\"#bd3786\"],[0.5555555555555556,\"#d8576b\"],[0.6666666666666666,\"#ed7953\"],[0.7777777777777778,\"#fb9f3a\"],[0.8888888888888888,\"#fdca26\"],[1.0,\"#f0f921\"]]}],\"surface\":[{\"type\":\"surface\",\"colorbar\":{\"outlinewidth\":0,\"ticks\":\"\"},\"colorscale\":[[0.0,\"#0d0887\"],[0.1111111111111111,\"#46039f\"],[0.2222222222222222,\"#7201a8\"],[0.3333333333333333,\"#9c179e\"],[0.4444444444444444,\"#bd3786\"],[0.5555555555555556,\"#d8576b\"],[0.6666666666666666,\"#ed7953\"],[0.7777777777777778,\"#fb9f3a\"],[0.8888888888888888,\"#fdca26\"],[1.0,\"#f0f921\"]]}],\"mesh3d\":[{\"type\":\"mesh3d\",\"colorbar\":{\"outlinewidth\":0,\"ticks\":\"\"}}],\"scatter\":[{\"fillpattern\":{\"fillmode\":\"overlay\",\"size\":10,\"solidity\":0.2},\"type\":\"scatter\"}],\"parcoords\":[{\"type\":\"parcoords\",\"line\":{\"colorbar\":{\"outlinewidth\":0,\"ticks\":\"\"}}}],\"scatterpolargl\":[{\"type\":\"scatterpolargl\",\"marker\":{\"colorbar\":{\"outlinewidth\":0,\"ticks\":\"\"}}}],\"bar\":[{\"error_x\":{\"color\":\"#2a3f5f\"},\"error_y\":{\"color\":\"#2a3f5f\"},\"marker\":{\"line\":{\"color\":\"#E5ECF6\",\"width\":0.5},\"pattern\":{\"fillmode\":\"overlay\",\"size\":10,\"solidity\":0.2}},\"type\":\"bar\"}],\"scattergeo\":[{\"type\":\"scattergeo\",\"marker\":{\"colorbar\":{\"outlinewidth\":0,\"ticks\":\"\"}}}],\"scatterpolar\":[{\"type\":\"scatterpolar\",\"marker\":{\"colorbar\":{\"outlinewidth\":0,\"ticks\":\"\"}}}],\"histogram\":[{\"marker\":{\"pattern\":{\"fillmode\":\"overlay\",\"size\":10,\"solidity\":0.2}},\"type\":\"histogram\"}],\"scattergl\":[{\"type\":\"scattergl\",\"marker\":{\"colorbar\":{\"outlinewidth\":0,\"ticks\":\"\"}}}],\"scatter3d\":[{\"type\":\"scatter3d\",\"line\":{\"colorbar\":{\"outlinewidth\":0,\"ticks\":\"\"}},\"marker\":{\"colorbar\":{\"outlinewidth\":0,\"ticks\":\"\"}}}],\"scattermapbox\":[{\"type\":\"scattermapbox\",\"marker\":{\"colorbar\":{\"outlinewidth\":0,\"ticks\":\"\"}}}],\"scatterternary\":[{\"type\":\"scatterternary\",\"marker\":{\"colorbar\":{\"outlinewidth\":0,\"ticks\":\"\"}}}],\"scattercarpet\":[{\"type\":\"scattercarpet\",\"marker\":{\"colorbar\":{\"outlinewidth\":0,\"ticks\":\"\"}}}],\"carpet\":[{\"aaxis\":{\"endlinecolor\":\"#2a3f5f\",\"gridcolor\":\"white\",\"linecolor\":\"white\",\"minorgridcolor\":\"white\",\"startlinecolor\":\"#2a3f5f\"},\"baxis\":{\"endlinecolor\":\"#2a3f5f\",\"gridcolor\":\"white\",\"linecolor\":\"white\",\"minorgridcolor\":\"white\",\"startlinecolor\":\"#2a3f5f\"},\"type\":\"carpet\"}],\"table\":[{\"cells\":{\"fill\":{\"color\":\"#EBF0F8\"},\"line\":{\"color\":\"white\"}},\"header\":{\"fill\":{\"color\":\"#C8D4E3\"},\"line\":{\"color\":\"white\"}},\"type\":\"table\"}],\"barpolar\":[{\"marker\":{\"line\":{\"color\":\"#E5ECF6\",\"width\":0.5},\"pattern\":{\"fillmode\":\"overlay\",\"size\":10,\"solidity\":0.2}},\"type\":\"barpolar\"}],\"pie\":[{\"automargin\":true,\"type\":\"pie\"}]},\"layout\":{\"autotypenumbers\":\"strict\",\"colorway\":[\"#636efa\",\"#EF553B\",\"#00cc96\",\"#ab63fa\",\"#FFA15A\",\"#19d3f3\",\"#FF6692\",\"#B6E880\",\"#FF97FF\",\"#FECB52\"],\"font\":{\"color\":\"#2a3f5f\"},\"hovermode\":\"closest\",\"hoverlabel\":{\"align\":\"left\"},\"paper_bgcolor\":\"white\",\"plot_bgcolor\":\"#E5ECF6\",\"polar\":{\"bgcolor\":\"#E5ECF6\",\"angularaxis\":{\"gridcolor\":\"white\",\"linecolor\":\"white\",\"ticks\":\"\"},\"radialaxis\":{\"gridcolor\":\"white\",\"linecolor\":\"white\",\"ticks\":\"\"}},\"ternary\":{\"bgcolor\":\"#E5ECF6\",\"aaxis\":{\"gridcolor\":\"white\",\"linecolor\":\"white\",\"ticks\":\"\"},\"baxis\":{\"gridcolor\":\"white\",\"linecolor\":\"white\",\"ticks\":\"\"},\"caxis\":{\"gridcolor\":\"white\",\"linecolor\":\"white\",\"ticks\":\"\"}},\"coloraxis\":{\"colorbar\":{\"outlinewidth\":0,\"ticks\":\"\"}},\"colorscale\":{\"sequential\":[[0.0,\"#0d0887\"],[0.1111111111111111,\"#46039f\"],[0.2222222222222222,\"#7201a8\"],[0.3333333333333333,\"#9c179e\"],[0.4444444444444444,\"#bd3786\"],[0.5555555555555556,\"#d8576b\"],[0.6666666666666666,\"#ed7953\"],[0.7777777777777778,\"#fb9f3a\"],[0.8888888888888888,\"#fdca26\"],[1.0,\"#f0f921\"]],\"sequentialminus\":[[0.0,\"#0d0887\"],[0.1111111111111111,\"#46039f\"],[0.2222222222222222,\"#7201a8\"],[0.3333333333333333,\"#9c179e\"],[0.4444444444444444,\"#bd3786\"],[0.5555555555555556,\"#d8576b\"],[0.6666666666666666,\"#ed7953\"],[0.7777777777777778,\"#fb9f3a\"],[0.8888888888888888,\"#fdca26\"],[1.0,\"#f0f921\"]],\"diverging\":[[0,\"#8e0152\"],[0.1,\"#c51b7d\"],[0.2,\"#de77ae\"],[0.3,\"#f1b6da\"],[0.4,\"#fde0ef\"],[0.5,\"#f7f7f7\"],[0.6,\"#e6f5d0\"],[0.7,\"#b8e186\"],[0.8,\"#7fbc41\"],[0.9,\"#4d9221\"],[1,\"#276419\"]]},\"xaxis\":{\"gridcolor\":\"white\",\"linecolor\":\"white\",\"ticks\":\"\",\"title\":{\"standoff\":15},\"zerolinecolor\":\"white\",\"automargin\":true,\"zerolinewidth\":2},\"yaxis\":{\"gridcolor\":\"white\",\"linecolor\":\"white\",\"ticks\":\"\",\"title\":{\"standoff\":15},\"zerolinecolor\":\"white\",\"automargin\":true,\"zerolinewidth\":2},\"scene\":{\"xaxis\":{\"backgroundcolor\":\"#E5ECF6\",\"gridcolor\":\"white\",\"linecolor\":\"white\",\"showbackground\":true,\"ticks\":\"\",\"zerolinecolor\":\"white\",\"gridwidth\":2},\"yaxis\":{\"backgroundcolor\":\"#E5ECF6\",\"gridcolor\":\"white\",\"linecolor\":\"white\",\"showbackground\":true,\"ticks\":\"\",\"zerolinecolor\":\"white\",\"gridwidth\":2},\"zaxis\":{\"backgroundcolor\":\"#E5ECF6\",\"gridcolor\":\"white\",\"linecolor\":\"white\",\"showbackground\":true,\"ticks\":\"\",\"zerolinecolor\":\"white\",\"gridwidth\":2}},\"shapedefaults\":{\"line\":{\"color\":\"#2a3f5f\"}},\"annotationdefaults\":{\"arrowcolor\":\"#2a3f5f\",\"arrowhead\":0,\"arrowwidth\":1},\"geo\":{\"bgcolor\":\"white\",\"landcolor\":\"#E5ECF6\",\"subunitcolor\":\"white\",\"showland\":true,\"showlakes\":true,\"lakecolor\":\"white\"},\"title\":{\"x\":0.05},\"mapbox\":{\"style\":\"light\"}}},\"xaxis\":{\"anchor\":\"y\",\"domain\":[0.0,1.0],\"title\":{\"text\":\"province\"}},\"yaxis\":{\"anchor\":\"x\",\"domain\":[0.0,1.0],\"title\":{\"text\":\"count(1)\"}},\"legend\":{\"title\":{\"text\":\"gender\"},\"tracegroupgap\":0},\"title\":{\"text\":\"Cases per Gender\"},\"barmode\":\"relative\"},                        {\"responsive\": true}                    ).then(function(){\n",
       "                            \n",
       "var gd = document.getElementById('dc1f695f-f56f-499d-955a-573d8aa7fc02');\n",
       "var x = new MutationObserver(function (mutations, observer) {{\n",
       "        var display = window.getComputedStyle(gd).display;\n",
       "        if (!display || display === 'none') {{\n",
       "            console.log([gd, 'removed!']);\n",
       "            Plotly.purge(gd);\n",
       "            observer.disconnect();\n",
       "        }}\n",
       "}});\n",
       "\n",
       "// Listen for the removal of the full notebook cells\n",
       "var notebookContainer = gd.closest('#notebook-container');\n",
       "if (notebookContainer) {{\n",
       "    x.observe(notebookContainer, {childList: true});\n",
       "}}\n",
       "\n",
       "// Listen for the clearing of the current output cell\n",
       "var outputEl = gd.closest('.output');\n",
       "if (outputEl) {{\n",
       "    x.observe(outputEl, {childList: true});\n",
       "}}\n",
       "\n",
       "                        })                };                });            </script>        </div>"
      ]
     },
     "metadata": {},
     "output_type": "display_data"
    }
   ],
   "source": [
    "%%local \n",
    "import plotly.express \n",
    "plotly.express.bar(total_cases, x='province', y='count(1)', color='gender', title='Cases per Gender')\n"
   ]
  },
  {
   "cell_type": "markdown",
   "id": "f0c746b6",
   "metadata": {},
   "source": [
    "<div class=\"alert alert-block alert-info\">\n",
    "    By looking through the data you can see that Quebec has a large amount of people who were classified as undefined. This is probably due to Quebec's strict privacy act laws that are part of the Act Respecting Access to Documents Held by Public Bodies and the Protection of Personal Information\n",
    "</div>"
   ]
  },
  {
   "cell_type": "markdown",
   "id": "d65f66df",
   "metadata": {},
   "source": [
    "<div class=\"alert alert-block alert-success\">\n",
    "The last dataset that we are importing is daily cases for the four provinces.\n",
    "</div>"
   ]
  },
  {
   "cell_type": "code",
   "execution_count": 14,
   "id": "8b54ceff",
   "metadata": {},
   "outputs": [
    {
     "data": {
      "application/vnd.jupyter.widget-view+json": {
       "model_id": "",
       "version_major": 2,
       "version_minor": 0
      },
      "text/plain": [
       "FloatProgress(value=0.0, bar_style='info', description='Progress:', layout=Layout(height='25px', width='50%'),…"
      ]
     },
     "metadata": {},
     "output_type": "display_data"
    }
   ],
   "source": [
    "%import_dataset covid19.canada.daily-cases --alias daily_cases"
   ]
  },
  {
   "cell_type": "markdown",
   "id": "44ff2b2a",
   "metadata": {},
   "source": [
    "<div class=\"alert alert-block alert-success\">\n",
    "Now test again to see if the data was succcesfully installed for this file.\n",
    "</div>"
   ]
  },
  {
   "cell_type": "code",
   "execution_count": 15,
   "id": "6884e659",
   "metadata": {},
   "outputs": [
    {
     "data": {
      "application/vnd.jupyter.widget-view+json": {
       "model_id": "",
       "version_major": 2,
       "version_minor": 0
      },
      "text/plain": [
       "FloatProgress(value=0.0, bar_style='info', description='Progress:', layout=Layout(height='25px', width='50%'),…"
      ]
     },
     "metadata": {},
     "output_type": "display_data"
    },
    {
     "data": {
      "application/vnd.jupyter.widget-view+json": {
       "model_id": "29a86b030fec4ce19ac5e482ebcc0fd4",
       "version_major": 2,
       "version_minor": 0
      },
      "text/plain": [
       "VBox(children=(HBox(children=(HTML(value='Type:'), Button(description='Table', layout=Layout(width='70px'), st…"
      ]
     },
     "metadata": {},
     "output_type": "display_data"
    },
    {
     "data": {
      "application/vnd.jupyter.widget-view+json": {
       "model_id": "966dda5cb66047dbb0209f6ae74424fe",
       "version_major": 2,
       "version_minor": 0
      },
      "text/plain": [
       "Output()"
      ]
     },
     "metadata": {},
     "output_type": "display_data"
    }
   ],
   "source": [
    "%%sql -o daily_cases\n",
    "select * from daily_cases"
   ]
  },
  {
   "cell_type": "markdown",
   "id": "083fecc2",
   "metadata": {},
   "source": [
    "<div class=\"alert alert-block alert-success\">\n",
    "The last step is to create a line plot graph to compare the different amount of cases per day by province.\n",
    "</div>"
   ]
  },
  {
   "cell_type": "code",
   "execution_count": 16,
   "id": "7169812b",
   "metadata": {
    "scrolled": true
   },
   "outputs": [
    {
     "data": {
      "application/vnd.plotly.v1+json": {
       "config": {
        "plotlyServerURL": "https://plot.ly"
       },
       "data": [
        {
         "hovertemplate": "province=QC<br>reported_date=%{x}<br>total_daily=%{y}<extra></extra>",
         "legendgroup": "QC",
         "line": {
          "color": "#636efa",
          "dash": "solid"
         },
         "marker": {
          "symbol": "circle"
         },
         "mode": "lines",
         "name": "QC",
         "showlegend": true,
         "type": "scattergl",
         "x": [
          "2020-01-01T23:59:59+00:00",
          "2020-01-10T23:59:59+00:00",
          "2020-01-13T23:59:59+00:00",
          "2020-01-16T23:59:59+00:00",
          "2020-01-21T23:59:59+00:00",
          "2020-01-22T23:59:59+00:00",
          "2020-01-24T23:59:59+00:00",
          "2020-01-25T23:59:59+00:00",
          "2020-01-27T23:59:59+00:00",
          "2020-01-29T23:59:59+00:00",
          "2020-01-31T23:59:59+00:00",
          "2020-02-01T23:59:59+00:00",
          "2020-02-02T23:59:59+00:00",
          "2020-02-05T23:59:59+00:00",
          "2020-02-06T23:59:59+00:00",
          "2020-02-07T23:59:59+00:00",
          "2020-02-10T23:59:59+00:00",
          "2020-02-14T23:59:59+00:00",
          "2020-02-15T23:59:59+00:00",
          "2020-02-16T23:59:59+00:00",
          "2020-02-17T23:59:59+00:00",
          "2020-02-18T23:59:59+00:00",
          "2020-02-19T23:59:59+00:00",
          "2020-02-20T23:59:59+00:00",
          "2020-02-21T23:59:59+00:00",
          "2020-02-22T23:59:59+00:00",
          "2020-02-23T23:59:59+00:00",
          "2020-02-24T23:59:59+00:00",
          "2020-02-25T23:59:59+00:00",
          "2020-02-26T23:59:59+00:00",
          "2020-02-27T23:59:59+00:00",
          "2020-02-28T23:59:59+00:00",
          "2020-02-29T23:59:59+00:00",
          "2020-03-01T23:59:59+00:00",
          "2020-03-02T23:59:59+00:00",
          "2020-03-03T23:59:59+00:00",
          "2020-03-04T23:59:59+00:00",
          "2020-03-05T23:59:59+00:00",
          "2020-03-06T23:59:59+00:00",
          "2020-03-07T23:59:59+00:00",
          "2020-03-08T23:59:59+00:00",
          "2020-03-09T23:59:59+00:00",
          "2020-03-10T23:59:59+00:00",
          "2020-03-11T23:59:59+00:00",
          "2020-03-12T23:59:59+00:00",
          "2020-03-13T23:59:59+00:00",
          "2020-03-14T23:59:59+00:00",
          "2020-03-15T23:59:59+00:00",
          "2020-03-16T23:59:59+00:00",
          "2020-03-17T23:59:59+00:00",
          "2020-03-18T23:59:59+00:00",
          "2020-03-19T23:59:59+00:00",
          "2020-03-20T23:59:59+00:00",
          "2020-03-21T23:59:59+00:00",
          "2020-03-22T23:59:59+00:00",
          "2020-03-23T23:59:59+00:00",
          "2020-03-24T23:59:59+00:00",
          "2020-03-25T23:59:59+00:00",
          "2020-03-26T23:59:59+00:00",
          "2020-03-27T23:59:59+00:00",
          "2020-03-28T23:59:59+00:00",
          "2020-03-29T23:59:59+00:00",
          "2020-03-30T23:59:59+00:00",
          "2020-03-31T23:59:59+00:00",
          "2020-04-01T23:59:59+00:00",
          "2020-04-02T23:59:59+00:00",
          "2020-04-03T23:59:59+00:00",
          "2020-04-04T23:59:59+00:00",
          "2020-04-05T23:59:59+00:00",
          "2020-04-06T23:59:59+00:00",
          "2020-04-07T23:59:59+00:00",
          "2020-04-08T23:59:59+00:00",
          "2020-04-09T23:59:59+00:00",
          "2020-04-10T23:59:59+00:00",
          "2020-04-11T23:59:59+00:00",
          "2020-04-12T23:59:59+00:00",
          "2020-04-13T23:59:59+00:00",
          "2020-04-14T23:59:59+00:00",
          "2020-04-15T23:59:59+00:00",
          "2020-04-16T23:59:59+00:00",
          "2020-04-17T23:59:59+00:00",
          "2020-04-18T23:59:59+00:00",
          "2020-04-19T23:59:59+00:00",
          "2020-04-20T23:59:59+00:00",
          "2020-04-21T23:59:59+00:00",
          "2020-04-22T23:59:59+00:00",
          "2020-04-23T23:59:59+00:00",
          "2020-04-24T23:59:59+00:00",
          "2020-04-25T23:59:59+00:00",
          "2020-04-26T23:59:59+00:00",
          "2020-04-27T23:59:59+00:00",
          "2020-04-28T23:59:59+00:00",
          "2020-04-29T23:59:59+00:00",
          "2020-04-30T23:59:59+00:00",
          "2020-05-01T23:59:59+00:00",
          "2020-05-02T23:59:59+00:00",
          "2020-05-03T23:59:59+00:00",
          "2020-05-04T23:59:59+00:00",
          "2020-05-05T23:59:59+00:00",
          "2020-05-06T23:59:59+00:00",
          "2020-05-07T23:59:59+00:00",
          "2020-05-08T23:59:59+00:00",
          "2020-05-09T23:59:59+00:00",
          "2020-05-10T23:59:59+00:00",
          "2020-05-11T23:59:59+00:00",
          "2020-05-12T23:59:59+00:00",
          "2020-05-13T23:59:59+00:00",
          "2020-05-14T23:59:59+00:00",
          "2020-05-15T23:59:59+00:00",
          "2020-05-16T23:59:59+00:00",
          "2020-05-17T23:59:59+00:00",
          "2020-05-18T23:59:59+00:00",
          "2020-05-19T23:59:59+00:00",
          "2020-05-20T23:59:59+00:00",
          "2020-05-21T23:59:59+00:00",
          "2020-05-22T23:59:59+00:00",
          "2020-05-23T23:59:59+00:00",
          "2020-05-24T23:59:59+00:00",
          "2020-05-25T23:59:59+00:00",
          "2020-05-26T23:59:59+00:00",
          "2020-05-27T23:59:59+00:00",
          "2020-05-28T23:59:59+00:00",
          "2020-05-29T23:59:59+00:00",
          "2020-05-30T23:59:59+00:00",
          "2020-05-31T23:59:59+00:00",
          "2020-06-01T23:59:59+00:00",
          "2020-06-02T23:59:59+00:00",
          "2020-06-03T23:59:59+00:00",
          "2020-06-04T23:59:59+00:00",
          "2020-06-05T23:59:59+00:00",
          "2020-06-06T23:59:59+00:00",
          "2020-06-07T23:59:59+00:00",
          "2020-06-08T23:59:59+00:00",
          "2020-06-09T23:59:59+00:00",
          "2020-06-10T23:59:59+00:00",
          "2020-06-11T23:59:59+00:00",
          "2020-06-12T23:59:59+00:00",
          "2020-06-13T23:59:59+00:00",
          "2020-06-14T23:59:59+00:00",
          "2020-06-15T23:59:59+00:00",
          "2020-06-16T23:59:59+00:00",
          "2020-06-17T23:59:59+00:00",
          "2020-06-18T23:59:59+00:00",
          "2020-06-19T23:59:59+00:00",
          "2020-06-20T23:59:59+00:00",
          "2020-06-21T23:59:59+00:00",
          "2020-06-22T23:59:59+00:00",
          "2020-06-23T23:59:59+00:00",
          "2020-06-24T23:59:59+00:00",
          "2020-06-25T23:59:59+00:00",
          "2020-06-26T23:59:59+00:00",
          "2020-06-27T23:59:59+00:00",
          "2020-06-28T23:59:59+00:00",
          "2020-06-29T23:59:59+00:00",
          "2020-06-30T23:59:59+00:00",
          "2020-07-01T23:59:59+00:00",
          "2020-07-02T23:59:59+00:00",
          "2020-07-03T23:59:59+00:00",
          "2020-07-04T23:59:59+00:00",
          "2020-07-05T23:59:59+00:00",
          "2020-07-06T23:59:59+00:00",
          "2020-07-07T23:59:59+00:00",
          "2020-07-08T23:59:59+00:00",
          "2020-07-09T23:59:59+00:00",
          "2020-07-10T23:59:59+00:00",
          "2020-07-11T23:59:59+00:00",
          "2020-07-12T23:59:59+00:00",
          "2020-07-13T23:59:59+00:00",
          "2020-07-14T23:59:59+00:00",
          "2020-07-15T23:59:59+00:00",
          "2020-07-16T23:59:59+00:00",
          "2020-07-17T23:59:59+00:00",
          "2020-07-18T23:59:59+00:00",
          "2020-07-19T23:59:59+00:00",
          "2020-07-20T23:59:59+00:00",
          "2020-07-21T23:59:59+00:00",
          "2020-07-22T23:59:59+00:00",
          "2020-07-23T23:59:59+00:00",
          "2020-07-24T23:59:59+00:00",
          "2020-07-25T23:59:59+00:00",
          "2020-07-26T23:59:59+00:00",
          "2020-07-27T23:59:59+00:00",
          "2020-07-28T23:59:59+00:00",
          "2020-07-29T23:59:59+00:00",
          "2020-07-30T23:59:59+00:00",
          "2020-07-31T23:59:59+00:00",
          "2020-08-01T23:59:59+00:00",
          "2020-08-02T23:59:59+00:00",
          "2020-08-03T23:59:59+00:00",
          "2020-08-04T23:59:59+00:00",
          "2020-08-05T23:59:59+00:00",
          "2020-08-06T23:59:59+00:00",
          "2020-08-07T23:59:59+00:00",
          "2020-08-08T23:59:59+00:00",
          "2020-08-09T23:59:59+00:00",
          "2020-08-10T23:59:59+00:00",
          "2020-08-11T23:59:59+00:00",
          "2020-08-12T23:59:59+00:00",
          "2020-08-13T23:59:59+00:00",
          "2020-08-14T23:59:59+00:00",
          "2020-08-15T23:59:59+00:00",
          "2020-08-16T23:59:59+00:00",
          "2020-08-17T23:59:59+00:00",
          "2020-08-18T23:59:59+00:00",
          "2020-08-19T23:59:59+00:00",
          "2020-08-20T23:59:59+00:00",
          "2020-08-21T23:59:59+00:00",
          "2020-08-22T23:59:59+00:00",
          "2020-08-23T23:59:59+00:00",
          "2020-08-24T23:59:59+00:00",
          "2020-08-25T23:59:59+00:00",
          "2020-08-26T23:59:59+00:00",
          "2020-08-27T23:59:59+00:00",
          "2020-08-28T23:59:59+00:00",
          "2020-08-29T23:59:59+00:00",
          "2020-08-30T23:59:59+00:00",
          "2020-08-31T23:59:59+00:00",
          "2020-09-01T23:59:59+00:00",
          "2020-09-02T23:59:59+00:00",
          "2020-09-03T23:59:59+00:00",
          "2020-09-04T23:59:59+00:00",
          "2020-09-05T23:59:59+00:00",
          "2020-09-06T23:59:59+00:00",
          "2020-09-07T23:59:59+00:00",
          "2020-09-08T23:59:59+00:00",
          "2020-09-09T23:59:59+00:00",
          "2020-09-10T23:59:59+00:00",
          "2020-09-11T23:59:59+00:00",
          "2020-09-12T23:59:59+00:00",
          "2020-09-13T23:59:59+00:00",
          "2020-09-14T23:59:59+00:00",
          "2020-09-15T23:59:59+00:00",
          "2020-09-16T23:59:59+00:00",
          "2020-09-17T23:59:59+00:00",
          "2020-09-18T23:59:59+00:00",
          "2020-09-19T23:59:59+00:00",
          "2020-09-20T23:59:59+00:00",
          "2020-09-21T23:59:59+00:00",
          "2020-09-22T23:59:59+00:00",
          "2020-09-23T23:59:59+00:00",
          "2020-09-24T23:59:59+00:00",
          "2020-09-25T23:59:59+00:00",
          "2020-09-26T23:59:59+00:00",
          "2020-09-27T23:59:59+00:00",
          "2020-09-28T23:59:59+00:00",
          "2020-09-29T23:59:59+00:00",
          "2020-09-30T23:59:59+00:00",
          "2020-10-01T23:59:59+00:00",
          "2020-10-02T23:59:59+00:00",
          "2020-10-03T23:59:59+00:00",
          "2020-10-04T23:59:59+00:00",
          "2020-10-05T23:59:59+00:00",
          "2020-10-06T23:59:59+00:00",
          "2020-10-07T23:59:59+00:00",
          "2020-10-08T23:59:59+00:00",
          "2020-10-09T23:59:59+00:00",
          "2020-10-10T23:59:59+00:00",
          "2020-10-11T23:59:59+00:00",
          "2020-10-12T23:59:59+00:00",
          "2020-10-13T23:59:59+00:00",
          "2020-10-14T23:59:59+00:00",
          "2020-10-15T23:59:59+00:00",
          "2020-10-16T23:59:59+00:00",
          "2020-10-17T23:59:59+00:00",
          "2020-10-18T23:59:59+00:00",
          "2020-10-19T23:59:59+00:00",
          "2020-10-20T23:59:59+00:00",
          "2020-10-21T23:59:59+00:00",
          "2020-10-22T23:59:59+00:00",
          "2020-10-23T23:59:59+00:00",
          "2020-10-24T23:59:59+00:00",
          "2020-10-25T23:59:59+00:00",
          "2020-10-26T23:59:59+00:00",
          "2020-10-27T23:59:59+00:00",
          "2020-10-28T23:59:59+00:00",
          "2020-10-29T23:59:59+00:00",
          "2020-10-30T23:59:59+00:00",
          "2020-10-31T23:59:59+00:00",
          "2020-11-01T23:59:59+00:00",
          "2020-11-02T23:59:59+00:00",
          "2020-11-03T23:59:59+00:00",
          "2020-11-04T23:59:59+00:00",
          "2020-11-05T23:59:59+00:00",
          "2020-11-06T23:59:59+00:00",
          "2020-11-07T23:59:59+00:00",
          "2020-11-08T23:59:59+00:00",
          "2020-11-09T23:59:59+00:00",
          "2020-11-10T23:59:59+00:00",
          "2020-11-11T23:59:59+00:00",
          "2020-11-12T23:59:59+00:00",
          "2020-11-13T23:59:59+00:00",
          "2020-11-14T23:59:59+00:00",
          "2020-11-15T23:59:59+00:00",
          "2020-11-16T23:59:59+00:00",
          "2020-11-17T23:59:59+00:00",
          "2020-11-18T23:59:59+00:00",
          "2020-11-19T23:59:59+00:00",
          "2020-11-20T23:59:59+00:00",
          "2020-11-21T23:59:59+00:00",
          "2020-11-22T23:59:59+00:00",
          "2020-11-23T23:59:59+00:00",
          "2020-11-24T23:59:59+00:00",
          "2020-11-25T23:59:59+00:00",
          "2020-11-26T23:59:59+00:00",
          "2020-11-27T23:59:59+00:00",
          "2020-11-28T23:59:59+00:00",
          "2020-11-29T23:59:59+00:00",
          "2020-11-30T23:59:59+00:00",
          "2020-12-01T23:59:59+00:00",
          "2020-12-02T23:59:59+00:00",
          "2020-12-03T23:59:59+00:00",
          "2020-12-04T23:59:59+00:00",
          "2020-12-05T23:59:59+00:00",
          "2020-12-06T23:59:59+00:00",
          "2020-12-07T23:59:59+00:00",
          "2020-12-08T23:59:59+00:00",
          "2020-12-09T23:59:59+00:00",
          "2020-12-10T23:59:59+00:00",
          "2020-12-11T23:59:59+00:00",
          "2020-12-12T23:59:59+00:00",
          "2020-12-13T23:59:59+00:00",
          "2020-12-14T23:59:59+00:00",
          "2020-12-15T23:59:59+00:00",
          "2020-12-16T23:59:59+00:00",
          "2020-12-17T23:59:59+00:00",
          "2020-12-18T23:59:59+00:00",
          "2020-12-19T23:59:59+00:00",
          "2020-12-20T23:59:59+00:00",
          "2020-12-21T23:59:59+00:00",
          "2020-12-22T23:59:59+00:00",
          "2020-12-23T23:59:59+00:00",
          "2020-12-24T23:59:59+00:00",
          "2020-12-25T23:59:59+00:00",
          "2020-12-26T23:59:59+00:00",
          "2020-12-27T23:59:59+00:00",
          "2020-12-28T23:59:59+00:00",
          "2020-12-29T23:59:59+00:00",
          "2020-12-30T23:59:59+00:00",
          "2020-12-31T23:59:59+00:00",
          "2021-01-01T23:59:59+00:00",
          "2021-01-02T23:59:59+00:00",
          "2021-01-03T23:59:59+00:00",
          "2021-01-04T23:59:59+00:00",
          "2021-01-05T23:59:59+00:00",
          "2021-01-06T23:59:59+00:00",
          "2021-01-07T23:59:59+00:00",
          "2021-01-08T23:59:59+00:00",
          "2021-01-09T23:59:59+00:00",
          "2021-01-10T23:59:59+00:00",
          "2021-01-11T23:59:59+00:00",
          "2021-01-12T23:59:59+00:00",
          "2021-01-13T23:59:59+00:00",
          "2021-01-14T23:59:59+00:00",
          "2021-01-15T23:59:59+00:00",
          "2021-01-16T23:59:59+00:00",
          "2021-01-17T23:59:59+00:00",
          "2021-01-18T23:59:59+00:00",
          "2021-01-19T23:59:59+00:00",
          "2021-01-20T23:59:59+00:00",
          "2021-01-21T23:59:59+00:00",
          "2021-01-22T23:59:59+00:00",
          "2021-01-23T23:59:59+00:00",
          "2021-01-24T23:59:59+00:00",
          "2021-01-25T23:59:59+00:00",
          "2021-01-26T23:59:59+00:00",
          "2021-01-27T23:59:59+00:00",
          "2021-01-28T23:59:59+00:00",
          "2021-01-29T23:59:59+00:00",
          "2021-01-30T23:59:59+00:00",
          "2021-01-31T23:59:59+00:00",
          "2021-02-01T23:59:59+00:00",
          "2021-02-02T23:59:59+00:00",
          "2021-02-03T23:59:59+00:00",
          "2021-02-04T23:59:59+00:00",
          "2021-02-05T23:59:59+00:00",
          "2021-02-06T23:59:59+00:00",
          "2021-02-07T23:59:59+00:00",
          "2021-02-08T23:59:59+00:00",
          "2021-02-09T23:59:59+00:00",
          "2021-02-10T23:59:59+00:00",
          "2021-02-11T23:59:59+00:00",
          "2021-02-12T23:59:59+00:00",
          "2021-02-13T23:59:59+00:00",
          "2021-02-14T23:59:59+00:00",
          "2021-02-15T23:59:59+00:00",
          "2021-02-16T23:59:59+00:00",
          "2021-02-17T23:59:59+00:00",
          "2021-02-18T23:59:59+00:00",
          "2021-02-19T23:59:59+00:00",
          "2021-02-20T23:59:59+00:00",
          "2021-02-21T23:59:59+00:00",
          "2021-02-22T23:59:59+00:00",
          "2021-02-23T23:59:59+00:00",
          "2021-02-24T23:59:59+00:00",
          "2021-02-25T23:59:59+00:00",
          "2021-02-26T23:59:59+00:00",
          "2021-02-27T23:59:59+00:00",
          "2021-02-28T23:59:59+00:00",
          "2021-03-01T23:59:59+00:00",
          "2021-03-02T23:59:59+00:00",
          "2021-03-03T23:59:59+00:00",
          "2021-03-04T23:59:59+00:00",
          "2021-03-05T23:59:59+00:00",
          "2021-03-06T23:59:59+00:00",
          "2021-03-07T23:59:59+00:00",
          "2021-03-08T23:59:59+00:00",
          "2021-03-09T23:59:59+00:00",
          "2021-03-10T23:59:59+00:00",
          "2021-03-11T23:59:59+00:00",
          "2021-03-12T23:59:59+00:00",
          "2021-03-13T23:59:59+00:00",
          "2021-03-14T23:59:59+00:00",
          "2021-03-15T23:59:59+00:00",
          "2021-03-16T23:59:59+00:00",
          "2021-03-17T23:59:59+00:00",
          "2021-03-18T23:59:59+00:00",
          "2021-03-19T23:59:59+00:00",
          "2021-03-20T23:59:59+00:00",
          "2021-03-21T23:59:59+00:00",
          "2021-03-22T23:59:59+00:00",
          "2021-03-23T23:59:59+00:00",
          "2021-03-24T23:59:59+00:00",
          "2021-03-25T23:59:59+00:00",
          "2021-03-26T23:59:59+00:00",
          "2021-03-27T23:59:59+00:00",
          "2021-03-28T23:59:59+00:00",
          "2021-03-29T23:59:59+00:00",
          "2021-03-30T23:59:59+00:00",
          "2021-03-31T23:59:59+00:00",
          "2021-04-01T23:59:59+00:00",
          "2021-04-02T23:59:59+00:00",
          "2021-04-03T23:59:59+00:00",
          "2021-04-04T23:59:59+00:00",
          "2021-04-05T23:59:59+00:00",
          "2021-04-06T23:59:59+00:00",
          "2021-04-07T23:59:59+00:00",
          "2021-04-08T23:59:59+00:00",
          "2021-04-09T23:59:59+00:00",
          "2021-04-10T23:59:59+00:00",
          "2021-04-11T23:59:59+00:00",
          "2021-04-12T23:59:59+00:00",
          "2021-04-13T23:59:59+00:00",
          "2021-04-14T23:59:59+00:00",
          "2021-04-15T23:59:59+00:00",
          "2021-04-16T23:59:59+00:00",
          "2021-04-17T23:59:59+00:00",
          "2021-04-18T23:59:59+00:00",
          "2021-04-19T23:59:59+00:00",
          "2021-04-20T23:59:59+00:00",
          "2021-04-21T23:59:59+00:00",
          "2021-04-22T23:59:59+00:00",
          "2021-04-23T23:59:59+00:00",
          "2021-04-24T23:59:59+00:00",
          "2021-04-25T23:59:59+00:00",
          "2021-04-26T23:59:59+00:00",
          "2021-04-27T23:59:59+00:00",
          "2021-04-28T23:59:59+00:00",
          "2021-04-29T23:59:59+00:00",
          "2021-04-30T23:59:59+00:00",
          "2021-05-01T23:59:59+00:00",
          "2021-05-02T23:59:59+00:00",
          "2021-05-03T23:59:59+00:00",
          "2021-05-04T23:59:59+00:00",
          "2021-05-05T23:59:59+00:00",
          "2021-05-06T23:59:59+00:00",
          "2021-05-07T23:59:59+00:00",
          "2021-05-08T23:59:59+00:00",
          "2021-05-09T23:59:59+00:00",
          "2021-05-10T23:59:59+00:00",
          "2021-05-11T23:59:59+00:00",
          "2021-05-12T23:59:59+00:00",
          "2021-05-13T23:59:59+00:00",
          "2021-05-14T23:59:59+00:00",
          "2021-05-15T23:59:59+00:00",
          "2021-05-16T23:59:59+00:00",
          "2021-05-17T23:59:59+00:00",
          "2021-05-18T23:59:59+00:00",
          "2021-05-19T23:59:59+00:00",
          "2021-05-20T23:59:59+00:00",
          "2021-05-21T23:59:59+00:00",
          "2021-05-22T23:59:59+00:00",
          "2021-05-23T23:59:59+00:00",
          "2021-05-24T23:59:59+00:00",
          "2021-05-25T23:59:59+00:00",
          "2021-05-26T23:59:59+00:00",
          "2021-05-27T23:59:59+00:00",
          "2021-05-28T23:59:59+00:00",
          "2021-05-29T23:59:59+00:00",
          "2021-05-30T23:59:59+00:00",
          "2021-05-31T23:59:59+00:00",
          "2021-06-01T23:59:59+00:00"
         ],
         "xaxis": "x",
         "y": [
          3,
          1,
          1,
          1,
          1,
          2,
          1,
          1,
          1,
          1,
          1,
          1,
          1,
          1,
          1,
          1,
          4,
          2,
          1,
          1,
          2,
          1,
          1,
          5,
          1,
          5,
          5,
          6,
          3,
          2,
          3,
          6,
          5,
          23,
          15,
          18,
          15,
          34,
          43,
          33,
          57,
          77,
          122,
          131,
          153,
          183,
          211,
          252,
          353,
          369,
          386,
          387,
          487,
          461,
          433,
          897,
          849,
          836,
          742,
          929,
          1010,
          782,
          1134,
          1290,
          1180,
          1531,
          1194,
          1449,
          1437,
          1218,
          1311,
          1238,
          1468,
          1439,
          1269,
          1131,
          1451,
          1478,
          1450,
          1836,
          1866,
          1523,
          1442,
          1777,
          1577,
          1666,
          1784,
          1539,
          1383,
          1454,
          1613,
          1473,
          1548,
          1626,
          1763,
          1477,
          2581,
          1238,
          1244,
          1297,
          1367,
          1363,
          1262,
          1128,
          1199,
          1190,
          1111,
          1219,
          1270,
          1161,
          1100,
          1111,
          1032,
          1044,
          1127,
          970,
          1026,
          895,
          967,
          955,
          869,
          851,
          907,
          748,
          659,
          693,
          501,
          553,
          522,
          526,
          455,
          432,
          466,
          367,
          434,
          384,
          405,
          344,
          339,
          380,
          354,
          360,
          352,
          396,
          326,
          293,
          300,
          296,
          253,
          462,
          202,
          174,
          195,
          518,
          258,
          244,
          261,
          251,
          273,
          215,
          357,
          285,
          291,
          356,
          330,
          320,
          335,
          418,
          394,
          458,
          452,
          495,
          408,
          391,
          494,
          511,
          492,
          443,
          459,
          424,
          411,
          428,
          466,
          474,
          363,
          429,
          354,
          332,
          326,
          375,
          362,
          434,
          409,
          380,
          305,
          454,
          417,
          371,
          444,
          468,
          355,
          372,
          378,
          329,
          379,
          482,
          461,
          437,
          401,
          401,
          406,
          513,
          510,
          481,
          575,
          496,
          553,
          549,
          558,
          703,
          695,
          675,
          673,
          739,
          673,
          726,
          781,
          816,
          870,
          864,
          976,
          1166,
          1144,
          1229,
          1110,
          1125,
          1252,
          1563,
          1374,
          1466,
          1499,
          1675,
          1685,
          1818,
          1836,
          1875,
          1897,
          1901,
          2039,
          2046,
          2009,
          2312,
          2495,
          2012,
          2150,
          2374,
          2378,
          2004,
          2051,
          2170,
          2497,
          2356,
          2475,
          2466,
          2473,
          2556,
          2622,
          2904,
          2830,
          2635,
          2911,
          2631,
          2601,
          2826,
          2958,
          3101,
          3563,
          3345,
          3351,
          3698,
          3399,
          4246,
          4390,
          4329,
          4183,
          4413,
          4609,
          4535,
          4986,
          4817,
          4863,
          5281,
          4658,
          4711,
          4577,
          5325,
          5117,
          5743,
          5798,
          5266,
          5695,
          5766,
          5571,
          5975,
          6193,
          6402,
          6138,
          5990,
          6151,
          6643,
          6604,
          6393,
          6940,
          6585,
          6838,
          6349,
          6899,
          7094,
          6951,
          7027,
          6891,
          6577,
          6437,
          7095,
          6634,
          6698,
          6536,
          6491,
          6685,
          6925,
          7036,
          7287,
          3705,
          3961,
          12464,
          7312,
          8011,
          7802,
          8447,
          4671,
          4923,
          12778,
          8216,
          7829,
          8014,
          7746,
          7563,
          7586,
          6142,
          6752,
          6196,
          6670,
          6529,
          6313,
          6006,
          5009,
          5338,
          5133,
          5189,
          5189,
          5112,
          4778,
          4114,
          4126,
          4213,
          4239,
          4324,
          4038,
          3982,
          3314,
          3420,
          3582,
          3619,
          3572,
          3537,
          3451,
          2940,
          2987,
          2967,
          3239,
          3238,
          3199,
          3144,
          2657,
          2386,
          2872,
          3234,
          3264,
          3126,
          2905,
          2575,
          3051,
          3064,
          2957,
          3182,
          3107,
          3007,
          2722,
          2955,
          3023,
          3125,
          3180,
          3313,
          3058,
          2727,
          3005,
          3215,
          3605,
          3506,
          3508,
          3319,
          2978,
          3522,
          3696,
          4014,
          4134,
          4106,
          4142,
          3878,
          4464,
          4798,
          5263,
          5359,
          5426,
          5214,
          4964,
          5700,
          6084,
          6137,
          7498,
          7129,
          7102,
          6643,
          8152,
          8536,
          9042,
          9201,
          9381,
          8808,
          7969,
          8533,
          8483,
          8980,
          8575,
          8502,
          8204,
          7680,
          7821,
          8206,
          8305,
          8022,
          7706,
          7317,
          6793,
          7410,
          7419,
          8083,
          7320,
          8167,
          7260,
          6820,
          6889,
          7198,
          7321,
          6678,
          7097,
          6313,
          5936,
          5968,
          5919,
          5874,
          5637,
          5323,
          4881,
          4259,
          4492,
          4296,
          3963,
          4121,
          3897,
          3164,
          2748,
          2482,
          2397,
          2550,
          2487,
          2417,
          2047,
          1617,
          1522,
          969
         ],
         "yaxis": "y"
        },
        {
         "hovertemplate": "province=ON<br>reported_date=%{x}<br>total_daily=%{y}<extra></extra>",
         "legendgroup": "ON",
         "line": {
          "color": "#EF553B",
          "dash": "solid"
         },
         "marker": {
          "symbol": "circle"
         },
         "mode": "lines",
         "name": "ON",
         "showlegend": true,
         "type": "scattergl",
         "x": [
          "2020-01-23T23:59:59+00:00",
          "2020-01-24T23:59:59+00:00",
          "2020-02-05T23:59:59+00:00",
          "2020-02-21T23:59:59+00:00",
          "2020-02-25T23:59:59+00:00",
          "2020-02-26T23:59:59+00:00",
          "2020-02-27T23:59:59+00:00",
          "2020-02-28T23:59:59+00:00",
          "2020-02-29T23:59:59+00:00",
          "2020-03-01T23:59:59+00:00",
          "2020-03-03T23:59:59+00:00",
          "2020-03-04T23:59:59+00:00",
          "2020-03-05T23:59:59+00:00",
          "2020-03-06T23:59:59+00:00",
          "2020-03-07T23:59:59+00:00",
          "2020-03-08T23:59:59+00:00",
          "2020-03-09T23:59:59+00:00",
          "2020-03-10T23:59:59+00:00",
          "2020-03-11T23:59:59+00:00",
          "2020-03-12T23:59:59+00:00",
          "2020-03-13T23:59:59+00:00",
          "2020-03-14T23:59:59+00:00",
          "2020-03-15T23:59:59+00:00",
          "2020-03-16T23:59:59+00:00",
          "2020-03-17T23:59:59+00:00",
          "2020-03-18T23:59:59+00:00",
          "2020-03-19T23:59:59+00:00",
          "2020-03-20T23:59:59+00:00",
          "2020-03-21T23:59:59+00:00",
          "2020-03-22T23:59:59+00:00",
          "2020-03-23T23:59:59+00:00",
          "2020-03-24T23:59:59+00:00",
          "2020-03-25T23:59:59+00:00",
          "2020-03-26T23:59:59+00:00",
          "2020-03-27T23:59:59+00:00",
          "2020-03-28T23:59:59+00:00",
          "2020-03-29T23:59:59+00:00",
          "2020-03-30T23:59:59+00:00",
          "2020-03-31T23:59:59+00:00",
          "2020-04-01T23:59:59+00:00",
          "2020-04-02T23:59:59+00:00",
          "2020-04-03T23:59:59+00:00",
          "2020-04-04T23:59:59+00:00",
          "2020-04-05T23:59:59+00:00",
          "2020-04-06T23:59:59+00:00",
          "2020-04-07T23:59:59+00:00",
          "2020-04-08T23:59:59+00:00",
          "2020-04-09T23:59:59+00:00",
          "2020-04-10T23:59:59+00:00",
          "2020-04-11T23:59:59+00:00",
          "2020-04-12T23:59:59+00:00",
          "2020-04-13T23:59:59+00:00",
          "2020-04-14T23:59:59+00:00",
          "2020-04-15T23:59:59+00:00",
          "2020-04-16T23:59:59+00:00",
          "2020-04-17T23:59:59+00:00",
          "2020-04-18T23:59:59+00:00",
          "2020-04-19T23:59:59+00:00",
          "2020-04-20T23:59:59+00:00",
          "2020-04-21T23:59:59+00:00",
          "2020-04-22T23:59:59+00:00",
          "2020-04-23T23:59:59+00:00",
          "2020-04-24T23:59:59+00:00",
          "2020-04-25T23:59:59+00:00",
          "2020-04-26T23:59:59+00:00",
          "2020-04-27T23:59:59+00:00",
          "2020-04-28T23:59:59+00:00",
          "2020-04-29T23:59:59+00:00",
          "2020-04-30T23:59:59+00:00",
          "2020-05-01T23:59:59+00:00",
          "2020-05-02T23:59:59+00:00",
          "2020-05-03T23:59:59+00:00",
          "2020-05-04T23:59:59+00:00",
          "2020-05-05T23:59:59+00:00",
          "2020-05-06T23:59:59+00:00",
          "2020-05-07T23:59:59+00:00",
          "2020-05-08T23:59:59+00:00",
          "2020-05-09T23:59:59+00:00",
          "2020-05-10T23:59:59+00:00",
          "2020-05-11T23:59:59+00:00",
          "2020-05-12T23:59:59+00:00",
          "2020-05-13T23:59:59+00:00",
          "2020-05-14T23:59:59+00:00",
          "2020-05-15T23:59:59+00:00",
          "2020-05-16T23:59:59+00:00",
          "2020-05-17T23:59:59+00:00",
          "2020-05-18T23:59:59+00:00",
          "2020-05-19T23:59:59+00:00",
          "2020-05-20T23:59:59+00:00",
          "2020-05-21T23:59:59+00:00",
          "2020-05-22T23:59:59+00:00",
          "2020-05-23T23:59:59+00:00",
          "2020-05-24T23:59:59+00:00",
          "2020-05-25T23:59:59+00:00",
          "2020-05-26T23:59:59+00:00",
          "2020-05-27T23:59:59+00:00",
          "2020-05-28T23:59:59+00:00",
          "2020-05-29T23:59:59+00:00",
          "2020-05-30T23:59:59+00:00",
          "2020-05-31T23:59:59+00:00",
          "2020-06-01T23:59:59+00:00",
          "2020-06-02T23:59:59+00:00",
          "2020-06-03T23:59:59+00:00",
          "2020-06-04T23:59:59+00:00",
          "2020-06-05T23:59:59+00:00",
          "2020-06-06T23:59:59+00:00",
          "2020-06-07T23:59:59+00:00",
          "2020-06-08T23:59:59+00:00",
          "2020-06-09T23:59:59+00:00",
          "2020-06-10T23:59:59+00:00",
          "2020-06-11T23:59:59+00:00",
          "2020-06-12T23:59:59+00:00",
          "2020-06-13T23:59:59+00:00",
          "2020-06-14T23:59:59+00:00",
          "2020-06-15T23:59:59+00:00",
          "2020-06-16T23:59:59+00:00",
          "2020-06-17T23:59:59+00:00",
          "2020-06-18T23:59:59+00:00",
          "2020-06-19T23:59:59+00:00",
          "2020-06-20T23:59:59+00:00",
          "2020-06-21T23:59:59+00:00",
          "2020-06-22T23:59:59+00:00",
          "2020-06-23T23:59:59+00:00",
          "2020-06-24T23:59:59+00:00",
          "2020-06-25T23:59:59+00:00",
          "2020-06-26T23:59:59+00:00",
          "2020-06-27T23:59:59+00:00",
          "2020-06-28T23:59:59+00:00",
          "2020-06-29T23:59:59+00:00",
          "2020-06-30T23:59:59+00:00",
          "2020-07-01T23:59:59+00:00",
          "2020-07-02T23:59:59+00:00",
          "2020-07-03T23:59:59+00:00",
          "2020-07-04T23:59:59+00:00",
          "2020-07-05T23:59:59+00:00",
          "2020-07-06T23:59:59+00:00",
          "2020-07-07T23:59:59+00:00",
          "2020-07-08T23:59:59+00:00",
          "2020-07-09T23:59:59+00:00",
          "2020-07-10T23:59:59+00:00",
          "2020-07-11T23:59:59+00:00",
          "2020-07-12T23:59:59+00:00",
          "2020-07-13T23:59:59+00:00",
          "2020-07-14T23:59:59+00:00",
          "2020-07-15T23:59:59+00:00",
          "2020-07-16T23:59:59+00:00",
          "2020-07-17T23:59:59+00:00",
          "2020-07-18T23:59:59+00:00",
          "2020-07-19T23:59:59+00:00",
          "2020-07-20T23:59:59+00:00",
          "2020-07-21T23:59:59+00:00",
          "2020-07-22T23:59:59+00:00",
          "2020-07-23T23:59:59+00:00",
          "2020-07-24T23:59:59+00:00",
          "2020-07-25T23:59:59+00:00",
          "2020-07-26T23:59:59+00:00",
          "2020-07-27T23:59:59+00:00",
          "2020-07-28T23:59:59+00:00",
          "2020-07-29T23:59:59+00:00",
          "2020-07-30T23:59:59+00:00",
          "2020-07-31T23:59:59+00:00",
          "2020-08-01T23:59:59+00:00",
          "2020-08-02T23:59:59+00:00",
          "2020-08-03T23:59:59+00:00",
          "2020-08-04T23:59:59+00:00",
          "2020-08-05T23:59:59+00:00",
          "2020-08-06T23:59:59+00:00",
          "2020-08-07T23:59:59+00:00",
          "2020-08-08T23:59:59+00:00",
          "2020-08-09T23:59:59+00:00",
          "2020-08-10T23:59:59+00:00",
          "2020-08-11T23:59:59+00:00",
          "2020-08-12T23:59:59+00:00",
          "2020-08-13T23:59:59+00:00",
          "2020-08-14T23:59:59+00:00",
          "2020-08-15T23:59:59+00:00",
          "2020-08-16T23:59:59+00:00",
          "2020-08-17T23:59:59+00:00",
          "2020-08-18T23:59:59+00:00",
          "2020-08-19T23:59:59+00:00",
          "2020-08-20T23:59:59+00:00",
          "2020-08-21T23:59:59+00:00",
          "2020-08-22T23:59:59+00:00",
          "2020-08-23T23:59:59+00:00",
          "2020-08-24T23:59:59+00:00",
          "2020-08-25T23:59:59+00:00",
          "2020-08-26T23:59:59+00:00",
          "2020-08-27T23:59:59+00:00",
          "2020-08-28T23:59:59+00:00",
          "2020-08-29T23:59:59+00:00",
          "2020-08-30T23:59:59+00:00",
          "2020-08-31T23:59:59+00:00",
          "2020-09-01T23:59:59+00:00",
          "2020-09-02T23:59:59+00:00",
          "2020-09-03T23:59:59+00:00",
          "2020-09-04T23:59:59+00:00",
          "2020-09-05T23:59:59+00:00",
          "2020-09-06T23:59:59+00:00",
          "2020-09-07T23:59:59+00:00",
          "2020-09-08T23:59:59+00:00",
          "2020-09-09T23:59:59+00:00",
          "2020-09-10T23:59:59+00:00",
          "2020-09-11T23:59:59+00:00",
          "2020-09-12T23:59:59+00:00",
          "2020-09-13T23:59:59+00:00",
          "2020-09-14T23:59:59+00:00",
          "2020-09-15T23:59:59+00:00",
          "2020-09-16T23:59:59+00:00",
          "2020-09-17T23:59:59+00:00",
          "2020-09-18T23:59:59+00:00",
          "2020-09-19T23:59:59+00:00",
          "2020-09-20T23:59:59+00:00",
          "2020-09-21T23:59:59+00:00",
          "2020-09-22T23:59:59+00:00",
          "2020-09-23T23:59:59+00:00",
          "2020-09-24T23:59:59+00:00",
          "2020-09-25T23:59:59+00:00",
          "2020-09-26T23:59:59+00:00",
          "2020-09-27T23:59:59+00:00",
          "2020-09-28T23:59:59+00:00",
          "2020-09-29T23:59:59+00:00",
          "2020-09-30T23:59:59+00:00",
          "2020-10-01T23:59:59+00:00",
          "2020-10-02T23:59:59+00:00",
          "2020-10-03T23:59:59+00:00",
          "2020-10-04T23:59:59+00:00",
          "2020-10-05T23:59:59+00:00",
          "2020-10-06T23:59:59+00:00",
          "2020-10-07T23:59:59+00:00",
          "2020-10-08T23:59:59+00:00",
          "2020-10-09T23:59:59+00:00",
          "2020-10-10T23:59:59+00:00",
          "2020-10-11T23:59:59+00:00",
          "2020-10-12T23:59:59+00:00",
          "2020-10-13T23:59:59+00:00",
          "2020-10-14T23:59:59+00:00",
          "2020-10-15T23:59:59+00:00",
          "2020-10-16T23:59:59+00:00",
          "2020-10-17T23:59:59+00:00",
          "2020-10-18T23:59:59+00:00",
          "2020-10-19T23:59:59+00:00",
          "2020-10-20T23:59:59+00:00",
          "2020-10-21T23:59:59+00:00",
          "2020-10-22T23:59:59+00:00",
          "2020-10-23T23:59:59+00:00",
          "2020-10-24T23:59:59+00:00",
          "2020-10-25T23:59:59+00:00",
          "2020-10-26T23:59:59+00:00",
          "2020-10-27T23:59:59+00:00",
          "2020-10-28T23:59:59+00:00",
          "2020-10-29T23:59:59+00:00",
          "2020-10-30T23:59:59+00:00",
          "2020-10-31T23:59:59+00:00",
          "2020-11-01T23:59:59+00:00",
          "2020-11-02T23:59:59+00:00",
          "2020-11-03T23:59:59+00:00",
          "2020-11-04T23:59:59+00:00",
          "2020-11-05T23:59:59+00:00",
          "2020-11-06T23:59:59+00:00",
          "2020-11-07T23:59:59+00:00",
          "2020-11-08T23:59:59+00:00",
          "2020-11-09T23:59:59+00:00",
          "2020-11-10T23:59:59+00:00",
          "2020-11-11T23:59:59+00:00",
          "2020-11-12T23:59:59+00:00",
          "2020-11-13T23:59:59+00:00",
          "2020-11-14T23:59:59+00:00",
          "2020-11-15T23:59:59+00:00",
          "2020-11-16T23:59:59+00:00",
          "2020-11-17T23:59:59+00:00",
          "2020-11-18T23:59:59+00:00",
          "2020-11-19T23:59:59+00:00",
          "2020-11-20T23:59:59+00:00",
          "2020-11-21T23:59:59+00:00",
          "2020-11-22T23:59:59+00:00",
          "2020-11-23T23:59:59+00:00",
          "2020-11-24T23:59:59+00:00",
          "2020-11-25T23:59:59+00:00",
          "2020-11-26T23:59:59+00:00",
          "2020-11-27T23:59:59+00:00",
          "2020-11-28T23:59:59+00:00",
          "2020-11-29T23:59:59+00:00",
          "2020-11-30T23:59:59+00:00",
          "2020-12-01T23:59:59+00:00",
          "2020-12-02T23:59:59+00:00",
          "2020-12-03T23:59:59+00:00",
          "2020-12-04T23:59:59+00:00",
          "2020-12-05T23:59:59+00:00",
          "2020-12-06T23:59:59+00:00",
          "2020-12-07T23:59:59+00:00",
          "2020-12-08T23:59:59+00:00",
          "2020-12-09T23:59:59+00:00",
          "2020-12-10T23:59:59+00:00",
          "2020-12-11T23:59:59+00:00",
          "2020-12-12T23:59:59+00:00",
          "2020-12-13T23:59:59+00:00",
          "2020-12-14T23:59:59+00:00",
          "2020-12-15T23:59:59+00:00",
          "2020-12-16T23:59:59+00:00",
          "2020-12-17T23:59:59+00:00",
          "2020-12-18T23:59:59+00:00",
          "2020-12-19T23:59:59+00:00",
          "2020-12-20T23:59:59+00:00",
          "2020-12-21T23:59:59+00:00",
          "2020-12-22T23:59:59+00:00",
          "2020-12-23T23:59:59+00:00",
          "2020-12-24T23:59:59+00:00",
          "2020-12-25T23:59:59+00:00",
          "2020-12-26T23:59:59+00:00",
          "2020-12-27T23:59:59+00:00",
          "2020-12-28T23:59:59+00:00",
          "2020-12-29T23:59:59+00:00",
          "2020-12-30T23:59:59+00:00",
          "2020-12-31T23:59:59+00:00",
          "2021-01-01T23:59:59+00:00",
          "2021-01-02T23:59:59+00:00",
          "2021-01-03T23:59:59+00:00",
          "2021-01-04T23:59:59+00:00",
          "2021-01-05T23:59:59+00:00",
          "2021-01-06T23:59:59+00:00",
          "2021-01-07T23:59:59+00:00",
          "2021-01-08T23:59:59+00:00",
          "2021-01-09T23:59:59+00:00",
          "2021-01-10T23:59:59+00:00",
          "2021-01-11T23:59:59+00:00",
          "2021-01-12T23:59:59+00:00",
          "2021-01-13T23:59:59+00:00",
          "2021-01-14T23:59:59+00:00",
          "2021-01-15T23:59:59+00:00",
          "2021-01-16T23:59:59+00:00",
          "2021-01-17T23:59:59+00:00",
          "2021-01-18T23:59:59+00:00",
          "2021-01-19T23:59:59+00:00",
          "2021-01-20T23:59:59+00:00",
          "2021-01-21T23:59:59+00:00",
          "2021-01-22T23:59:59+00:00",
          "2021-01-23T23:59:59+00:00",
          "2021-01-24T23:59:59+00:00",
          "2021-01-25T23:59:59+00:00",
          "2021-01-26T23:59:59+00:00",
          "2021-01-27T23:59:59+00:00",
          "2021-01-28T23:59:59+00:00",
          "2021-01-29T23:59:59+00:00",
          "2021-01-30T23:59:59+00:00",
          "2021-01-31T23:59:59+00:00",
          "2021-02-01T23:59:59+00:00",
          "2021-02-02T23:59:59+00:00",
          "2021-02-03T23:59:59+00:00",
          "2021-02-04T23:59:59+00:00",
          "2021-02-05T23:59:59+00:00",
          "2021-02-06T23:59:59+00:00",
          "2021-02-07T23:59:59+00:00",
          "2021-02-08T23:59:59+00:00",
          "2021-02-09T23:59:59+00:00",
          "2021-02-10T23:59:59+00:00",
          "2021-02-11T23:59:59+00:00",
          "2021-02-12T23:59:59+00:00",
          "2021-02-13T23:59:59+00:00",
          "2021-02-14T23:59:59+00:00",
          "2021-02-15T23:59:59+00:00",
          "2021-02-16T23:59:59+00:00",
          "2021-02-17T23:59:59+00:00",
          "2021-02-18T23:59:59+00:00",
          "2021-02-19T23:59:59+00:00",
          "2021-02-20T23:59:59+00:00",
          "2021-02-21T23:59:59+00:00",
          "2021-02-22T23:59:59+00:00",
          "2021-02-23T23:59:59+00:00",
          "2021-02-24T23:59:59+00:00",
          "2021-02-25T23:59:59+00:00",
          "2021-02-26T23:59:59+00:00",
          "2021-02-27T23:59:59+00:00",
          "2021-02-28T23:59:59+00:00",
          "2021-03-01T23:59:59+00:00",
          "2021-03-02T23:59:59+00:00",
          "2021-03-03T23:59:59+00:00",
          "2021-03-04T23:59:59+00:00",
          "2021-03-05T23:59:59+00:00",
          "2021-03-06T23:59:59+00:00",
          "2021-03-07T23:59:59+00:00",
          "2021-03-08T23:59:59+00:00",
          "2021-03-09T23:59:59+00:00",
          "2021-03-10T23:59:59+00:00",
          "2021-03-11T23:59:59+00:00",
          "2021-03-12T23:59:59+00:00",
          "2021-03-13T23:59:59+00:00",
          "2021-03-14T23:59:59+00:00",
          "2021-03-15T23:59:59+00:00",
          "2021-03-16T23:59:59+00:00",
          "2021-03-17T23:59:59+00:00",
          "2021-03-18T23:59:59+00:00",
          "2021-03-19T23:59:59+00:00",
          "2021-03-20T23:59:59+00:00",
          "2021-03-21T23:59:59+00:00",
          "2021-03-22T23:59:59+00:00",
          "2021-03-23T23:59:59+00:00",
          "2021-03-24T23:59:59+00:00",
          "2021-03-25T23:59:59+00:00",
          "2021-03-26T23:59:59+00:00",
          "2021-03-27T23:59:59+00:00",
          "2021-03-28T23:59:59+00:00",
          "2021-03-29T23:59:59+00:00",
          "2021-03-30T23:59:59+00:00",
          "2021-03-31T23:59:59+00:00",
          "2021-04-01T23:59:59+00:00",
          "2021-04-02T23:59:59+00:00",
          "2021-04-03T23:59:59+00:00",
          "2021-04-04T23:59:59+00:00",
          "2021-04-05T23:59:59+00:00",
          "2021-04-06T23:59:59+00:00",
          "2021-04-07T23:59:59+00:00",
          "2021-04-08T23:59:59+00:00",
          "2021-04-09T23:59:59+00:00",
          "2021-04-10T23:59:59+00:00",
          "2021-04-11T23:59:59+00:00",
          "2021-04-12T23:59:59+00:00",
          "2021-04-13T23:59:59+00:00",
          "2021-04-14T23:59:59+00:00",
          "2021-04-15T23:59:59+00:00",
          "2021-04-16T23:59:59+00:00",
          "2021-04-17T23:59:59+00:00",
          "2021-04-18T23:59:59+00:00",
          "2021-04-19T23:59:59+00:00",
          "2021-04-20T23:59:59+00:00",
          "2021-04-21T23:59:59+00:00",
          "2021-04-22T23:59:59+00:00",
          "2021-04-23T23:59:59+00:00",
          "2021-04-24T23:59:59+00:00",
          "2021-04-25T23:59:59+00:00",
          "2021-04-26T23:59:59+00:00",
          "2021-04-27T23:59:59+00:00",
          "2021-04-28T23:59:59+00:00",
          "2021-04-29T23:59:59+00:00",
          "2021-04-30T23:59:59+00:00",
          "2021-05-01T23:59:59+00:00",
          "2021-05-02T23:59:59+00:00",
          "2021-05-03T23:59:59+00:00",
          "2021-05-04T23:59:59+00:00",
          "2021-05-05T23:59:59+00:00",
          "2021-05-06T23:59:59+00:00",
          "2021-05-07T23:59:59+00:00",
          "2021-05-08T23:59:59+00:00",
          "2021-05-09T23:59:59+00:00",
          "2021-05-10T23:59:59+00:00",
          "2021-05-11T23:59:59+00:00",
          "2021-05-12T23:59:59+00:00",
          "2021-05-13T23:59:59+00:00",
          "2021-05-14T23:59:59+00:00",
          "2021-05-15T23:59:59+00:00",
          "2021-05-16T23:59:59+00:00",
          "2021-05-17T23:59:59+00:00",
          "2021-05-18T23:59:59+00:00",
          "2021-05-19T23:59:59+00:00",
          "2021-05-20T23:59:59+00:00",
          "2021-05-21T23:59:59+00:00",
          "2021-05-22T23:59:59+00:00",
          "2021-05-23T23:59:59+00:00",
          "2021-05-24T23:59:59+00:00",
          "2021-05-25T23:59:59+00:00",
          "2021-05-26T23:59:59+00:00",
          "2021-05-27T23:59:59+00:00",
          "2021-05-28T23:59:59+00:00",
          "2021-05-29T23:59:59+00:00",
          "2021-05-30T23:59:59+00:00",
          "2021-05-31T23:59:59+00:00",
          "2021-06-01T23:59:59+00:00"
         ],
         "xaxis": "x",
         "y": [
          2,
          1,
          1,
          1,
          1,
          1,
          2,
          5,
          4,
          2,
          2,
          1,
          4,
          3,
          3,
          5,
          6,
          9,
          23,
          37,
          36,
          32,
          36,
          53,
          59,
          59,
          69,
          99,
          72,
          87,
          145,
          174,
          138,
          250,
          297,
          236,
          227,
          438,
          411,
          454,
          451,
          465,
          349,
          371,
          480,
          458,
          493,
          489,
          400,
          476,
          550,
          598,
          558,
          619,
          579,
          753,
          600,
          595,
          614,
          522,
          548,
          511,
          432,
          427,
          368,
          480,
          417,
          406,
          409,
          488,
          333,
          343,
          334,
          410,
          356,
          306,
          298,
          310,
          294,
          216,
          258,
          362,
          342,
          382,
          370,
          422,
          376,
          330,
          388,
          338,
          400,
          367,
          341,
          399,
          273,
          322,
          325,
          606,
          346,
          412,
          396,
          366,
          348,
          279,
          278,
          223,
          207,
          214,
          216,
          237,
          187,
          240,
          171,
          144,
          178,
          173,
          190,
          198,
          189,
          154,
          174,
          203,
          152,
          163,
          146,
          182,
          230,
          205,
          131,
          176,
          150,
          142,
          151,
          129,
          92,
          105,
          140,
          142,
          136,
          124,
          128,
          113,
          98,
          105,
          133,
          142,
          165,
          175,
          122,
          178,
          118,
          124,
          195,
          139,
          118,
          125,
          122,
          122,
          100,
          109,
          127,
          103,
          57,
          97,
          87,
          81,
          97,
          80,
          92,
          90,
          69,
          88,
          96,
          90,
          91,
          86,
          100,
          99,
          104,
          103,
          108,
          133,
          82,
          101,
          117,
          120,
          131,
          150,
          120,
          109,
          122,
          134,
          123,
          126,
          169,
          155,
          147,
          194,
          174,
          181,
          194,
          205,
          265,
          297,
          215,
          277,
          318,
          335,
          429,
          398,
          400,
          401,
          387,
          373,
          396,
          426,
          515,
          624,
          561,
          532,
          608,
          681,
          624,
          675,
          544,
          587,
          577,
          759,
          879,
          744,
          804,
          687,
          797,
          591,
          830,
          879,
          763,
          708,
          706,
          800,
          755,
          759,
          841,
          994,
          955,
          936,
          881,
          780,
          875,
          924,
          892,
          1091,
          948,
          1103,
          969,
          876,
          939,
          1261,
          1299,
          1156,
          1325,
          1427,
          1575,
          1533,
          1600,
          1487,
          1496,
          1305,
          1343,
          1258,
          1490,
          1503,
          1637,
          1501,
          1320,
          1371,
          1411,
          1696,
          1859,
          1762,
          1722,
          1678,
          1630,
          1817,
          1757,
          1824,
          1891,
          2089,
          1732,
          1779,
          1865,
          1908,
          1891,
          1915,
          1975,
          1982,
          2056,
          2250,
          2312,
          2375,
          2415,
          2276,
          2338,
          2162,
          2551,
          2217,
          1922,
          2183,
          2248,
          2140,
          2741,
          3192,
          2807,
          3411,
          3277,
          2888,
          3301,
          3141,
          3324,
          3738,
          4169,
          3823,
          3377,
          3103,
          2841,
          3173,
          3337,
          2997,
          3210,
          2724,
          2085,
          2400,
          2417,
          2761,
          2348,
          2473,
          1929,
          1789,
          1624,
          1899,
          1964,
          1959,
          1880,
          1659,
          1453,
          1260,
          1446,
          1493,
          1382,
          1503,
          1244,
          1105,
          964,
          1131,
          1299,
          1219,
          1186,
          997,
          933,
          861,
          1000,
          1100,
          1198,
          1221,
          1148,
          989,
          905,
          1127,
          1189,
          1242,
          1113,
          1117,
          1001,
          918,
          1118,
          1128,
          1236,
          1255,
          1281,
          1255,
          1183,
          1237,
          1352,
          1470,
          1601,
          1400,
          1237,
          1205,
          1544,
          1711,
          1773,
          1816,
          1753,
          1597,
          1756,
          1836,
          2183,
          2237,
          2571,
          2218,
          2241,
          2213,
          2502,
          2870,
          2981,
          3082,
          3055,
          2920,
          2926,
          3404,
          3763,
          3909,
          3938,
          4720,
          3984,
          4023,
          4278,
          5067,
          4830,
          3897,
          4803,
          4281,
          3680,
          3983,
          4010,
          4510,
          4062,
          3821,
          3649,
          3135,
          3510,
          4020,
          3821,
          3378,
          3697,
          2952,
          2603,
          2895,
          3277,
          3365,
          2960,
          2702,
          2286,
          2078,
          2565,
          2594,
          2348,
          2451,
          2209,
          1690,
          1612,
          1930,
          2132,
          1815,
          1869,
          1598,
          1212,
          1017,
          987,
          1211,
          1224,
          1058,
          1056,
          706,
          665,
          809
         ],
         "yaxis": "y"
        },
        {
         "hovertemplate": "province=BC<br>reported_date=%{x}<br>total_daily=%{y}<extra></extra>",
         "legendgroup": "BC",
         "line": {
          "color": "#00cc96",
          "dash": "solid"
         },
         "marker": {
          "symbol": "circle"
         },
         "mode": "lines",
         "name": "BC",
         "showlegend": true,
         "type": "scattergl",
         "x": [
          "2020-01-29T23:59:59+00:00",
          "2020-02-06T23:59:59+00:00",
          "2020-02-10T23:59:59+00:00",
          "2020-02-18T23:59:59+00:00",
          "2020-02-24T23:59:59+00:00",
          "2020-03-03T23:59:59+00:00",
          "2020-03-05T23:59:59+00:00",
          "2020-03-06T23:59:59+00:00",
          "2020-03-07T23:59:59+00:00",
          "2020-03-08T23:59:59+00:00",
          "2020-03-09T23:59:59+00:00",
          "2020-03-10T23:59:59+00:00",
          "2020-03-11T23:59:59+00:00",
          "2020-03-12T23:59:59+00:00",
          "2020-03-13T23:59:59+00:00",
          "2020-03-14T23:59:59+00:00",
          "2020-03-15T23:59:59+00:00",
          "2020-03-16T23:59:59+00:00",
          "2020-03-17T23:59:59+00:00",
          "2020-03-18T23:59:59+00:00",
          "2020-03-19T23:59:59+00:00",
          "2020-03-20T23:59:59+00:00",
          "2020-03-21T23:59:59+00:00",
          "2020-03-22T23:59:59+00:00",
          "2020-03-23T23:59:59+00:00",
          "2020-03-24T23:59:59+00:00",
          "2020-03-25T23:59:59+00:00",
          "2020-03-26T23:59:59+00:00",
          "2020-03-27T23:59:59+00:00",
          "2020-03-28T23:59:59+00:00",
          "2020-03-29T23:59:59+00:00",
          "2020-03-30T23:59:59+00:00",
          "2020-03-31T23:59:59+00:00",
          "2020-04-01T23:59:59+00:00",
          "2020-04-02T23:59:59+00:00",
          "2020-04-03T23:59:59+00:00",
          "2020-04-04T23:59:59+00:00",
          "2020-04-05T23:59:59+00:00",
          "2020-04-06T23:59:59+00:00",
          "2020-04-07T23:59:59+00:00",
          "2020-04-08T23:59:59+00:00",
          "2020-04-09T23:59:59+00:00",
          "2020-04-10T23:59:59+00:00",
          "2020-04-11T23:59:59+00:00",
          "2020-04-12T23:59:59+00:00",
          "2020-04-13T23:59:59+00:00",
          "2020-04-14T23:59:59+00:00",
          "2020-04-15T23:59:59+00:00",
          "2020-04-16T23:59:59+00:00",
          "2020-04-17T23:59:59+00:00",
          "2020-04-18T23:59:59+00:00",
          "2020-04-19T23:59:59+00:00",
          "2020-04-20T23:59:59+00:00",
          "2020-04-21T23:59:59+00:00",
          "2020-04-22T23:59:59+00:00",
          "2020-04-23T23:59:59+00:00",
          "2020-04-24T23:59:59+00:00",
          "2020-04-25T23:59:59+00:00",
          "2020-04-26T23:59:59+00:00",
          "2020-04-27T23:59:59+00:00",
          "2020-04-28T23:59:59+00:00",
          "2020-04-29T23:59:59+00:00",
          "2020-04-30T23:59:59+00:00",
          "2020-05-01T23:59:59+00:00",
          "2020-05-02T23:59:59+00:00",
          "2020-05-03T23:59:59+00:00",
          "2020-05-04T23:59:59+00:00",
          "2020-05-05T23:59:59+00:00",
          "2020-05-06T23:59:59+00:00",
          "2020-05-07T23:59:59+00:00",
          "2020-05-08T23:59:59+00:00",
          "2020-05-09T23:59:59+00:00",
          "2020-05-10T23:59:59+00:00",
          "2020-05-11T23:59:59+00:00",
          "2020-05-12T23:59:59+00:00",
          "2020-05-13T23:59:59+00:00",
          "2020-05-14T23:59:59+00:00",
          "2020-05-15T23:59:59+00:00",
          "2020-05-16T23:59:59+00:00",
          "2020-05-17T23:59:59+00:00",
          "2020-05-18T23:59:59+00:00",
          "2020-05-19T23:59:59+00:00",
          "2020-05-20T23:59:59+00:00",
          "2020-05-21T23:59:59+00:00",
          "2020-05-22T23:59:59+00:00",
          "2020-05-23T23:59:59+00:00",
          "2020-05-24T23:59:59+00:00",
          "2020-05-25T23:59:59+00:00",
          "2020-05-26T23:59:59+00:00",
          "2020-05-27T23:59:59+00:00",
          "2020-05-28T23:59:59+00:00",
          "2020-05-29T23:59:59+00:00",
          "2020-05-30T23:59:59+00:00",
          "2020-05-31T23:59:59+00:00",
          "2020-06-01T23:59:59+00:00",
          "2020-06-02T23:59:59+00:00",
          "2020-06-03T23:59:59+00:00",
          "2020-06-04T23:59:59+00:00",
          "2020-06-05T23:59:59+00:00",
          "2020-06-06T23:59:59+00:00",
          "2020-06-07T23:59:59+00:00",
          "2020-06-08T23:59:59+00:00",
          "2020-06-09T23:59:59+00:00",
          "2020-06-10T23:59:59+00:00",
          "2020-06-11T23:59:59+00:00",
          "2020-06-12T23:59:59+00:00",
          "2020-06-13T23:59:59+00:00",
          "2020-06-14T23:59:59+00:00",
          "2020-06-15T23:59:59+00:00",
          "2020-06-16T23:59:59+00:00",
          "2020-06-17T23:59:59+00:00",
          "2020-06-18T23:59:59+00:00",
          "2020-06-19T23:59:59+00:00",
          "2020-06-20T23:59:59+00:00",
          "2020-06-21T23:59:59+00:00",
          "2020-06-22T23:59:59+00:00",
          "2020-06-23T23:59:59+00:00",
          "2020-06-24T23:59:59+00:00",
          "2020-06-25T23:59:59+00:00",
          "2020-06-26T23:59:59+00:00",
          "2020-06-27T23:59:59+00:00",
          "2020-06-28T23:59:59+00:00",
          "2020-06-29T23:59:59+00:00",
          "2020-06-30T23:59:59+00:00",
          "2020-07-01T23:59:59+00:00",
          "2020-07-02T23:59:59+00:00",
          "2020-07-03T23:59:59+00:00",
          "2020-07-04T23:59:59+00:00",
          "2020-07-05T23:59:59+00:00",
          "2020-07-06T23:59:59+00:00",
          "2020-07-07T23:59:59+00:00",
          "2020-07-08T23:59:59+00:00",
          "2020-07-09T23:59:59+00:00",
          "2020-07-10T23:59:59+00:00",
          "2020-07-11T23:59:59+00:00",
          "2020-07-12T23:59:59+00:00",
          "2020-07-13T23:59:59+00:00",
          "2020-07-14T23:59:59+00:00",
          "2020-07-15T23:59:59+00:00",
          "2020-07-16T23:59:59+00:00",
          "2020-07-17T23:59:59+00:00",
          "2020-07-18T23:59:59+00:00",
          "2020-07-19T23:59:59+00:00",
          "2020-07-20T23:59:59+00:00",
          "2020-07-21T23:59:59+00:00",
          "2020-07-22T23:59:59+00:00",
          "2020-07-23T23:59:59+00:00",
          "2020-07-24T23:59:59+00:00",
          "2020-07-25T23:59:59+00:00",
          "2020-07-26T23:59:59+00:00",
          "2020-07-27T23:59:59+00:00",
          "2020-07-28T23:59:59+00:00",
          "2020-07-29T23:59:59+00:00",
          "2020-07-30T23:59:59+00:00",
          "2020-07-31T23:59:59+00:00",
          "2020-08-01T23:59:59+00:00",
          "2020-08-02T23:59:59+00:00",
          "2020-08-03T23:59:59+00:00",
          "2020-08-04T23:59:59+00:00",
          "2020-08-05T23:59:59+00:00",
          "2020-08-06T23:59:59+00:00",
          "2020-08-07T23:59:59+00:00",
          "2020-08-08T23:59:59+00:00",
          "2020-08-09T23:59:59+00:00",
          "2020-08-10T23:59:59+00:00",
          "2020-08-11T23:59:59+00:00",
          "2020-08-12T23:59:59+00:00",
          "2020-08-13T23:59:59+00:00",
          "2020-08-14T23:59:59+00:00",
          "2020-08-15T23:59:59+00:00",
          "2020-08-16T23:59:59+00:00",
          "2020-08-17T23:59:59+00:00",
          "2020-08-18T23:59:59+00:00",
          "2020-08-19T23:59:59+00:00",
          "2020-08-20T23:59:59+00:00",
          "2020-08-21T23:59:59+00:00",
          "2020-08-22T23:59:59+00:00",
          "2020-08-23T23:59:59+00:00",
          "2020-08-24T23:59:59+00:00",
          "2020-08-25T23:59:59+00:00",
          "2020-08-26T23:59:59+00:00",
          "2020-08-27T23:59:59+00:00",
          "2020-08-28T23:59:59+00:00",
          "2020-08-29T23:59:59+00:00",
          "2020-08-30T23:59:59+00:00",
          "2020-08-31T23:59:59+00:00",
          "2020-09-01T23:59:59+00:00",
          "2020-09-02T23:59:59+00:00",
          "2020-09-03T23:59:59+00:00",
          "2020-09-04T23:59:59+00:00",
          "2020-09-05T23:59:59+00:00",
          "2020-09-06T23:59:59+00:00",
          "2020-09-07T23:59:59+00:00",
          "2020-09-08T23:59:59+00:00",
          "2020-09-09T23:59:59+00:00",
          "2020-09-10T23:59:59+00:00",
          "2020-09-11T23:59:59+00:00",
          "2020-09-12T23:59:59+00:00",
          "2020-09-13T23:59:59+00:00",
          "2020-09-14T23:59:59+00:00",
          "2020-09-15T23:59:59+00:00",
          "2020-09-16T23:59:59+00:00",
          "2020-09-17T23:59:59+00:00",
          "2020-09-18T23:59:59+00:00",
          "2020-09-19T23:59:59+00:00",
          "2020-09-20T23:59:59+00:00",
          "2020-09-21T23:59:59+00:00",
          "2020-09-22T23:59:59+00:00",
          "2020-09-23T23:59:59+00:00",
          "2020-09-24T23:59:59+00:00",
          "2020-09-25T23:59:59+00:00",
          "2020-09-26T23:59:59+00:00",
          "2020-09-27T23:59:59+00:00",
          "2020-09-28T23:59:59+00:00",
          "2020-09-29T23:59:59+00:00",
          "2020-09-30T23:59:59+00:00",
          "2020-10-01T23:59:59+00:00",
          "2020-10-02T23:59:59+00:00",
          "2020-10-03T23:59:59+00:00",
          "2020-10-04T23:59:59+00:00",
          "2020-10-05T23:59:59+00:00",
          "2020-10-06T23:59:59+00:00",
          "2020-10-07T23:59:59+00:00",
          "2020-10-08T23:59:59+00:00",
          "2020-10-09T23:59:59+00:00",
          "2020-10-10T23:59:59+00:00",
          "2020-10-11T23:59:59+00:00",
          "2020-10-12T23:59:59+00:00",
          "2020-10-13T23:59:59+00:00",
          "2020-10-14T23:59:59+00:00",
          "2020-10-15T23:59:59+00:00",
          "2020-10-16T23:59:59+00:00",
          "2020-10-17T23:59:59+00:00",
          "2020-10-18T23:59:59+00:00",
          "2020-10-19T23:59:59+00:00",
          "2020-10-20T23:59:59+00:00",
          "2020-10-21T23:59:59+00:00",
          "2020-10-22T23:59:59+00:00",
          "2020-10-23T23:59:59+00:00",
          "2020-10-24T23:59:59+00:00",
          "2020-10-25T23:59:59+00:00",
          "2020-10-26T23:59:59+00:00",
          "2020-10-27T23:59:59+00:00",
          "2020-10-28T23:59:59+00:00",
          "2020-10-29T23:59:59+00:00",
          "2020-10-30T23:59:59+00:00",
          "2020-10-31T23:59:59+00:00",
          "2020-11-01T23:59:59+00:00",
          "2020-11-02T23:59:59+00:00",
          "2020-11-03T23:59:59+00:00",
          "2020-11-04T23:59:59+00:00",
          "2020-11-05T23:59:59+00:00",
          "2020-11-06T23:59:59+00:00",
          "2020-11-07T23:59:59+00:00",
          "2020-11-08T23:59:59+00:00",
          "2020-11-09T23:59:59+00:00",
          "2020-11-10T23:59:59+00:00",
          "2020-11-11T23:59:59+00:00",
          "2020-11-12T23:59:59+00:00",
          "2020-11-13T23:59:59+00:00",
          "2020-11-14T23:59:59+00:00",
          "2020-11-15T23:59:59+00:00",
          "2020-11-16T23:59:59+00:00",
          "2020-11-17T23:59:59+00:00",
          "2020-11-18T23:59:59+00:00",
          "2020-11-19T23:59:59+00:00",
          "2020-11-20T23:59:59+00:00",
          "2020-11-21T23:59:59+00:00",
          "2020-11-22T23:59:59+00:00",
          "2020-11-23T23:59:59+00:00",
          "2020-11-24T23:59:59+00:00",
          "2020-11-25T23:59:59+00:00",
          "2020-11-26T23:59:59+00:00",
          "2020-11-27T23:59:59+00:00",
          "2020-11-28T23:59:59+00:00",
          "2020-11-29T23:59:59+00:00",
          "2020-11-30T23:59:59+00:00",
          "2020-12-01T23:59:59+00:00",
          "2020-12-02T23:59:59+00:00",
          "2020-12-03T23:59:59+00:00",
          "2020-12-04T23:59:59+00:00",
          "2020-12-05T23:59:59+00:00",
          "2020-12-06T23:59:59+00:00",
          "2020-12-07T23:59:59+00:00",
          "2020-12-08T23:59:59+00:00",
          "2020-12-09T23:59:59+00:00",
          "2020-12-10T23:59:59+00:00",
          "2020-12-11T23:59:59+00:00",
          "2020-12-12T23:59:59+00:00",
          "2020-12-13T23:59:59+00:00",
          "2020-12-14T23:59:59+00:00",
          "2020-12-15T23:59:59+00:00",
          "2020-12-16T23:59:59+00:00",
          "2020-12-17T23:59:59+00:00",
          "2020-12-18T23:59:59+00:00",
          "2020-12-19T23:59:59+00:00",
          "2020-12-20T23:59:59+00:00",
          "2020-12-21T23:59:59+00:00",
          "2020-12-22T23:59:59+00:00",
          "2020-12-23T23:59:59+00:00",
          "2020-12-24T23:59:59+00:00",
          "2020-12-25T23:59:59+00:00",
          "2020-12-26T23:59:59+00:00",
          "2020-12-27T23:59:59+00:00",
          "2020-12-28T23:59:59+00:00",
          "2020-12-29T23:59:59+00:00",
          "2020-12-30T23:59:59+00:00",
          "2020-12-31T23:59:59+00:00",
          "2021-01-01T23:59:59+00:00",
          "2021-01-02T23:59:59+00:00",
          "2021-01-03T23:59:59+00:00",
          "2021-01-04T23:59:59+00:00",
          "2021-01-05T23:59:59+00:00",
          "2021-01-06T23:59:59+00:00",
          "2021-01-07T23:59:59+00:00",
          "2021-01-08T23:59:59+00:00",
          "2021-01-09T23:59:59+00:00",
          "2021-01-10T23:59:59+00:00",
          "2021-01-11T23:59:59+00:00",
          "2021-01-12T23:59:59+00:00",
          "2021-01-13T23:59:59+00:00",
          "2021-01-14T23:59:59+00:00",
          "2021-01-15T23:59:59+00:00",
          "2021-01-16T23:59:59+00:00",
          "2021-01-17T23:59:59+00:00",
          "2021-01-18T23:59:59+00:00",
          "2021-01-19T23:59:59+00:00",
          "2021-01-20T23:59:59+00:00",
          "2021-01-21T23:59:59+00:00",
          "2021-01-22T23:59:59+00:00",
          "2021-01-23T23:59:59+00:00",
          "2021-01-24T23:59:59+00:00",
          "2021-01-25T23:59:59+00:00",
          "2021-01-26T23:59:59+00:00",
          "2021-01-27T23:59:59+00:00",
          "2021-01-28T23:59:59+00:00",
          "2021-01-29T23:59:59+00:00",
          "2021-01-30T23:59:59+00:00",
          "2021-01-31T23:59:59+00:00",
          "2021-02-01T23:59:59+00:00",
          "2021-02-02T23:59:59+00:00",
          "2021-02-03T23:59:59+00:00",
          "2021-02-04T23:59:59+00:00",
          "2021-02-05T23:59:59+00:00",
          "2021-02-06T23:59:59+00:00",
          "2021-02-07T23:59:59+00:00",
          "2021-02-08T23:59:59+00:00",
          "2021-02-09T23:59:59+00:00",
          "2021-02-10T23:59:59+00:00",
          "2021-02-11T23:59:59+00:00",
          "2021-02-12T23:59:59+00:00",
          "2021-02-13T23:59:59+00:00",
          "2021-02-14T23:59:59+00:00",
          "2021-02-15T23:59:59+00:00",
          "2021-02-16T23:59:59+00:00",
          "2021-02-17T23:59:59+00:00",
          "2021-02-18T23:59:59+00:00",
          "2021-02-19T23:59:59+00:00",
          "2021-02-20T23:59:59+00:00",
          "2021-02-21T23:59:59+00:00",
          "2021-02-22T23:59:59+00:00",
          "2021-02-23T23:59:59+00:00",
          "2021-02-24T23:59:59+00:00",
          "2021-02-25T23:59:59+00:00",
          "2021-02-26T23:59:59+00:00",
          "2021-02-27T23:59:59+00:00",
          "2021-02-28T23:59:59+00:00",
          "2021-03-01T23:59:59+00:00",
          "2021-03-02T23:59:59+00:00",
          "2021-03-03T23:59:59+00:00",
          "2021-03-04T23:59:59+00:00",
          "2021-03-05T23:59:59+00:00",
          "2021-03-06T23:59:59+00:00",
          "2021-03-07T23:59:59+00:00",
          "2021-03-08T23:59:59+00:00",
          "2021-03-09T23:59:59+00:00",
          "2021-03-10T23:59:59+00:00",
          "2021-03-11T23:59:59+00:00",
          "2021-03-12T23:59:59+00:00",
          "2021-03-13T23:59:59+00:00",
          "2021-03-14T23:59:59+00:00",
          "2021-03-15T23:59:59+00:00",
          "2021-03-16T23:59:59+00:00",
          "2021-03-17T23:59:59+00:00",
          "2021-03-18T23:59:59+00:00",
          "2021-03-19T23:59:59+00:00",
          "2021-03-20T23:59:59+00:00",
          "2021-03-21T23:59:59+00:00",
          "2021-03-22T23:59:59+00:00",
          "2021-03-23T23:59:59+00:00",
          "2021-03-24T23:59:59+00:00",
          "2021-03-25T23:59:59+00:00",
          "2021-03-26T23:59:59+00:00",
          "2021-03-27T23:59:59+00:00",
          "2021-03-28T23:59:59+00:00",
          "2021-03-29T23:59:59+00:00",
          "2021-03-30T23:59:59+00:00",
          "2021-03-31T23:59:59+00:00",
          "2021-04-01T23:59:59+00:00",
          "2021-04-02T23:59:59+00:00",
          "2021-04-03T23:59:59+00:00",
          "2021-04-04T23:59:59+00:00",
          "2021-04-05T23:59:59+00:00",
          "2021-04-06T23:59:59+00:00",
          "2021-04-07T23:59:59+00:00",
          "2021-04-08T23:59:59+00:00",
          "2021-04-09T23:59:59+00:00",
          "2021-04-10T23:59:59+00:00",
          "2021-04-11T23:59:59+00:00",
          "2021-04-12T23:59:59+00:00",
          "2021-04-13T23:59:59+00:00",
          "2021-04-14T23:59:59+00:00",
          "2021-04-15T23:59:59+00:00",
          "2021-04-16T23:59:59+00:00",
          "2021-04-17T23:59:59+00:00",
          "2021-04-18T23:59:59+00:00",
          "2021-04-19T23:59:59+00:00",
          "2021-04-20T23:59:59+00:00",
          "2021-04-21T23:59:59+00:00",
          "2021-04-22T23:59:59+00:00",
          "2021-04-23T23:59:59+00:00",
          "2021-04-24T23:59:59+00:00",
          "2021-04-25T23:59:59+00:00",
          "2021-04-26T23:59:59+00:00",
          "2021-04-27T23:59:59+00:00",
          "2021-04-28T23:59:59+00:00",
          "2021-04-29T23:59:59+00:00",
          "2021-04-30T23:59:59+00:00",
          "2021-05-01T23:59:59+00:00",
          "2021-05-02T23:59:59+00:00",
          "2021-05-03T23:59:59+00:00",
          "2021-05-04T23:59:59+00:00",
          "2021-05-05T23:59:59+00:00",
          "2021-05-06T23:59:59+00:00",
          "2021-05-07T23:59:59+00:00",
          "2021-05-08T23:59:59+00:00",
          "2021-05-09T23:59:59+00:00",
          "2021-05-10T23:59:59+00:00",
          "2021-05-11T23:59:59+00:00",
          "2021-05-12T23:59:59+00:00",
          "2021-05-13T23:59:59+00:00",
          "2021-05-14T23:59:59+00:00",
          "2021-05-15T23:59:59+00:00",
          "2021-05-16T23:59:59+00:00",
          "2021-05-17T23:59:59+00:00",
          "2021-05-18T23:59:59+00:00",
          "2021-05-19T23:59:59+00:00",
          "2021-05-20T23:59:59+00:00",
          "2021-05-21T23:59:59+00:00",
          "2021-05-22T23:59:59+00:00",
          "2021-05-23T23:59:59+00:00",
          "2021-05-24T23:59:59+00:00",
          "2021-05-25T23:59:59+00:00",
          "2021-05-26T23:59:59+00:00",
          "2021-05-27T23:59:59+00:00",
          "2021-05-28T23:59:59+00:00",
          "2021-05-29T23:59:59+00:00",
          "2021-05-30T23:59:59+00:00",
          "2021-05-31T23:59:59+00:00",
          "2021-06-01T23:59:59+00:00"
         ],
         "xaxis": "x",
         "y": [
          1,
          1,
          2,
          1,
          2,
          5,
          8,
          7,
          1,
          4,
          3,
          10,
          16,
          8,
          16,
          28,
          29,
          47,
          50,
          48,
          57,
          63,
          74,
          52,
          54,
          64,
          81,
          68,
          61,
          66,
          46,
          50,
          58,
          53,
          46,
          37,
          29,
          15,
          49,
          34,
          32,
          44,
          30,
          19,
          18,
          28,
          40,
          25,
          39,
          23,
          25,
          21,
          44,
          54,
          31,
          63,
          69,
          32,
          26,
          57,
          29,
          30,
          29,
          34,
          23,
          18,
          24,
          24,
          16,
          24,
          13,
          13,
          13,
          12,
          10,
          24,
          8,
          18,
          11,
          9,
          10,
          14,
          13,
          23,
          8,
          8,
          10,
          7,
          5,
          9,
          9,
          12,
          13,
          9,
          13,
          12,
          3,
          9,
          5,
          11,
          8,
          6,
          15,
          18,
          12,
          16,
          15,
          7,
          8,
          23,
          6,
          6,
          7,
          8,
          19,
          9,
          19,
          19,
          7,
          10,
          11,
          8,
          8,
          15,
          11,
          9,
          14,
          14,
          7,
          11,
          18,
          18,
          21,
          27,
          22,
          18,
          13,
          22,
          33,
          30,
          33,
          26,
          31,
          30,
          30,
          35,
          32,
          27,
          22,
          21,
          20,
          53,
          21,
          46,
          44,
          48,
          41,
          35,
          36,
          42,
          55,
          42,
          43,
          41,
          63,
          77,
          82,
          93,
          112,
          61,
          80,
          51,
          74,
          85,
          108,
          121,
          75,
          61,
          61,
          46,
          99,
          111,
          106,
          105,
          87,
          60,
          98,
          81,
          150,
          125,
          113,
          111,
          92,
          114,
          122,
          121,
          149,
          102,
          84,
          83,
          155,
          139,
          153,
          130,
          108,
          126,
          98,
          81,
          149,
          80,
          98,
          116,
          88,
          96,
          110,
          119,
          144,
          94,
          125,
          124,
          90,
          112,
          122,
          129,
          182,
          160,
          112,
          142,
          158,
          89,
          152,
          211,
          137,
          204,
          140,
          256,
          298,
          200,
          274,
          295,
          229,
          259,
          265,
          272,
          340,
          381,
          381,
          374,
          336,
          367,
          591,
          481,
          449,
          568,
          504,
          497,
          699,
          660,
          585,
          542,
          945,
          588,
          550,
          734,
          860,
          643,
          936,
          721,
          657,
          680,
          843,
          880,
          757,
          705,
          819,
          639,
          542,
          773,
          757,
          697,
          589,
          777,
          573,
          580,
          660,
          763,
          774,
          715,
          738,
          563,
          517,
          587,
          635,
          622,
          640,
          579,
          503,
          404,
          514,
          536,
          554,
          404,
          331,
          476,
          404,
          618,
          594,
          619,
          596,
          414,
          537,
          517,
          566,
          607,
          548,
          527,
          533,
          449,
          409,
          503,
          521,
          495,
          572,
          462,
          321,
          379,
          513,
          558,
          520,
          486,
          494,
          359,
          335,
          537,
          502,
          523,
          421,
          478,
          295,
          398,
          402,
          473,
          475,
          444,
          484,
          348,
          394,
          475,
          448,
          433,
          451,
          451,
          360,
          323,
          393,
          618,
          542,
          529,
          493,
          455,
          501,
          521,
          506,
          593,
          519,
          493,
          450,
          457,
          558,
          564,
          626,
          548,
          558,
          399,
          497,
          529,
          580,
          660,
          550,
          526,
          484,
          482,
          514,
          597,
          735,
          577,
          616,
          659,
          586,
          721,
          806,
          992,
          885,
          826,
          802,
          787,
          1022,
          880,
          1075,
          1107,
          1029,
          912,
          928,
          1036,
          1316,
          1218,
          1301,
          1064,
          1040,
          944,
          1004,
          1225,
          929,
          1086,
          965,
          1019,
          747,
          930,
          960,
          1015,
          893,
          875,
          764,
          773,
          796,
          873,
          746,
          892,
          688,
          646,
          569,
          627,
          711,
          651,
          618,
          623,
          569,
          516,
          575,
          604,
          479,
          452,
          486,
          442,
          398,
          522,
          376,
          433,
          353,
          335,
          302,
          252,
          254,
          392,
          315,
          251,
          247,
          218,
          153,
          198
         ],
         "yaxis": "y"
        },
        {
         "hovertemplate": "province=AB<br>reported_date=%{x}<br>total_daily=%{y}<extra></extra>",
         "legendgroup": "AB",
         "line": {
          "color": "#ab63fa",
          "dash": "solid"
         },
         "marker": {
          "symbol": "circle"
         },
         "mode": "lines",
         "name": "AB",
         "showlegend": true,
         "type": "scattergl",
         "x": [
          "2020-03-05T23:59:59+00:00",
          "2020-03-07T23:59:59+00:00",
          "2020-03-08T23:59:59+00:00",
          "2020-03-09T23:59:59+00:00",
          "2020-03-10T23:59:59+00:00",
          "2020-03-11T23:59:59+00:00",
          "2020-03-12T23:59:59+00:00",
          "2020-03-13T23:59:59+00:00",
          "2020-03-14T23:59:59+00:00",
          "2020-03-15T23:59:59+00:00",
          "2020-03-16T23:59:59+00:00",
          "2020-03-17T23:59:59+00:00",
          "2020-03-18T23:59:59+00:00",
          "2020-03-19T23:59:59+00:00",
          "2020-03-20T23:59:59+00:00",
          "2020-03-21T23:59:59+00:00",
          "2020-03-22T23:59:59+00:00",
          "2020-03-23T23:59:59+00:00",
          "2020-03-24T23:59:59+00:00",
          "2020-03-25T23:59:59+00:00",
          "2020-03-26T23:59:59+00:00",
          "2020-03-27T23:59:59+00:00",
          "2020-03-28T23:59:59+00:00",
          "2020-03-29T23:59:59+00:00",
          "2020-03-30T23:59:59+00:00",
          "2020-03-31T23:59:59+00:00",
          "2020-04-01T23:59:59+00:00",
          "2020-04-02T23:59:59+00:00",
          "2020-04-03T23:59:59+00:00",
          "2020-04-04T23:59:59+00:00",
          "2020-04-05T23:59:59+00:00",
          "2020-04-06T23:59:59+00:00",
          "2020-04-07T23:59:59+00:00",
          "2020-04-08T23:59:59+00:00",
          "2020-04-09T23:59:59+00:00",
          "2020-04-10T23:59:59+00:00",
          "2020-04-11T23:59:59+00:00",
          "2020-04-12T23:59:59+00:00",
          "2020-04-13T23:59:59+00:00",
          "2020-04-14T23:59:59+00:00",
          "2020-04-15T23:59:59+00:00",
          "2020-04-16T23:59:59+00:00",
          "2020-04-17T23:59:59+00:00",
          "2020-04-18T23:59:59+00:00",
          "2020-04-19T23:59:59+00:00",
          "2020-04-20T23:59:59+00:00",
          "2020-04-21T23:59:59+00:00",
          "2020-04-22T23:59:59+00:00",
          "2020-04-23T23:59:59+00:00",
          "2020-04-24T23:59:59+00:00",
          "2020-04-25T23:59:59+00:00",
          "2020-04-26T23:59:59+00:00",
          "2020-04-27T23:59:59+00:00",
          "2020-04-28T23:59:59+00:00",
          "2020-04-29T23:59:59+00:00",
          "2020-04-30T23:59:59+00:00",
          "2020-05-01T23:59:59+00:00",
          "2020-05-02T23:59:59+00:00",
          "2020-05-03T23:59:59+00:00",
          "2020-05-04T23:59:59+00:00",
          "2020-05-05T23:59:59+00:00",
          "2020-05-06T23:59:59+00:00",
          "2020-05-07T23:59:59+00:00",
          "2020-05-08T23:59:59+00:00",
          "2020-05-09T23:59:59+00:00",
          "2020-05-10T23:59:59+00:00",
          "2020-05-11T23:59:59+00:00",
          "2020-05-12T23:59:59+00:00",
          "2020-05-13T23:59:59+00:00",
          "2020-05-14T23:59:59+00:00",
          "2020-05-15T23:59:59+00:00",
          "2020-05-16T23:59:59+00:00",
          "2020-05-17T23:59:59+00:00",
          "2020-05-18T23:59:59+00:00",
          "2020-05-19T23:59:59+00:00",
          "2020-05-20T23:59:59+00:00",
          "2020-05-21T23:59:59+00:00",
          "2020-05-22T23:59:59+00:00",
          "2020-05-23T23:59:59+00:00",
          "2020-05-24T23:59:59+00:00",
          "2020-05-25T23:59:59+00:00",
          "2020-05-26T23:59:59+00:00",
          "2020-05-27T23:59:59+00:00",
          "2020-05-28T23:59:59+00:00",
          "2020-05-29T23:59:59+00:00",
          "2020-05-30T23:59:59+00:00",
          "2020-05-31T23:59:59+00:00",
          "2020-06-01T23:59:59+00:00",
          "2020-06-02T23:59:59+00:00",
          "2020-06-03T23:59:59+00:00",
          "2020-06-04T23:59:59+00:00",
          "2020-06-05T23:59:59+00:00",
          "2020-06-06T23:59:59+00:00",
          "2020-06-07T23:59:59+00:00",
          "2020-06-08T23:59:59+00:00",
          "2020-06-09T23:59:59+00:00",
          "2020-06-10T23:59:59+00:00",
          "2020-06-11T23:59:59+00:00",
          "2020-06-12T23:59:59+00:00",
          "2020-06-13T23:59:59+00:00",
          "2020-06-14T23:59:59+00:00",
          "2020-06-15T23:59:59+00:00",
          "2020-06-16T23:59:59+00:00",
          "2020-06-17T23:59:59+00:00",
          "2020-06-18T23:59:59+00:00",
          "2020-06-19T23:59:59+00:00",
          "2020-06-20T23:59:59+00:00",
          "2020-06-21T23:59:59+00:00",
          "2020-06-22T23:59:59+00:00",
          "2020-06-23T23:59:59+00:00",
          "2020-06-24T23:59:59+00:00",
          "2020-06-25T23:59:59+00:00",
          "2020-06-26T23:59:59+00:00",
          "2020-06-27T23:59:59+00:00",
          "2020-06-28T23:59:59+00:00",
          "2020-06-29T23:59:59+00:00",
          "2020-06-30T23:59:59+00:00",
          "2020-07-01T23:59:59+00:00",
          "2020-07-02T23:59:59+00:00",
          "2020-07-03T23:59:59+00:00",
          "2020-07-04T23:59:59+00:00",
          "2020-07-05T23:59:59+00:00",
          "2020-07-06T23:59:59+00:00",
          "2020-07-07T23:59:59+00:00",
          "2020-07-08T23:59:59+00:00",
          "2020-07-09T23:59:59+00:00",
          "2020-07-10T23:59:59+00:00",
          "2020-07-11T23:59:59+00:00",
          "2020-07-12T23:59:59+00:00",
          "2020-07-13T23:59:59+00:00",
          "2020-07-14T23:59:59+00:00",
          "2020-07-15T23:59:59+00:00",
          "2020-07-16T23:59:59+00:00",
          "2020-07-17T23:59:59+00:00",
          "2020-07-18T23:59:59+00:00",
          "2020-07-19T23:59:59+00:00",
          "2020-07-20T23:59:59+00:00",
          "2020-07-21T23:59:59+00:00",
          "2020-07-22T23:59:59+00:00",
          "2020-07-23T23:59:59+00:00",
          "2020-07-24T23:59:59+00:00",
          "2020-07-25T23:59:59+00:00",
          "2020-07-26T23:59:59+00:00",
          "2020-07-27T23:59:59+00:00",
          "2020-07-28T23:59:59+00:00",
          "2020-07-29T23:59:59+00:00",
          "2020-07-30T23:59:59+00:00",
          "2020-07-31T23:59:59+00:00",
          "2020-08-01T23:59:59+00:00",
          "2020-08-02T23:59:59+00:00",
          "2020-08-03T23:59:59+00:00",
          "2020-08-04T23:59:59+00:00",
          "2020-08-05T23:59:59+00:00",
          "2020-08-06T23:59:59+00:00",
          "2020-08-07T23:59:59+00:00",
          "2020-08-08T23:59:59+00:00",
          "2020-08-09T23:59:59+00:00",
          "2020-08-10T23:59:59+00:00",
          "2020-08-11T23:59:59+00:00",
          "2020-08-12T23:59:59+00:00",
          "2020-08-13T23:59:59+00:00",
          "2020-08-14T23:59:59+00:00",
          "2020-08-15T23:59:59+00:00",
          "2020-08-16T23:59:59+00:00",
          "2020-08-17T23:59:59+00:00",
          "2020-08-18T23:59:59+00:00",
          "2020-08-19T23:59:59+00:00",
          "2020-08-20T23:59:59+00:00",
          "2020-08-21T23:59:59+00:00",
          "2020-08-22T23:59:59+00:00",
          "2020-08-23T23:59:59+00:00",
          "2020-08-24T23:59:59+00:00",
          "2020-08-25T23:59:59+00:00",
          "2020-08-26T23:59:59+00:00",
          "2020-08-27T23:59:59+00:00",
          "2020-08-28T23:59:59+00:00",
          "2020-08-29T23:59:59+00:00",
          "2020-08-30T23:59:59+00:00",
          "2020-08-31T23:59:59+00:00",
          "2020-09-01T23:59:59+00:00",
          "2020-09-02T23:59:59+00:00",
          "2020-09-03T23:59:59+00:00",
          "2020-09-04T23:59:59+00:00",
          "2020-09-05T23:59:59+00:00",
          "2020-09-06T23:59:59+00:00",
          "2020-09-07T23:59:59+00:00",
          "2020-09-08T23:59:59+00:00",
          "2020-09-09T23:59:59+00:00",
          "2020-09-10T23:59:59+00:00",
          "2020-09-11T23:59:59+00:00",
          "2020-09-12T23:59:59+00:00",
          "2020-09-13T23:59:59+00:00",
          "2020-09-14T23:59:59+00:00",
          "2020-09-15T23:59:59+00:00",
          "2020-09-16T23:59:59+00:00",
          "2020-09-17T23:59:59+00:00",
          "2020-09-18T23:59:59+00:00",
          "2020-09-19T23:59:59+00:00",
          "2020-09-20T23:59:59+00:00",
          "2020-09-21T23:59:59+00:00",
          "2020-09-22T23:59:59+00:00",
          "2020-09-23T23:59:59+00:00",
          "2020-09-24T23:59:59+00:00",
          "2020-09-25T23:59:59+00:00",
          "2020-09-26T23:59:59+00:00",
          "2020-09-27T23:59:59+00:00",
          "2020-09-28T23:59:59+00:00",
          "2020-09-29T23:59:59+00:00",
          "2020-09-30T23:59:59+00:00",
          "2020-10-01T23:59:59+00:00",
          "2020-10-02T23:59:59+00:00",
          "2020-10-03T23:59:59+00:00",
          "2020-10-04T23:59:59+00:00",
          "2020-10-05T23:59:59+00:00",
          "2020-10-06T23:59:59+00:00",
          "2020-10-07T23:59:59+00:00",
          "2020-10-08T23:59:59+00:00",
          "2020-10-09T23:59:59+00:00",
          "2020-10-10T23:59:59+00:00",
          "2020-10-11T23:59:59+00:00",
          "2020-10-12T23:59:59+00:00",
          "2020-10-13T23:59:59+00:00",
          "2020-10-14T23:59:59+00:00",
          "2020-10-15T23:59:59+00:00",
          "2020-10-16T23:59:59+00:00",
          "2020-10-17T23:59:59+00:00",
          "2020-10-18T23:59:59+00:00",
          "2020-10-19T23:59:59+00:00",
          "2020-10-20T23:59:59+00:00",
          "2020-10-21T23:59:59+00:00",
          "2020-10-22T23:59:59+00:00",
          "2020-10-23T23:59:59+00:00",
          "2020-10-24T23:59:59+00:00",
          "2020-10-25T23:59:59+00:00",
          "2020-10-26T23:59:59+00:00",
          "2020-10-27T23:59:59+00:00",
          "2020-10-28T23:59:59+00:00",
          "2020-10-29T23:59:59+00:00",
          "2020-10-30T23:59:59+00:00",
          "2020-10-31T23:59:59+00:00",
          "2020-11-01T23:59:59+00:00",
          "2020-11-02T23:59:59+00:00",
          "2020-11-03T23:59:59+00:00",
          "2020-11-04T23:59:59+00:00",
          "2020-11-05T23:59:59+00:00",
          "2020-11-06T23:59:59+00:00",
          "2020-11-07T23:59:59+00:00",
          "2020-11-08T23:59:59+00:00",
          "2020-11-09T23:59:59+00:00",
          "2020-11-10T23:59:59+00:00",
          "2020-11-11T23:59:59+00:00",
          "2020-11-12T23:59:59+00:00",
          "2020-11-13T23:59:59+00:00",
          "2020-11-14T23:59:59+00:00",
          "2020-11-15T23:59:59+00:00",
          "2020-11-16T23:59:59+00:00",
          "2020-11-17T23:59:59+00:00",
          "2020-11-18T23:59:59+00:00",
          "2020-11-19T23:59:59+00:00",
          "2020-11-20T23:59:59+00:00",
          "2020-11-21T23:59:59+00:00",
          "2020-11-22T23:59:59+00:00",
          "2020-11-23T23:59:59+00:00",
          "2020-11-24T23:59:59+00:00",
          "2020-11-25T23:59:59+00:00",
          "2020-11-26T23:59:59+00:00",
          "2020-11-27T23:59:59+00:00",
          "2020-11-28T23:59:59+00:00",
          "2020-11-29T23:59:59+00:00",
          "2020-11-30T23:59:59+00:00",
          "2020-12-01T23:59:59+00:00",
          "2020-12-02T23:59:59+00:00",
          "2020-12-03T23:59:59+00:00",
          "2020-12-04T23:59:59+00:00",
          "2020-12-05T23:59:59+00:00",
          "2020-12-06T23:59:59+00:00",
          "2020-12-07T23:59:59+00:00",
          "2020-12-08T23:59:59+00:00",
          "2020-12-09T23:59:59+00:00",
          "2020-12-10T23:59:59+00:00",
          "2020-12-11T23:59:59+00:00",
          "2020-12-12T23:59:59+00:00",
          "2020-12-13T23:59:59+00:00",
          "2020-12-14T23:59:59+00:00",
          "2020-12-15T23:59:59+00:00",
          "2020-12-16T23:59:59+00:00",
          "2020-12-17T23:59:59+00:00",
          "2020-12-18T23:59:59+00:00",
          "2020-12-19T23:59:59+00:00",
          "2020-12-20T23:59:59+00:00",
          "2020-12-21T23:59:59+00:00",
          "2020-12-22T23:59:59+00:00",
          "2020-12-23T23:59:59+00:00",
          "2020-12-24T23:59:59+00:00",
          "2020-12-25T23:59:59+00:00",
          "2020-12-26T23:59:59+00:00",
          "2020-12-27T23:59:59+00:00",
          "2020-12-28T23:59:59+00:00",
          "2020-12-29T23:59:59+00:00",
          "2020-12-30T23:59:59+00:00",
          "2020-12-31T23:59:59+00:00",
          "2021-01-01T23:59:59+00:00",
          "2021-01-02T23:59:59+00:00",
          "2021-01-03T23:59:59+00:00",
          "2021-01-04T23:59:59+00:00",
          "2021-01-05T23:59:59+00:00",
          "2021-01-06T23:59:59+00:00",
          "2021-01-07T23:59:59+00:00",
          "2021-01-08T23:59:59+00:00",
          "2021-01-09T23:59:59+00:00",
          "2021-01-10T23:59:59+00:00",
          "2021-01-11T23:59:59+00:00",
          "2021-01-12T23:59:59+00:00",
          "2021-01-13T23:59:59+00:00",
          "2021-01-14T23:59:59+00:00",
          "2021-01-15T23:59:59+00:00",
          "2021-01-16T23:59:59+00:00",
          "2021-01-17T23:59:59+00:00",
          "2021-01-18T23:59:59+00:00",
          "2021-01-19T23:59:59+00:00",
          "2021-01-20T23:59:59+00:00",
          "2021-01-21T23:59:59+00:00",
          "2021-01-22T23:59:59+00:00",
          "2021-01-23T23:59:59+00:00",
          "2021-01-24T23:59:59+00:00",
          "2021-01-25T23:59:59+00:00",
          "2021-01-26T23:59:59+00:00",
          "2021-01-27T23:59:59+00:00",
          "2021-01-28T23:59:59+00:00",
          "2021-01-29T23:59:59+00:00",
          "2021-01-30T23:59:59+00:00",
          "2021-01-31T23:59:59+00:00",
          "2021-02-01T23:59:59+00:00",
          "2021-02-02T23:59:59+00:00",
          "2021-02-03T23:59:59+00:00",
          "2021-02-04T23:59:59+00:00",
          "2021-02-05T23:59:59+00:00",
          "2021-02-06T23:59:59+00:00",
          "2021-02-07T23:59:59+00:00",
          "2021-02-08T23:59:59+00:00",
          "2021-02-09T23:59:59+00:00",
          "2021-02-10T23:59:59+00:00",
          "2021-02-11T23:59:59+00:00",
          "2021-02-12T23:59:59+00:00",
          "2021-02-13T23:59:59+00:00",
          "2021-02-14T23:59:59+00:00",
          "2021-02-15T23:59:59+00:00",
          "2021-02-16T23:59:59+00:00",
          "2021-02-17T23:59:59+00:00",
          "2021-02-18T23:59:59+00:00",
          "2021-02-19T23:59:59+00:00",
          "2021-02-20T23:59:59+00:00",
          "2021-02-21T23:59:59+00:00",
          "2021-02-22T23:59:59+00:00",
          "2021-02-23T23:59:59+00:00",
          "2021-02-24T23:59:59+00:00",
          "2021-02-25T23:59:59+00:00",
          "2021-02-26T23:59:59+00:00",
          "2021-02-27T23:59:59+00:00",
          "2021-02-28T23:59:59+00:00",
          "2021-03-01T23:59:59+00:00",
          "2021-03-02T23:59:59+00:00",
          "2021-03-03T23:59:59+00:00",
          "2021-03-04T23:59:59+00:00",
          "2021-03-05T23:59:59+00:00",
          "2021-03-06T23:59:59+00:00",
          "2021-03-07T23:59:59+00:00",
          "2021-03-08T23:59:59+00:00",
          "2021-03-09T23:59:59+00:00",
          "2021-03-10T23:59:59+00:00",
          "2021-03-11T23:59:59+00:00",
          "2021-03-12T23:59:59+00:00",
          "2021-03-13T23:59:59+00:00",
          "2021-03-14T23:59:59+00:00",
          "2021-03-15T23:59:59+00:00",
          "2021-03-16T23:59:59+00:00",
          "2021-03-17T23:59:59+00:00",
          "2021-03-18T23:59:59+00:00",
          "2021-03-19T23:59:59+00:00",
          "2021-03-20T23:59:59+00:00",
          "2021-03-21T23:59:59+00:00",
          "2021-03-22T23:59:59+00:00",
          "2021-03-23T23:59:59+00:00",
          "2021-03-24T23:59:59+00:00",
          "2021-03-25T23:59:59+00:00",
          "2021-03-26T23:59:59+00:00",
          "2021-03-27T23:59:59+00:00",
          "2021-03-28T23:59:59+00:00",
          "2021-03-29T23:59:59+00:00",
          "2021-03-30T23:59:59+00:00",
          "2021-03-31T23:59:59+00:00",
          "2021-04-01T23:59:59+00:00",
          "2021-04-02T23:59:59+00:00",
          "2021-04-03T23:59:59+00:00",
          "2021-04-04T23:59:59+00:00",
          "2021-04-05T23:59:59+00:00",
          "2021-04-06T23:59:59+00:00",
          "2021-04-07T23:59:59+00:00",
          "2021-04-08T23:59:59+00:00",
          "2021-04-09T23:59:59+00:00",
          "2021-04-10T23:59:59+00:00",
          "2021-04-11T23:59:59+00:00",
          "2021-04-12T23:59:59+00:00",
          "2021-04-13T23:59:59+00:00",
          "2021-04-14T23:59:59+00:00",
          "2021-04-15T23:59:59+00:00",
          "2021-04-16T23:59:59+00:00",
          "2021-04-17T23:59:59+00:00",
          "2021-04-18T23:59:59+00:00",
          "2021-04-19T23:59:59+00:00",
          "2021-04-20T23:59:59+00:00",
          "2021-04-21T23:59:59+00:00",
          "2021-04-22T23:59:59+00:00",
          "2021-04-23T23:59:59+00:00",
          "2021-04-24T23:59:59+00:00",
          "2021-04-25T23:59:59+00:00",
          "2021-04-26T23:59:59+00:00",
          "2021-04-27T23:59:59+00:00",
          "2021-04-28T23:59:59+00:00",
          "2021-04-29T23:59:59+00:00",
          "2021-04-30T23:59:59+00:00",
          "2021-05-01T23:59:59+00:00",
          "2021-05-02T23:59:59+00:00",
          "2021-05-03T23:59:59+00:00",
          "2021-05-04T23:59:59+00:00",
          "2021-05-05T23:59:59+00:00",
          "2021-05-06T23:59:59+00:00",
          "2021-05-07T23:59:59+00:00",
          "2021-05-08T23:59:59+00:00",
          "2021-05-09T23:59:59+00:00",
          "2021-05-10T23:59:59+00:00",
          "2021-05-11T23:59:59+00:00",
          "2021-05-12T23:59:59+00:00",
          "2021-05-13T23:59:59+00:00",
          "2021-05-14T23:59:59+00:00",
          "2021-05-15T23:59:59+00:00",
          "2021-05-16T23:59:59+00:00",
          "2021-05-17T23:59:59+00:00",
          "2021-05-18T23:59:59+00:00",
          "2021-05-19T23:59:59+00:00",
          "2021-05-20T23:59:59+00:00",
          "2021-05-21T23:59:59+00:00",
          "2021-05-22T23:59:59+00:00",
          "2021-05-23T23:59:59+00:00",
          "2021-05-24T23:59:59+00:00",
          "2021-05-25T23:59:59+00:00",
          "2021-05-26T23:59:59+00:00",
          "2021-05-27T23:59:59+00:00",
          "2021-05-28T23:59:59+00:00",
          "2021-05-29T23:59:59+00:00",
          "2021-05-30T23:59:59+00:00",
          "2021-05-31T23:59:59+00:00",
          "2021-06-01T23:59:59+00:00"
         ],
         "xaxis": "x",
         "y": [
          1,
          1,
          1,
          4,
          9,
          7,
          3,
          8,
          22,
          11,
          24,
          11,
          29,
          32,
          46,
          35,
          47,
          53,
          68,
          63,
          53,
          85,
          54,
          34,
          40,
          132,
          108,
          122,
          70,
          60,
          42,
          34,
          53,
          33,
          45,
          49,
          65,
          68,
          68,
          127,
          133,
          146,
          213,
          187,
          201,
          183,
          264,
          294,
          340,
          232,
          222,
          203,
          178,
          249,
          231,
          222,
          141,
          112,
          70,
          79,
          62,
          65,
          87,
          77,
          85,
          71,
          47,
          70,
          62,
          61,
          73,
          54,
          46,
          38,
          43,
          27,
          30,
          27,
          32,
          29,
          13,
          19,
          27,
          28,
          30,
          20,
          34,
          21,
          19,
          18,
          19,
          37,
          23,
          33,
          24,
          38,
          48,
          43,
          27,
          35,
          53,
          36,
          45,
          46,
          46,
          47,
          30,
          33,
          41,
          45,
          25,
          36,
          66,
          37,
          68,
          44,
          33,
          64,
          55,
          30,
          48,
          48,
          49,
          44,
          43,
          74,
          62,
          90,
          78,
          87,
          85,
          115,
          103,
          168,
          102,
          88,
          131,
          136,
          113,
          116,
          117,
          98,
          89,
          81,
          131,
          118,
          124,
          99,
          67,
          73,
          64,
          94,
          61,
          128,
          111,
          97,
          45,
          86,
          116,
          72,
          81,
          104,
          83,
          95,
          85,
          81,
          101,
          140,
          88,
          103,
          70,
          73,
          125,
          104,
          153,
          142,
          181,
          109,
          152,
          109,
          132,
          157,
          169,
          168,
          134,
          147,
          97,
          113,
          116,
          115,
          166,
          137,
          123,
          170,
          182,
          125,
          137,
          120,
          152,
          156,
          128,
          129,
          124,
          175,
          155,
          121,
          127,
          175,
          154,
          147,
          222,
          195,
          213,
          206,
          243,
          218,
          186,
          258,
          250,
          241,
          221,
          242,
          242,
          319,
          307,
          225,
          370,
          324,
          392,
          436,
          442,
          390,
          578,
          500,
          416,
          407,
          479,
          614,
          589,
          524,
          605,
          571,
          537,
          771,
          735,
          825,
          640,
          630,
          724,
          676,
          854,
          896,
          1017,
          981,
          852,
          765,
          729,
          1102,
          1140,
          1333,
          1562,
          1528,
          1120,
          1271,
          1084,
          1228,
          1714,
          1593,
          1710,
          1317,
          1695,
          1851,
          1794,
          1880,
          1828,
          1725,
          1794,
          1494,
          1596,
          1745,
          1597,
          1709,
          1865,
          1342,
          1287,
          1592,
          1461,
          1369,
          1307,
          1251,
          1052,
          1336,
          1130,
          1240,
          904,
          486,
          955,
          896,
          1364,
          1263,
          1360,
          921,
          466,
          1138,
          878,
          1148,
          966,
          1176,
          982,
          809,
          627,
          675,
          867,
          966,
          779,
          702,
          743,
          461,
          462,
          670,
          672,
          642,
          567,
          451,
          358,
          362,
          468,
          473,
          519,
          388,
          468,
          351,
          280,
          456,
          403,
          394,
          361,
          352,
          268,
          219,
          335,
          348,
          318,
          301,
          286,
          244,
          260,
          286,
          420,
          331,
          384,
          327,
          268,
          277,
          425,
          404,
          355,
          413,
          301,
          287,
          262,
          400,
          333,
          408,
          336,
          306,
          250,
          252,
          385,
          405,
          447,
          426,
          376,
          364,
          349,
          507,
          516,
          669,
          528,
          545,
          456,
          481,
          677,
          762,
          727,
          655,
          640,
          540,
          622,
          895,
          878,
          1078,
          1065,
          936,
          867,
          930,
          1365,
          1414,
          1533,
          1281,
          1171,
          1096,
          1052,
          1433,
          1649,
          1606,
          1501,
          1474,
          1356,
          1348,
          1729,
          1842,
          1672,
          1513,
          1446,
          1492,
          1547,
          1835,
          2070,
          1995,
          2411,
          1701,
          1970,
          1792,
          2281,
          2183,
          1944,
          2050,
          1583,
          1570,
          1511,
          1813,
          1591,
          1485,
          1238,
          1132,
          718,
          918,
          955,
          829,
          756,
          635,
          552,
          447,
          388,
          407,
          540,
          538,
          409,
          397,
          259,
          213,
          430
         ],
         "yaxis": "y"
        }
       ],
       "layout": {
        "legend": {
         "title": {
          "text": "province"
         },
         "tracegroupgap": 0
        },
        "margin": {
         "t": 60
        },
        "template": {
         "data": {
          "bar": [
           {
            "error_x": {
             "color": "#2a3f5f"
            },
            "error_y": {
             "color": "#2a3f5f"
            },
            "marker": {
             "line": {
              "color": "#E5ECF6",
              "width": 0.5
             },
             "pattern": {
              "fillmode": "overlay",
              "size": 10,
              "solidity": 0.2
             }
            },
            "type": "bar"
           }
          ],
          "barpolar": [
           {
            "marker": {
             "line": {
              "color": "#E5ECF6",
              "width": 0.5
             },
             "pattern": {
              "fillmode": "overlay",
              "size": 10,
              "solidity": 0.2
             }
            },
            "type": "barpolar"
           }
          ],
          "carpet": [
           {
            "aaxis": {
             "endlinecolor": "#2a3f5f",
             "gridcolor": "white",
             "linecolor": "white",
             "minorgridcolor": "white",
             "startlinecolor": "#2a3f5f"
            },
            "baxis": {
             "endlinecolor": "#2a3f5f",
             "gridcolor": "white",
             "linecolor": "white",
             "minorgridcolor": "white",
             "startlinecolor": "#2a3f5f"
            },
            "type": "carpet"
           }
          ],
          "choropleth": [
           {
            "colorbar": {
             "outlinewidth": 0,
             "ticks": ""
            },
            "type": "choropleth"
           }
          ],
          "contour": [
           {
            "colorbar": {
             "outlinewidth": 0,
             "ticks": ""
            },
            "colorscale": [
             [
              0,
              "#0d0887"
             ],
             [
              0.1111111111111111,
              "#46039f"
             ],
             [
              0.2222222222222222,
              "#7201a8"
             ],
             [
              0.3333333333333333,
              "#9c179e"
             ],
             [
              0.4444444444444444,
              "#bd3786"
             ],
             [
              0.5555555555555556,
              "#d8576b"
             ],
             [
              0.6666666666666666,
              "#ed7953"
             ],
             [
              0.7777777777777778,
              "#fb9f3a"
             ],
             [
              0.8888888888888888,
              "#fdca26"
             ],
             [
              1,
              "#f0f921"
             ]
            ],
            "type": "contour"
           }
          ],
          "contourcarpet": [
           {
            "colorbar": {
             "outlinewidth": 0,
             "ticks": ""
            },
            "type": "contourcarpet"
           }
          ],
          "heatmap": [
           {
            "colorbar": {
             "outlinewidth": 0,
             "ticks": ""
            },
            "colorscale": [
             [
              0,
              "#0d0887"
             ],
             [
              0.1111111111111111,
              "#46039f"
             ],
             [
              0.2222222222222222,
              "#7201a8"
             ],
             [
              0.3333333333333333,
              "#9c179e"
             ],
             [
              0.4444444444444444,
              "#bd3786"
             ],
             [
              0.5555555555555556,
              "#d8576b"
             ],
             [
              0.6666666666666666,
              "#ed7953"
             ],
             [
              0.7777777777777778,
              "#fb9f3a"
             ],
             [
              0.8888888888888888,
              "#fdca26"
             ],
             [
              1,
              "#f0f921"
             ]
            ],
            "type": "heatmap"
           }
          ],
          "heatmapgl": [
           {
            "colorbar": {
             "outlinewidth": 0,
             "ticks": ""
            },
            "colorscale": [
             [
              0,
              "#0d0887"
             ],
             [
              0.1111111111111111,
              "#46039f"
             ],
             [
              0.2222222222222222,
              "#7201a8"
             ],
             [
              0.3333333333333333,
              "#9c179e"
             ],
             [
              0.4444444444444444,
              "#bd3786"
             ],
             [
              0.5555555555555556,
              "#d8576b"
             ],
             [
              0.6666666666666666,
              "#ed7953"
             ],
             [
              0.7777777777777778,
              "#fb9f3a"
             ],
             [
              0.8888888888888888,
              "#fdca26"
             ],
             [
              1,
              "#f0f921"
             ]
            ],
            "type": "heatmapgl"
           }
          ],
          "histogram": [
           {
            "marker": {
             "pattern": {
              "fillmode": "overlay",
              "size": 10,
              "solidity": 0.2
             }
            },
            "type": "histogram"
           }
          ],
          "histogram2d": [
           {
            "colorbar": {
             "outlinewidth": 0,
             "ticks": ""
            },
            "colorscale": [
             [
              0,
              "#0d0887"
             ],
             [
              0.1111111111111111,
              "#46039f"
             ],
             [
              0.2222222222222222,
              "#7201a8"
             ],
             [
              0.3333333333333333,
              "#9c179e"
             ],
             [
              0.4444444444444444,
              "#bd3786"
             ],
             [
              0.5555555555555556,
              "#d8576b"
             ],
             [
              0.6666666666666666,
              "#ed7953"
             ],
             [
              0.7777777777777778,
              "#fb9f3a"
             ],
             [
              0.8888888888888888,
              "#fdca26"
             ],
             [
              1,
              "#f0f921"
             ]
            ],
            "type": "histogram2d"
           }
          ],
          "histogram2dcontour": [
           {
            "colorbar": {
             "outlinewidth": 0,
             "ticks": ""
            },
            "colorscale": [
             [
              0,
              "#0d0887"
             ],
             [
              0.1111111111111111,
              "#46039f"
             ],
             [
              0.2222222222222222,
              "#7201a8"
             ],
             [
              0.3333333333333333,
              "#9c179e"
             ],
             [
              0.4444444444444444,
              "#bd3786"
             ],
             [
              0.5555555555555556,
              "#d8576b"
             ],
             [
              0.6666666666666666,
              "#ed7953"
             ],
             [
              0.7777777777777778,
              "#fb9f3a"
             ],
             [
              0.8888888888888888,
              "#fdca26"
             ],
             [
              1,
              "#f0f921"
             ]
            ],
            "type": "histogram2dcontour"
           }
          ],
          "mesh3d": [
           {
            "colorbar": {
             "outlinewidth": 0,
             "ticks": ""
            },
            "type": "mesh3d"
           }
          ],
          "parcoords": [
           {
            "line": {
             "colorbar": {
              "outlinewidth": 0,
              "ticks": ""
             }
            },
            "type": "parcoords"
           }
          ],
          "pie": [
           {
            "automargin": true,
            "type": "pie"
           }
          ],
          "scatter": [
           {
            "fillpattern": {
             "fillmode": "overlay",
             "size": 10,
             "solidity": 0.2
            },
            "type": "scatter"
           }
          ],
          "scatter3d": [
           {
            "line": {
             "colorbar": {
              "outlinewidth": 0,
              "ticks": ""
             }
            },
            "marker": {
             "colorbar": {
              "outlinewidth": 0,
              "ticks": ""
             }
            },
            "type": "scatter3d"
           }
          ],
          "scattercarpet": [
           {
            "marker": {
             "colorbar": {
              "outlinewidth": 0,
              "ticks": ""
             }
            },
            "type": "scattercarpet"
           }
          ],
          "scattergeo": [
           {
            "marker": {
             "colorbar": {
              "outlinewidth": 0,
              "ticks": ""
             }
            },
            "type": "scattergeo"
           }
          ],
          "scattergl": [
           {
            "marker": {
             "colorbar": {
              "outlinewidth": 0,
              "ticks": ""
             }
            },
            "type": "scattergl"
           }
          ],
          "scattermapbox": [
           {
            "marker": {
             "colorbar": {
              "outlinewidth": 0,
              "ticks": ""
             }
            },
            "type": "scattermapbox"
           }
          ],
          "scatterpolar": [
           {
            "marker": {
             "colorbar": {
              "outlinewidth": 0,
              "ticks": ""
             }
            },
            "type": "scatterpolar"
           }
          ],
          "scatterpolargl": [
           {
            "marker": {
             "colorbar": {
              "outlinewidth": 0,
              "ticks": ""
             }
            },
            "type": "scatterpolargl"
           }
          ],
          "scatterternary": [
           {
            "marker": {
             "colorbar": {
              "outlinewidth": 0,
              "ticks": ""
             }
            },
            "type": "scatterternary"
           }
          ],
          "surface": [
           {
            "colorbar": {
             "outlinewidth": 0,
             "ticks": ""
            },
            "colorscale": [
             [
              0,
              "#0d0887"
             ],
             [
              0.1111111111111111,
              "#46039f"
             ],
             [
              0.2222222222222222,
              "#7201a8"
             ],
             [
              0.3333333333333333,
              "#9c179e"
             ],
             [
              0.4444444444444444,
              "#bd3786"
             ],
             [
              0.5555555555555556,
              "#d8576b"
             ],
             [
              0.6666666666666666,
              "#ed7953"
             ],
             [
              0.7777777777777778,
              "#fb9f3a"
             ],
             [
              0.8888888888888888,
              "#fdca26"
             ],
             [
              1,
              "#f0f921"
             ]
            ],
            "type": "surface"
           }
          ],
          "table": [
           {
            "cells": {
             "fill": {
              "color": "#EBF0F8"
             },
             "line": {
              "color": "white"
             }
            },
            "header": {
             "fill": {
              "color": "#C8D4E3"
             },
             "line": {
              "color": "white"
             }
            },
            "type": "table"
           }
          ]
         },
         "layout": {
          "annotationdefaults": {
           "arrowcolor": "#2a3f5f",
           "arrowhead": 0,
           "arrowwidth": 1
          },
          "autotypenumbers": "strict",
          "coloraxis": {
           "colorbar": {
            "outlinewidth": 0,
            "ticks": ""
           }
          },
          "colorscale": {
           "diverging": [
            [
             0,
             "#8e0152"
            ],
            [
             0.1,
             "#c51b7d"
            ],
            [
             0.2,
             "#de77ae"
            ],
            [
             0.3,
             "#f1b6da"
            ],
            [
             0.4,
             "#fde0ef"
            ],
            [
             0.5,
             "#f7f7f7"
            ],
            [
             0.6,
             "#e6f5d0"
            ],
            [
             0.7,
             "#b8e186"
            ],
            [
             0.8,
             "#7fbc41"
            ],
            [
             0.9,
             "#4d9221"
            ],
            [
             1,
             "#276419"
            ]
           ],
           "sequential": [
            [
             0,
             "#0d0887"
            ],
            [
             0.1111111111111111,
             "#46039f"
            ],
            [
             0.2222222222222222,
             "#7201a8"
            ],
            [
             0.3333333333333333,
             "#9c179e"
            ],
            [
             0.4444444444444444,
             "#bd3786"
            ],
            [
             0.5555555555555556,
             "#d8576b"
            ],
            [
             0.6666666666666666,
             "#ed7953"
            ],
            [
             0.7777777777777778,
             "#fb9f3a"
            ],
            [
             0.8888888888888888,
             "#fdca26"
            ],
            [
             1,
             "#f0f921"
            ]
           ],
           "sequentialminus": [
            [
             0,
             "#0d0887"
            ],
            [
             0.1111111111111111,
             "#46039f"
            ],
            [
             0.2222222222222222,
             "#7201a8"
            ],
            [
             0.3333333333333333,
             "#9c179e"
            ],
            [
             0.4444444444444444,
             "#bd3786"
            ],
            [
             0.5555555555555556,
             "#d8576b"
            ],
            [
             0.6666666666666666,
             "#ed7953"
            ],
            [
             0.7777777777777778,
             "#fb9f3a"
            ],
            [
             0.8888888888888888,
             "#fdca26"
            ],
            [
             1,
             "#f0f921"
            ]
           ]
          },
          "colorway": [
           "#636efa",
           "#EF553B",
           "#00cc96",
           "#ab63fa",
           "#FFA15A",
           "#19d3f3",
           "#FF6692",
           "#B6E880",
           "#FF97FF",
           "#FECB52"
          ],
          "font": {
           "color": "#2a3f5f"
          },
          "geo": {
           "bgcolor": "white",
           "lakecolor": "white",
           "landcolor": "#E5ECF6",
           "showlakes": true,
           "showland": true,
           "subunitcolor": "white"
          },
          "hoverlabel": {
           "align": "left"
          },
          "hovermode": "closest",
          "mapbox": {
           "style": "light"
          },
          "paper_bgcolor": "white",
          "plot_bgcolor": "#E5ECF6",
          "polar": {
           "angularaxis": {
            "gridcolor": "white",
            "linecolor": "white",
            "ticks": ""
           },
           "bgcolor": "#E5ECF6",
           "radialaxis": {
            "gridcolor": "white",
            "linecolor": "white",
            "ticks": ""
           }
          },
          "scene": {
           "xaxis": {
            "backgroundcolor": "#E5ECF6",
            "gridcolor": "white",
            "gridwidth": 2,
            "linecolor": "white",
            "showbackground": true,
            "ticks": "",
            "zerolinecolor": "white"
           },
           "yaxis": {
            "backgroundcolor": "#E5ECF6",
            "gridcolor": "white",
            "gridwidth": 2,
            "linecolor": "white",
            "showbackground": true,
            "ticks": "",
            "zerolinecolor": "white"
           },
           "zaxis": {
            "backgroundcolor": "#E5ECF6",
            "gridcolor": "white",
            "gridwidth": 2,
            "linecolor": "white",
            "showbackground": true,
            "ticks": "",
            "zerolinecolor": "white"
           }
          },
          "shapedefaults": {
           "line": {
            "color": "#2a3f5f"
           }
          },
          "ternary": {
           "aaxis": {
            "gridcolor": "white",
            "linecolor": "white",
            "ticks": ""
           },
           "baxis": {
            "gridcolor": "white",
            "linecolor": "white",
            "ticks": ""
           },
           "bgcolor": "#E5ECF6",
           "caxis": {
            "gridcolor": "white",
            "linecolor": "white",
            "ticks": ""
           }
          },
          "title": {
           "x": 0.05
          },
          "xaxis": {
           "automargin": true,
           "gridcolor": "white",
           "linecolor": "white",
           "ticks": "",
           "title": {
            "standoff": 15
           },
           "zerolinecolor": "white",
           "zerolinewidth": 2
          },
          "yaxis": {
           "automargin": true,
           "gridcolor": "white",
           "linecolor": "white",
           "ticks": "",
           "title": {
            "standoff": 15
           },
           "zerolinecolor": "white",
           "zerolinewidth": 2
          }
         }
        },
        "xaxis": {
         "anchor": "y",
         "domain": [
          0,
          1
         ],
         "title": {
          "text": "reported_date"
         }
        },
        "yaxis": {
         "anchor": "x",
         "domain": [
          0,
          1
         ],
         "title": {
          "text": "total_daily"
         }
        }
       }
      },
      "text/html": [
       "<div>                            <div id=\"becc5cec-cbde-451a-a0a5-c2397a155891\" class=\"plotly-graph-div\" style=\"height:525px; width:100%;\"></div>            <script type=\"text/javascript\">                require([\"plotly\"], function(Plotly) {                    window.PLOTLYENV=window.PLOTLYENV || {};                                    if (document.getElementById(\"becc5cec-cbde-451a-a0a5-c2397a155891\")) {                    Plotly.newPlot(                        \"becc5cec-cbde-451a-a0a5-c2397a155891\",                        [{\"hovertemplate\":\"province=QC\\u003cbr\\u003ereported_date=%{x}\\u003cbr\\u003etotal_daily=%{y}\\u003cextra\\u003e\\u003c\\u002fextra\\u003e\",\"legendgroup\":\"QC\",\"line\":{\"color\":\"#636efa\",\"dash\":\"solid\"},\"marker\":{\"symbol\":\"circle\"},\"mode\":\"lines\",\"name\":\"QC\",\"showlegend\":true,\"x\":[\"2020-01-01T23:59:59+00:00\",\"2020-01-10T23:59:59+00:00\",\"2020-01-13T23:59:59+00:00\",\"2020-01-16T23:59:59+00:00\",\"2020-01-21T23:59:59+00:00\",\"2020-01-22T23:59:59+00:00\",\"2020-01-24T23:59:59+00:00\",\"2020-01-25T23:59:59+00:00\",\"2020-01-27T23:59:59+00:00\",\"2020-01-29T23:59:59+00:00\",\"2020-01-31T23:59:59+00:00\",\"2020-02-01T23:59:59+00:00\",\"2020-02-02T23:59:59+00:00\",\"2020-02-05T23:59:59+00:00\",\"2020-02-06T23:59:59+00:00\",\"2020-02-07T23:59:59+00:00\",\"2020-02-10T23:59:59+00:00\",\"2020-02-14T23:59:59+00:00\",\"2020-02-15T23:59:59+00:00\",\"2020-02-16T23:59:59+00:00\",\"2020-02-17T23:59:59+00:00\",\"2020-02-18T23:59:59+00:00\",\"2020-02-19T23:59:59+00:00\",\"2020-02-20T23:59:59+00:00\",\"2020-02-21T23:59:59+00:00\",\"2020-02-22T23:59:59+00:00\",\"2020-02-23T23:59:59+00:00\",\"2020-02-24T23:59:59+00:00\",\"2020-02-25T23:59:59+00:00\",\"2020-02-26T23:59:59+00:00\",\"2020-02-27T23:59:59+00:00\",\"2020-02-28T23:59:59+00:00\",\"2020-02-29T23:59:59+00:00\",\"2020-03-01T23:59:59+00:00\",\"2020-03-02T23:59:59+00:00\",\"2020-03-03T23:59:59+00:00\",\"2020-03-04T23:59:59+00:00\",\"2020-03-05T23:59:59+00:00\",\"2020-03-06T23:59:59+00:00\",\"2020-03-07T23:59:59+00:00\",\"2020-03-08T23:59:59+00:00\",\"2020-03-09T23:59:59+00:00\",\"2020-03-10T23:59:59+00:00\",\"2020-03-11T23:59:59+00:00\",\"2020-03-12T23:59:59+00:00\",\"2020-03-13T23:59:59+00:00\",\"2020-03-14T23:59:59+00:00\",\"2020-03-15T23:59:59+00:00\",\"2020-03-16T23:59:59+00:00\",\"2020-03-17T23:59:59+00:00\",\"2020-03-18T23:59:59+00:00\",\"2020-03-19T23:59:59+00:00\",\"2020-03-20T23:59:59+00:00\",\"2020-03-21T23:59:59+00:00\",\"2020-03-22T23:59:59+00:00\",\"2020-03-23T23:59:59+00:00\",\"2020-03-24T23:59:59+00:00\",\"2020-03-25T23:59:59+00:00\",\"2020-03-26T23:59:59+00:00\",\"2020-03-27T23:59:59+00:00\",\"2020-03-28T23:59:59+00:00\",\"2020-03-29T23:59:59+00:00\",\"2020-03-30T23:59:59+00:00\",\"2020-03-31T23:59:59+00:00\",\"2020-04-01T23:59:59+00:00\",\"2020-04-02T23:59:59+00:00\",\"2020-04-03T23:59:59+00:00\",\"2020-04-04T23:59:59+00:00\",\"2020-04-05T23:59:59+00:00\",\"2020-04-06T23:59:59+00:00\",\"2020-04-07T23:59:59+00:00\",\"2020-04-08T23:59:59+00:00\",\"2020-04-09T23:59:59+00:00\",\"2020-04-10T23:59:59+00:00\",\"2020-04-11T23:59:59+00:00\",\"2020-04-12T23:59:59+00:00\",\"2020-04-13T23:59:59+00:00\",\"2020-04-14T23:59:59+00:00\",\"2020-04-15T23:59:59+00:00\",\"2020-04-16T23:59:59+00:00\",\"2020-04-17T23:59:59+00:00\",\"2020-04-18T23:59:59+00:00\",\"2020-04-19T23:59:59+00:00\",\"2020-04-20T23:59:59+00:00\",\"2020-04-21T23:59:59+00:00\",\"2020-04-22T23:59:59+00:00\",\"2020-04-23T23:59:59+00:00\",\"2020-04-24T23:59:59+00:00\",\"2020-04-25T23:59:59+00:00\",\"2020-04-26T23:59:59+00:00\",\"2020-04-27T23:59:59+00:00\",\"2020-04-28T23:59:59+00:00\",\"2020-04-29T23:59:59+00:00\",\"2020-04-30T23:59:59+00:00\",\"2020-05-01T23:59:59+00:00\",\"2020-05-02T23:59:59+00:00\",\"2020-05-03T23:59:59+00:00\",\"2020-05-04T23:59:59+00:00\",\"2020-05-05T23:59:59+00:00\",\"2020-05-06T23:59:59+00:00\",\"2020-05-07T23:59:59+00:00\",\"2020-05-08T23:59:59+00:00\",\"2020-05-09T23:59:59+00:00\",\"2020-05-10T23:59:59+00:00\",\"2020-05-11T23:59:59+00:00\",\"2020-05-12T23:59:59+00:00\",\"2020-05-13T23:59:59+00:00\",\"2020-05-14T23:59:59+00:00\",\"2020-05-15T23:59:59+00:00\",\"2020-05-16T23:59:59+00:00\",\"2020-05-17T23:59:59+00:00\",\"2020-05-18T23:59:59+00:00\",\"2020-05-19T23:59:59+00:00\",\"2020-05-20T23:59:59+00:00\",\"2020-05-21T23:59:59+00:00\",\"2020-05-22T23:59:59+00:00\",\"2020-05-23T23:59:59+00:00\",\"2020-05-24T23:59:59+00:00\",\"2020-05-25T23:59:59+00:00\",\"2020-05-26T23:59:59+00:00\",\"2020-05-27T23:59:59+00:00\",\"2020-05-28T23:59:59+00:00\",\"2020-05-29T23:59:59+00:00\",\"2020-05-30T23:59:59+00:00\",\"2020-05-31T23:59:59+00:00\",\"2020-06-01T23:59:59+00:00\",\"2020-06-02T23:59:59+00:00\",\"2020-06-03T23:59:59+00:00\",\"2020-06-04T23:59:59+00:00\",\"2020-06-05T23:59:59+00:00\",\"2020-06-06T23:59:59+00:00\",\"2020-06-07T23:59:59+00:00\",\"2020-06-08T23:59:59+00:00\",\"2020-06-09T23:59:59+00:00\",\"2020-06-10T23:59:59+00:00\",\"2020-06-11T23:59:59+00:00\",\"2020-06-12T23:59:59+00:00\",\"2020-06-13T23:59:59+00:00\",\"2020-06-14T23:59:59+00:00\",\"2020-06-15T23:59:59+00:00\",\"2020-06-16T23:59:59+00:00\",\"2020-06-17T23:59:59+00:00\",\"2020-06-18T23:59:59+00:00\",\"2020-06-19T23:59:59+00:00\",\"2020-06-20T23:59:59+00:00\",\"2020-06-21T23:59:59+00:00\",\"2020-06-22T23:59:59+00:00\",\"2020-06-23T23:59:59+00:00\",\"2020-06-24T23:59:59+00:00\",\"2020-06-25T23:59:59+00:00\",\"2020-06-26T23:59:59+00:00\",\"2020-06-27T23:59:59+00:00\",\"2020-06-28T23:59:59+00:00\",\"2020-06-29T23:59:59+00:00\",\"2020-06-30T23:59:59+00:00\",\"2020-07-01T23:59:59+00:00\",\"2020-07-02T23:59:59+00:00\",\"2020-07-03T23:59:59+00:00\",\"2020-07-04T23:59:59+00:00\",\"2020-07-05T23:59:59+00:00\",\"2020-07-06T23:59:59+00:00\",\"2020-07-07T23:59:59+00:00\",\"2020-07-08T23:59:59+00:00\",\"2020-07-09T23:59:59+00:00\",\"2020-07-10T23:59:59+00:00\",\"2020-07-11T23:59:59+00:00\",\"2020-07-12T23:59:59+00:00\",\"2020-07-13T23:59:59+00:00\",\"2020-07-14T23:59:59+00:00\",\"2020-07-15T23:59:59+00:00\",\"2020-07-16T23:59:59+00:00\",\"2020-07-17T23:59:59+00:00\",\"2020-07-18T23:59:59+00:00\",\"2020-07-19T23:59:59+00:00\",\"2020-07-20T23:59:59+00:00\",\"2020-07-21T23:59:59+00:00\",\"2020-07-22T23:59:59+00:00\",\"2020-07-23T23:59:59+00:00\",\"2020-07-24T23:59:59+00:00\",\"2020-07-25T23:59:59+00:00\",\"2020-07-26T23:59:59+00:00\",\"2020-07-27T23:59:59+00:00\",\"2020-07-28T23:59:59+00:00\",\"2020-07-29T23:59:59+00:00\",\"2020-07-30T23:59:59+00:00\",\"2020-07-31T23:59:59+00:00\",\"2020-08-01T23:59:59+00:00\",\"2020-08-02T23:59:59+00:00\",\"2020-08-03T23:59:59+00:00\",\"2020-08-04T23:59:59+00:00\",\"2020-08-05T23:59:59+00:00\",\"2020-08-06T23:59:59+00:00\",\"2020-08-07T23:59:59+00:00\",\"2020-08-08T23:59:59+00:00\",\"2020-08-09T23:59:59+00:00\",\"2020-08-10T23:59:59+00:00\",\"2020-08-11T23:59:59+00:00\",\"2020-08-12T23:59:59+00:00\",\"2020-08-13T23:59:59+00:00\",\"2020-08-14T23:59:59+00:00\",\"2020-08-15T23:59:59+00:00\",\"2020-08-16T23:59:59+00:00\",\"2020-08-17T23:59:59+00:00\",\"2020-08-18T23:59:59+00:00\",\"2020-08-19T23:59:59+00:00\",\"2020-08-20T23:59:59+00:00\",\"2020-08-21T23:59:59+00:00\",\"2020-08-22T23:59:59+00:00\",\"2020-08-23T23:59:59+00:00\",\"2020-08-24T23:59:59+00:00\",\"2020-08-25T23:59:59+00:00\",\"2020-08-26T23:59:59+00:00\",\"2020-08-27T23:59:59+00:00\",\"2020-08-28T23:59:59+00:00\",\"2020-08-29T23:59:59+00:00\",\"2020-08-30T23:59:59+00:00\",\"2020-08-31T23:59:59+00:00\",\"2020-09-01T23:59:59+00:00\",\"2020-09-02T23:59:59+00:00\",\"2020-09-03T23:59:59+00:00\",\"2020-09-04T23:59:59+00:00\",\"2020-09-05T23:59:59+00:00\",\"2020-09-06T23:59:59+00:00\",\"2020-09-07T23:59:59+00:00\",\"2020-09-08T23:59:59+00:00\",\"2020-09-09T23:59:59+00:00\",\"2020-09-10T23:59:59+00:00\",\"2020-09-11T23:59:59+00:00\",\"2020-09-12T23:59:59+00:00\",\"2020-09-13T23:59:59+00:00\",\"2020-09-14T23:59:59+00:00\",\"2020-09-15T23:59:59+00:00\",\"2020-09-16T23:59:59+00:00\",\"2020-09-17T23:59:59+00:00\",\"2020-09-18T23:59:59+00:00\",\"2020-09-19T23:59:59+00:00\",\"2020-09-20T23:59:59+00:00\",\"2020-09-21T23:59:59+00:00\",\"2020-09-22T23:59:59+00:00\",\"2020-09-23T23:59:59+00:00\",\"2020-09-24T23:59:59+00:00\",\"2020-09-25T23:59:59+00:00\",\"2020-09-26T23:59:59+00:00\",\"2020-09-27T23:59:59+00:00\",\"2020-09-28T23:59:59+00:00\",\"2020-09-29T23:59:59+00:00\",\"2020-09-30T23:59:59+00:00\",\"2020-10-01T23:59:59+00:00\",\"2020-10-02T23:59:59+00:00\",\"2020-10-03T23:59:59+00:00\",\"2020-10-04T23:59:59+00:00\",\"2020-10-05T23:59:59+00:00\",\"2020-10-06T23:59:59+00:00\",\"2020-10-07T23:59:59+00:00\",\"2020-10-08T23:59:59+00:00\",\"2020-10-09T23:59:59+00:00\",\"2020-10-10T23:59:59+00:00\",\"2020-10-11T23:59:59+00:00\",\"2020-10-12T23:59:59+00:00\",\"2020-10-13T23:59:59+00:00\",\"2020-10-14T23:59:59+00:00\",\"2020-10-15T23:59:59+00:00\",\"2020-10-16T23:59:59+00:00\",\"2020-10-17T23:59:59+00:00\",\"2020-10-18T23:59:59+00:00\",\"2020-10-19T23:59:59+00:00\",\"2020-10-20T23:59:59+00:00\",\"2020-10-21T23:59:59+00:00\",\"2020-10-22T23:59:59+00:00\",\"2020-10-23T23:59:59+00:00\",\"2020-10-24T23:59:59+00:00\",\"2020-10-25T23:59:59+00:00\",\"2020-10-26T23:59:59+00:00\",\"2020-10-27T23:59:59+00:00\",\"2020-10-28T23:59:59+00:00\",\"2020-10-29T23:59:59+00:00\",\"2020-10-30T23:59:59+00:00\",\"2020-10-31T23:59:59+00:00\",\"2020-11-01T23:59:59+00:00\",\"2020-11-02T23:59:59+00:00\",\"2020-11-03T23:59:59+00:00\",\"2020-11-04T23:59:59+00:00\",\"2020-11-05T23:59:59+00:00\",\"2020-11-06T23:59:59+00:00\",\"2020-11-07T23:59:59+00:00\",\"2020-11-08T23:59:59+00:00\",\"2020-11-09T23:59:59+00:00\",\"2020-11-10T23:59:59+00:00\",\"2020-11-11T23:59:59+00:00\",\"2020-11-12T23:59:59+00:00\",\"2020-11-13T23:59:59+00:00\",\"2020-11-14T23:59:59+00:00\",\"2020-11-15T23:59:59+00:00\",\"2020-11-16T23:59:59+00:00\",\"2020-11-17T23:59:59+00:00\",\"2020-11-18T23:59:59+00:00\",\"2020-11-19T23:59:59+00:00\",\"2020-11-20T23:59:59+00:00\",\"2020-11-21T23:59:59+00:00\",\"2020-11-22T23:59:59+00:00\",\"2020-11-23T23:59:59+00:00\",\"2020-11-24T23:59:59+00:00\",\"2020-11-25T23:59:59+00:00\",\"2020-11-26T23:59:59+00:00\",\"2020-11-27T23:59:59+00:00\",\"2020-11-28T23:59:59+00:00\",\"2020-11-29T23:59:59+00:00\",\"2020-11-30T23:59:59+00:00\",\"2020-12-01T23:59:59+00:00\",\"2020-12-02T23:59:59+00:00\",\"2020-12-03T23:59:59+00:00\",\"2020-12-04T23:59:59+00:00\",\"2020-12-05T23:59:59+00:00\",\"2020-12-06T23:59:59+00:00\",\"2020-12-07T23:59:59+00:00\",\"2020-12-08T23:59:59+00:00\",\"2020-12-09T23:59:59+00:00\",\"2020-12-10T23:59:59+00:00\",\"2020-12-11T23:59:59+00:00\",\"2020-12-12T23:59:59+00:00\",\"2020-12-13T23:59:59+00:00\",\"2020-12-14T23:59:59+00:00\",\"2020-12-15T23:59:59+00:00\",\"2020-12-16T23:59:59+00:00\",\"2020-12-17T23:59:59+00:00\",\"2020-12-18T23:59:59+00:00\",\"2020-12-19T23:59:59+00:00\",\"2020-12-20T23:59:59+00:00\",\"2020-12-21T23:59:59+00:00\",\"2020-12-22T23:59:59+00:00\",\"2020-12-23T23:59:59+00:00\",\"2020-12-24T23:59:59+00:00\",\"2020-12-25T23:59:59+00:00\",\"2020-12-26T23:59:59+00:00\",\"2020-12-27T23:59:59+00:00\",\"2020-12-28T23:59:59+00:00\",\"2020-12-29T23:59:59+00:00\",\"2020-12-30T23:59:59+00:00\",\"2020-12-31T23:59:59+00:00\",\"2021-01-01T23:59:59+00:00\",\"2021-01-02T23:59:59+00:00\",\"2021-01-03T23:59:59+00:00\",\"2021-01-04T23:59:59+00:00\",\"2021-01-05T23:59:59+00:00\",\"2021-01-06T23:59:59+00:00\",\"2021-01-07T23:59:59+00:00\",\"2021-01-08T23:59:59+00:00\",\"2021-01-09T23:59:59+00:00\",\"2021-01-10T23:59:59+00:00\",\"2021-01-11T23:59:59+00:00\",\"2021-01-12T23:59:59+00:00\",\"2021-01-13T23:59:59+00:00\",\"2021-01-14T23:59:59+00:00\",\"2021-01-15T23:59:59+00:00\",\"2021-01-16T23:59:59+00:00\",\"2021-01-17T23:59:59+00:00\",\"2021-01-18T23:59:59+00:00\",\"2021-01-19T23:59:59+00:00\",\"2021-01-20T23:59:59+00:00\",\"2021-01-21T23:59:59+00:00\",\"2021-01-22T23:59:59+00:00\",\"2021-01-23T23:59:59+00:00\",\"2021-01-24T23:59:59+00:00\",\"2021-01-25T23:59:59+00:00\",\"2021-01-26T23:59:59+00:00\",\"2021-01-27T23:59:59+00:00\",\"2021-01-28T23:59:59+00:00\",\"2021-01-29T23:59:59+00:00\",\"2021-01-30T23:59:59+00:00\",\"2021-01-31T23:59:59+00:00\",\"2021-02-01T23:59:59+00:00\",\"2021-02-02T23:59:59+00:00\",\"2021-02-03T23:59:59+00:00\",\"2021-02-04T23:59:59+00:00\",\"2021-02-05T23:59:59+00:00\",\"2021-02-06T23:59:59+00:00\",\"2021-02-07T23:59:59+00:00\",\"2021-02-08T23:59:59+00:00\",\"2021-02-09T23:59:59+00:00\",\"2021-02-10T23:59:59+00:00\",\"2021-02-11T23:59:59+00:00\",\"2021-02-12T23:59:59+00:00\",\"2021-02-13T23:59:59+00:00\",\"2021-02-14T23:59:59+00:00\",\"2021-02-15T23:59:59+00:00\",\"2021-02-16T23:59:59+00:00\",\"2021-02-17T23:59:59+00:00\",\"2021-02-18T23:59:59+00:00\",\"2021-02-19T23:59:59+00:00\",\"2021-02-20T23:59:59+00:00\",\"2021-02-21T23:59:59+00:00\",\"2021-02-22T23:59:59+00:00\",\"2021-02-23T23:59:59+00:00\",\"2021-02-24T23:59:59+00:00\",\"2021-02-25T23:59:59+00:00\",\"2021-02-26T23:59:59+00:00\",\"2021-02-27T23:59:59+00:00\",\"2021-02-28T23:59:59+00:00\",\"2021-03-01T23:59:59+00:00\",\"2021-03-02T23:59:59+00:00\",\"2021-03-03T23:59:59+00:00\",\"2021-03-04T23:59:59+00:00\",\"2021-03-05T23:59:59+00:00\",\"2021-03-06T23:59:59+00:00\",\"2021-03-07T23:59:59+00:00\",\"2021-03-08T23:59:59+00:00\",\"2021-03-09T23:59:59+00:00\",\"2021-03-10T23:59:59+00:00\",\"2021-03-11T23:59:59+00:00\",\"2021-03-12T23:59:59+00:00\",\"2021-03-13T23:59:59+00:00\",\"2021-03-14T23:59:59+00:00\",\"2021-03-15T23:59:59+00:00\",\"2021-03-16T23:59:59+00:00\",\"2021-03-17T23:59:59+00:00\",\"2021-03-18T23:59:59+00:00\",\"2021-03-19T23:59:59+00:00\",\"2021-03-20T23:59:59+00:00\",\"2021-03-21T23:59:59+00:00\",\"2021-03-22T23:59:59+00:00\",\"2021-03-23T23:59:59+00:00\",\"2021-03-24T23:59:59+00:00\",\"2021-03-25T23:59:59+00:00\",\"2021-03-26T23:59:59+00:00\",\"2021-03-27T23:59:59+00:00\",\"2021-03-28T23:59:59+00:00\",\"2021-03-29T23:59:59+00:00\",\"2021-03-30T23:59:59+00:00\",\"2021-03-31T23:59:59+00:00\",\"2021-04-01T23:59:59+00:00\",\"2021-04-02T23:59:59+00:00\",\"2021-04-03T23:59:59+00:00\",\"2021-04-04T23:59:59+00:00\",\"2021-04-05T23:59:59+00:00\",\"2021-04-06T23:59:59+00:00\",\"2021-04-07T23:59:59+00:00\",\"2021-04-08T23:59:59+00:00\",\"2021-04-09T23:59:59+00:00\",\"2021-04-10T23:59:59+00:00\",\"2021-04-11T23:59:59+00:00\",\"2021-04-12T23:59:59+00:00\",\"2021-04-13T23:59:59+00:00\",\"2021-04-14T23:59:59+00:00\",\"2021-04-15T23:59:59+00:00\",\"2021-04-16T23:59:59+00:00\",\"2021-04-17T23:59:59+00:00\",\"2021-04-18T23:59:59+00:00\",\"2021-04-19T23:59:59+00:00\",\"2021-04-20T23:59:59+00:00\",\"2021-04-21T23:59:59+00:00\",\"2021-04-22T23:59:59+00:00\",\"2021-04-23T23:59:59+00:00\",\"2021-04-24T23:59:59+00:00\",\"2021-04-25T23:59:59+00:00\",\"2021-04-26T23:59:59+00:00\",\"2021-04-27T23:59:59+00:00\",\"2021-04-28T23:59:59+00:00\",\"2021-04-29T23:59:59+00:00\",\"2021-04-30T23:59:59+00:00\",\"2021-05-01T23:59:59+00:00\",\"2021-05-02T23:59:59+00:00\",\"2021-05-03T23:59:59+00:00\",\"2021-05-04T23:59:59+00:00\",\"2021-05-05T23:59:59+00:00\",\"2021-05-06T23:59:59+00:00\",\"2021-05-07T23:59:59+00:00\",\"2021-05-08T23:59:59+00:00\",\"2021-05-09T23:59:59+00:00\",\"2021-05-10T23:59:59+00:00\",\"2021-05-11T23:59:59+00:00\",\"2021-05-12T23:59:59+00:00\",\"2021-05-13T23:59:59+00:00\",\"2021-05-14T23:59:59+00:00\",\"2021-05-15T23:59:59+00:00\",\"2021-05-16T23:59:59+00:00\",\"2021-05-17T23:59:59+00:00\",\"2021-05-18T23:59:59+00:00\",\"2021-05-19T23:59:59+00:00\",\"2021-05-20T23:59:59+00:00\",\"2021-05-21T23:59:59+00:00\",\"2021-05-22T23:59:59+00:00\",\"2021-05-23T23:59:59+00:00\",\"2021-05-24T23:59:59+00:00\",\"2021-05-25T23:59:59+00:00\",\"2021-05-26T23:59:59+00:00\",\"2021-05-27T23:59:59+00:00\",\"2021-05-28T23:59:59+00:00\",\"2021-05-29T23:59:59+00:00\",\"2021-05-30T23:59:59+00:00\",\"2021-05-31T23:59:59+00:00\",\"2021-06-01T23:59:59+00:00\"],\"xaxis\":\"x\",\"y\":[3,1,1,1,1,2,1,1,1,1,1,1,1,1,1,1,4,2,1,1,2,1,1,5,1,5,5,6,3,2,3,6,5,23,15,18,15,34,43,33,57,77,122,131,153,183,211,252,353,369,386,387,487,461,433,897,849,836,742,929,1010,782,1134,1290,1180,1531,1194,1449,1437,1218,1311,1238,1468,1439,1269,1131,1451,1478,1450,1836,1866,1523,1442,1777,1577,1666,1784,1539,1383,1454,1613,1473,1548,1626,1763,1477,2581,1238,1244,1297,1367,1363,1262,1128,1199,1190,1111,1219,1270,1161,1100,1111,1032,1044,1127,970,1026,895,967,955,869,851,907,748,659,693,501,553,522,526,455,432,466,367,434,384,405,344,339,380,354,360,352,396,326,293,300,296,253,462,202,174,195,518,258,244,261,251,273,215,357,285,291,356,330,320,335,418,394,458,452,495,408,391,494,511,492,443,459,424,411,428,466,474,363,429,354,332,326,375,362,434,409,380,305,454,417,371,444,468,355,372,378,329,379,482,461,437,401,401,406,513,510,481,575,496,553,549,558,703,695,675,673,739,673,726,781,816,870,864,976,1166,1144,1229,1110,1125,1252,1563,1374,1466,1499,1675,1685,1818,1836,1875,1897,1901,2039,2046,2009,2312,2495,2012,2150,2374,2378,2004,2051,2170,2497,2356,2475,2466,2473,2556,2622,2904,2830,2635,2911,2631,2601,2826,2958,3101,3563,3345,3351,3698,3399,4246,4390,4329,4183,4413,4609,4535,4986,4817,4863,5281,4658,4711,4577,5325,5117,5743,5798,5266,5695,5766,5571,5975,6193,6402,6138,5990,6151,6643,6604,6393,6940,6585,6838,6349,6899,7094,6951,7027,6891,6577,6437,7095,6634,6698,6536,6491,6685,6925,7036,7287,3705,3961,12464,7312,8011,7802,8447,4671,4923,12778,8216,7829,8014,7746,7563,7586,6142,6752,6196,6670,6529,6313,6006,5009,5338,5133,5189,5189,5112,4778,4114,4126,4213,4239,4324,4038,3982,3314,3420,3582,3619,3572,3537,3451,2940,2987,2967,3239,3238,3199,3144,2657,2386,2872,3234,3264,3126,2905,2575,3051,3064,2957,3182,3107,3007,2722,2955,3023,3125,3180,3313,3058,2727,3005,3215,3605,3506,3508,3319,2978,3522,3696,4014,4134,4106,4142,3878,4464,4798,5263,5359,5426,5214,4964,5700,6084,6137,7498,7129,7102,6643,8152,8536,9042,9201,9381,8808,7969,8533,8483,8980,8575,8502,8204,7680,7821,8206,8305,8022,7706,7317,6793,7410,7419,8083,7320,8167,7260,6820,6889,7198,7321,6678,7097,6313,5936,5968,5919,5874,5637,5323,4881,4259,4492,4296,3963,4121,3897,3164,2748,2482,2397,2550,2487,2417,2047,1617,1522,969],\"yaxis\":\"y\",\"type\":\"scattergl\"},{\"hovertemplate\":\"province=ON\\u003cbr\\u003ereported_date=%{x}\\u003cbr\\u003etotal_daily=%{y}\\u003cextra\\u003e\\u003c\\u002fextra\\u003e\",\"legendgroup\":\"ON\",\"line\":{\"color\":\"#EF553B\",\"dash\":\"solid\"},\"marker\":{\"symbol\":\"circle\"},\"mode\":\"lines\",\"name\":\"ON\",\"showlegend\":true,\"x\":[\"2020-01-23T23:59:59+00:00\",\"2020-01-24T23:59:59+00:00\",\"2020-02-05T23:59:59+00:00\",\"2020-02-21T23:59:59+00:00\",\"2020-02-25T23:59:59+00:00\",\"2020-02-26T23:59:59+00:00\",\"2020-02-27T23:59:59+00:00\",\"2020-02-28T23:59:59+00:00\",\"2020-02-29T23:59:59+00:00\",\"2020-03-01T23:59:59+00:00\",\"2020-03-03T23:59:59+00:00\",\"2020-03-04T23:59:59+00:00\",\"2020-03-05T23:59:59+00:00\",\"2020-03-06T23:59:59+00:00\",\"2020-03-07T23:59:59+00:00\",\"2020-03-08T23:59:59+00:00\",\"2020-03-09T23:59:59+00:00\",\"2020-03-10T23:59:59+00:00\",\"2020-03-11T23:59:59+00:00\",\"2020-03-12T23:59:59+00:00\",\"2020-03-13T23:59:59+00:00\",\"2020-03-14T23:59:59+00:00\",\"2020-03-15T23:59:59+00:00\",\"2020-03-16T23:59:59+00:00\",\"2020-03-17T23:59:59+00:00\",\"2020-03-18T23:59:59+00:00\",\"2020-03-19T23:59:59+00:00\",\"2020-03-20T23:59:59+00:00\",\"2020-03-21T23:59:59+00:00\",\"2020-03-22T23:59:59+00:00\",\"2020-03-23T23:59:59+00:00\",\"2020-03-24T23:59:59+00:00\",\"2020-03-25T23:59:59+00:00\",\"2020-03-26T23:59:59+00:00\",\"2020-03-27T23:59:59+00:00\",\"2020-03-28T23:59:59+00:00\",\"2020-03-29T23:59:59+00:00\",\"2020-03-30T23:59:59+00:00\",\"2020-03-31T23:59:59+00:00\",\"2020-04-01T23:59:59+00:00\",\"2020-04-02T23:59:59+00:00\",\"2020-04-03T23:59:59+00:00\",\"2020-04-04T23:59:59+00:00\",\"2020-04-05T23:59:59+00:00\",\"2020-04-06T23:59:59+00:00\",\"2020-04-07T23:59:59+00:00\",\"2020-04-08T23:59:59+00:00\",\"2020-04-09T23:59:59+00:00\",\"2020-04-10T23:59:59+00:00\",\"2020-04-11T23:59:59+00:00\",\"2020-04-12T23:59:59+00:00\",\"2020-04-13T23:59:59+00:00\",\"2020-04-14T23:59:59+00:00\",\"2020-04-15T23:59:59+00:00\",\"2020-04-16T23:59:59+00:00\",\"2020-04-17T23:59:59+00:00\",\"2020-04-18T23:59:59+00:00\",\"2020-04-19T23:59:59+00:00\",\"2020-04-20T23:59:59+00:00\",\"2020-04-21T23:59:59+00:00\",\"2020-04-22T23:59:59+00:00\",\"2020-04-23T23:59:59+00:00\",\"2020-04-24T23:59:59+00:00\",\"2020-04-25T23:59:59+00:00\",\"2020-04-26T23:59:59+00:00\",\"2020-04-27T23:59:59+00:00\",\"2020-04-28T23:59:59+00:00\",\"2020-04-29T23:59:59+00:00\",\"2020-04-30T23:59:59+00:00\",\"2020-05-01T23:59:59+00:00\",\"2020-05-02T23:59:59+00:00\",\"2020-05-03T23:59:59+00:00\",\"2020-05-04T23:59:59+00:00\",\"2020-05-05T23:59:59+00:00\",\"2020-05-06T23:59:59+00:00\",\"2020-05-07T23:59:59+00:00\",\"2020-05-08T23:59:59+00:00\",\"2020-05-09T23:59:59+00:00\",\"2020-05-10T23:59:59+00:00\",\"2020-05-11T23:59:59+00:00\",\"2020-05-12T23:59:59+00:00\",\"2020-05-13T23:59:59+00:00\",\"2020-05-14T23:59:59+00:00\",\"2020-05-15T23:59:59+00:00\",\"2020-05-16T23:59:59+00:00\",\"2020-05-17T23:59:59+00:00\",\"2020-05-18T23:59:59+00:00\",\"2020-05-19T23:59:59+00:00\",\"2020-05-20T23:59:59+00:00\",\"2020-05-21T23:59:59+00:00\",\"2020-05-22T23:59:59+00:00\",\"2020-05-23T23:59:59+00:00\",\"2020-05-24T23:59:59+00:00\",\"2020-05-25T23:59:59+00:00\",\"2020-05-26T23:59:59+00:00\",\"2020-05-27T23:59:59+00:00\",\"2020-05-28T23:59:59+00:00\",\"2020-05-29T23:59:59+00:00\",\"2020-05-30T23:59:59+00:00\",\"2020-05-31T23:59:59+00:00\",\"2020-06-01T23:59:59+00:00\",\"2020-06-02T23:59:59+00:00\",\"2020-06-03T23:59:59+00:00\",\"2020-06-04T23:59:59+00:00\",\"2020-06-05T23:59:59+00:00\",\"2020-06-06T23:59:59+00:00\",\"2020-06-07T23:59:59+00:00\",\"2020-06-08T23:59:59+00:00\",\"2020-06-09T23:59:59+00:00\",\"2020-06-10T23:59:59+00:00\",\"2020-06-11T23:59:59+00:00\",\"2020-06-12T23:59:59+00:00\",\"2020-06-13T23:59:59+00:00\",\"2020-06-14T23:59:59+00:00\",\"2020-06-15T23:59:59+00:00\",\"2020-06-16T23:59:59+00:00\",\"2020-06-17T23:59:59+00:00\",\"2020-06-18T23:59:59+00:00\",\"2020-06-19T23:59:59+00:00\",\"2020-06-20T23:59:59+00:00\",\"2020-06-21T23:59:59+00:00\",\"2020-06-22T23:59:59+00:00\",\"2020-06-23T23:59:59+00:00\",\"2020-06-24T23:59:59+00:00\",\"2020-06-25T23:59:59+00:00\",\"2020-06-26T23:59:59+00:00\",\"2020-06-27T23:59:59+00:00\",\"2020-06-28T23:59:59+00:00\",\"2020-06-29T23:59:59+00:00\",\"2020-06-30T23:59:59+00:00\",\"2020-07-01T23:59:59+00:00\",\"2020-07-02T23:59:59+00:00\",\"2020-07-03T23:59:59+00:00\",\"2020-07-04T23:59:59+00:00\",\"2020-07-05T23:59:59+00:00\",\"2020-07-06T23:59:59+00:00\",\"2020-07-07T23:59:59+00:00\",\"2020-07-08T23:59:59+00:00\",\"2020-07-09T23:59:59+00:00\",\"2020-07-10T23:59:59+00:00\",\"2020-07-11T23:59:59+00:00\",\"2020-07-12T23:59:59+00:00\",\"2020-07-13T23:59:59+00:00\",\"2020-07-14T23:59:59+00:00\",\"2020-07-15T23:59:59+00:00\",\"2020-07-16T23:59:59+00:00\",\"2020-07-17T23:59:59+00:00\",\"2020-07-18T23:59:59+00:00\",\"2020-07-19T23:59:59+00:00\",\"2020-07-20T23:59:59+00:00\",\"2020-07-21T23:59:59+00:00\",\"2020-07-22T23:59:59+00:00\",\"2020-07-23T23:59:59+00:00\",\"2020-07-24T23:59:59+00:00\",\"2020-07-25T23:59:59+00:00\",\"2020-07-26T23:59:59+00:00\",\"2020-07-27T23:59:59+00:00\",\"2020-07-28T23:59:59+00:00\",\"2020-07-29T23:59:59+00:00\",\"2020-07-30T23:59:59+00:00\",\"2020-07-31T23:59:59+00:00\",\"2020-08-01T23:59:59+00:00\",\"2020-08-02T23:59:59+00:00\",\"2020-08-03T23:59:59+00:00\",\"2020-08-04T23:59:59+00:00\",\"2020-08-05T23:59:59+00:00\",\"2020-08-06T23:59:59+00:00\",\"2020-08-07T23:59:59+00:00\",\"2020-08-08T23:59:59+00:00\",\"2020-08-09T23:59:59+00:00\",\"2020-08-10T23:59:59+00:00\",\"2020-08-11T23:59:59+00:00\",\"2020-08-12T23:59:59+00:00\",\"2020-08-13T23:59:59+00:00\",\"2020-08-14T23:59:59+00:00\",\"2020-08-15T23:59:59+00:00\",\"2020-08-16T23:59:59+00:00\",\"2020-08-17T23:59:59+00:00\",\"2020-08-18T23:59:59+00:00\",\"2020-08-19T23:59:59+00:00\",\"2020-08-20T23:59:59+00:00\",\"2020-08-21T23:59:59+00:00\",\"2020-08-22T23:59:59+00:00\",\"2020-08-23T23:59:59+00:00\",\"2020-08-24T23:59:59+00:00\",\"2020-08-25T23:59:59+00:00\",\"2020-08-26T23:59:59+00:00\",\"2020-08-27T23:59:59+00:00\",\"2020-08-28T23:59:59+00:00\",\"2020-08-29T23:59:59+00:00\",\"2020-08-30T23:59:59+00:00\",\"2020-08-31T23:59:59+00:00\",\"2020-09-01T23:59:59+00:00\",\"2020-09-02T23:59:59+00:00\",\"2020-09-03T23:59:59+00:00\",\"2020-09-04T23:59:59+00:00\",\"2020-09-05T23:59:59+00:00\",\"2020-09-06T23:59:59+00:00\",\"2020-09-07T23:59:59+00:00\",\"2020-09-08T23:59:59+00:00\",\"2020-09-09T23:59:59+00:00\",\"2020-09-10T23:59:59+00:00\",\"2020-09-11T23:59:59+00:00\",\"2020-09-12T23:59:59+00:00\",\"2020-09-13T23:59:59+00:00\",\"2020-09-14T23:59:59+00:00\",\"2020-09-15T23:59:59+00:00\",\"2020-09-16T23:59:59+00:00\",\"2020-09-17T23:59:59+00:00\",\"2020-09-18T23:59:59+00:00\",\"2020-09-19T23:59:59+00:00\",\"2020-09-20T23:59:59+00:00\",\"2020-09-21T23:59:59+00:00\",\"2020-09-22T23:59:59+00:00\",\"2020-09-23T23:59:59+00:00\",\"2020-09-24T23:59:59+00:00\",\"2020-09-25T23:59:59+00:00\",\"2020-09-26T23:59:59+00:00\",\"2020-09-27T23:59:59+00:00\",\"2020-09-28T23:59:59+00:00\",\"2020-09-29T23:59:59+00:00\",\"2020-09-30T23:59:59+00:00\",\"2020-10-01T23:59:59+00:00\",\"2020-10-02T23:59:59+00:00\",\"2020-10-03T23:59:59+00:00\",\"2020-10-04T23:59:59+00:00\",\"2020-10-05T23:59:59+00:00\",\"2020-10-06T23:59:59+00:00\",\"2020-10-07T23:59:59+00:00\",\"2020-10-08T23:59:59+00:00\",\"2020-10-09T23:59:59+00:00\",\"2020-10-10T23:59:59+00:00\",\"2020-10-11T23:59:59+00:00\",\"2020-10-12T23:59:59+00:00\",\"2020-10-13T23:59:59+00:00\",\"2020-10-14T23:59:59+00:00\",\"2020-10-15T23:59:59+00:00\",\"2020-10-16T23:59:59+00:00\",\"2020-10-17T23:59:59+00:00\",\"2020-10-18T23:59:59+00:00\",\"2020-10-19T23:59:59+00:00\",\"2020-10-20T23:59:59+00:00\",\"2020-10-21T23:59:59+00:00\",\"2020-10-22T23:59:59+00:00\",\"2020-10-23T23:59:59+00:00\",\"2020-10-24T23:59:59+00:00\",\"2020-10-25T23:59:59+00:00\",\"2020-10-26T23:59:59+00:00\",\"2020-10-27T23:59:59+00:00\",\"2020-10-28T23:59:59+00:00\",\"2020-10-29T23:59:59+00:00\",\"2020-10-30T23:59:59+00:00\",\"2020-10-31T23:59:59+00:00\",\"2020-11-01T23:59:59+00:00\",\"2020-11-02T23:59:59+00:00\",\"2020-11-03T23:59:59+00:00\",\"2020-11-04T23:59:59+00:00\",\"2020-11-05T23:59:59+00:00\",\"2020-11-06T23:59:59+00:00\",\"2020-11-07T23:59:59+00:00\",\"2020-11-08T23:59:59+00:00\",\"2020-11-09T23:59:59+00:00\",\"2020-11-10T23:59:59+00:00\",\"2020-11-11T23:59:59+00:00\",\"2020-11-12T23:59:59+00:00\",\"2020-11-13T23:59:59+00:00\",\"2020-11-14T23:59:59+00:00\",\"2020-11-15T23:59:59+00:00\",\"2020-11-16T23:59:59+00:00\",\"2020-11-17T23:59:59+00:00\",\"2020-11-18T23:59:59+00:00\",\"2020-11-19T23:59:59+00:00\",\"2020-11-20T23:59:59+00:00\",\"2020-11-21T23:59:59+00:00\",\"2020-11-22T23:59:59+00:00\",\"2020-11-23T23:59:59+00:00\",\"2020-11-24T23:59:59+00:00\",\"2020-11-25T23:59:59+00:00\",\"2020-11-26T23:59:59+00:00\",\"2020-11-27T23:59:59+00:00\",\"2020-11-28T23:59:59+00:00\",\"2020-11-29T23:59:59+00:00\",\"2020-11-30T23:59:59+00:00\",\"2020-12-01T23:59:59+00:00\",\"2020-12-02T23:59:59+00:00\",\"2020-12-03T23:59:59+00:00\",\"2020-12-04T23:59:59+00:00\",\"2020-12-05T23:59:59+00:00\",\"2020-12-06T23:59:59+00:00\",\"2020-12-07T23:59:59+00:00\",\"2020-12-08T23:59:59+00:00\",\"2020-12-09T23:59:59+00:00\",\"2020-12-10T23:59:59+00:00\",\"2020-12-11T23:59:59+00:00\",\"2020-12-12T23:59:59+00:00\",\"2020-12-13T23:59:59+00:00\",\"2020-12-14T23:59:59+00:00\",\"2020-12-15T23:59:59+00:00\",\"2020-12-16T23:59:59+00:00\",\"2020-12-17T23:59:59+00:00\",\"2020-12-18T23:59:59+00:00\",\"2020-12-19T23:59:59+00:00\",\"2020-12-20T23:59:59+00:00\",\"2020-12-21T23:59:59+00:00\",\"2020-12-22T23:59:59+00:00\",\"2020-12-23T23:59:59+00:00\",\"2020-12-24T23:59:59+00:00\",\"2020-12-25T23:59:59+00:00\",\"2020-12-26T23:59:59+00:00\",\"2020-12-27T23:59:59+00:00\",\"2020-12-28T23:59:59+00:00\",\"2020-12-29T23:59:59+00:00\",\"2020-12-30T23:59:59+00:00\",\"2020-12-31T23:59:59+00:00\",\"2021-01-01T23:59:59+00:00\",\"2021-01-02T23:59:59+00:00\",\"2021-01-03T23:59:59+00:00\",\"2021-01-04T23:59:59+00:00\",\"2021-01-05T23:59:59+00:00\",\"2021-01-06T23:59:59+00:00\",\"2021-01-07T23:59:59+00:00\",\"2021-01-08T23:59:59+00:00\",\"2021-01-09T23:59:59+00:00\",\"2021-01-10T23:59:59+00:00\",\"2021-01-11T23:59:59+00:00\",\"2021-01-12T23:59:59+00:00\",\"2021-01-13T23:59:59+00:00\",\"2021-01-14T23:59:59+00:00\",\"2021-01-15T23:59:59+00:00\",\"2021-01-16T23:59:59+00:00\",\"2021-01-17T23:59:59+00:00\",\"2021-01-18T23:59:59+00:00\",\"2021-01-19T23:59:59+00:00\",\"2021-01-20T23:59:59+00:00\",\"2021-01-21T23:59:59+00:00\",\"2021-01-22T23:59:59+00:00\",\"2021-01-23T23:59:59+00:00\",\"2021-01-24T23:59:59+00:00\",\"2021-01-25T23:59:59+00:00\",\"2021-01-26T23:59:59+00:00\",\"2021-01-27T23:59:59+00:00\",\"2021-01-28T23:59:59+00:00\",\"2021-01-29T23:59:59+00:00\",\"2021-01-30T23:59:59+00:00\",\"2021-01-31T23:59:59+00:00\",\"2021-02-01T23:59:59+00:00\",\"2021-02-02T23:59:59+00:00\",\"2021-02-03T23:59:59+00:00\",\"2021-02-04T23:59:59+00:00\",\"2021-02-05T23:59:59+00:00\",\"2021-02-06T23:59:59+00:00\",\"2021-02-07T23:59:59+00:00\",\"2021-02-08T23:59:59+00:00\",\"2021-02-09T23:59:59+00:00\",\"2021-02-10T23:59:59+00:00\",\"2021-02-11T23:59:59+00:00\",\"2021-02-12T23:59:59+00:00\",\"2021-02-13T23:59:59+00:00\",\"2021-02-14T23:59:59+00:00\",\"2021-02-15T23:59:59+00:00\",\"2021-02-16T23:59:59+00:00\",\"2021-02-17T23:59:59+00:00\",\"2021-02-18T23:59:59+00:00\",\"2021-02-19T23:59:59+00:00\",\"2021-02-20T23:59:59+00:00\",\"2021-02-21T23:59:59+00:00\",\"2021-02-22T23:59:59+00:00\",\"2021-02-23T23:59:59+00:00\",\"2021-02-24T23:59:59+00:00\",\"2021-02-25T23:59:59+00:00\",\"2021-02-26T23:59:59+00:00\",\"2021-02-27T23:59:59+00:00\",\"2021-02-28T23:59:59+00:00\",\"2021-03-01T23:59:59+00:00\",\"2021-03-02T23:59:59+00:00\",\"2021-03-03T23:59:59+00:00\",\"2021-03-04T23:59:59+00:00\",\"2021-03-05T23:59:59+00:00\",\"2021-03-06T23:59:59+00:00\",\"2021-03-07T23:59:59+00:00\",\"2021-03-08T23:59:59+00:00\",\"2021-03-09T23:59:59+00:00\",\"2021-03-10T23:59:59+00:00\",\"2021-03-11T23:59:59+00:00\",\"2021-03-12T23:59:59+00:00\",\"2021-03-13T23:59:59+00:00\",\"2021-03-14T23:59:59+00:00\",\"2021-03-15T23:59:59+00:00\",\"2021-03-16T23:59:59+00:00\",\"2021-03-17T23:59:59+00:00\",\"2021-03-18T23:59:59+00:00\",\"2021-03-19T23:59:59+00:00\",\"2021-03-20T23:59:59+00:00\",\"2021-03-21T23:59:59+00:00\",\"2021-03-22T23:59:59+00:00\",\"2021-03-23T23:59:59+00:00\",\"2021-03-24T23:59:59+00:00\",\"2021-03-25T23:59:59+00:00\",\"2021-03-26T23:59:59+00:00\",\"2021-03-27T23:59:59+00:00\",\"2021-03-28T23:59:59+00:00\",\"2021-03-29T23:59:59+00:00\",\"2021-03-30T23:59:59+00:00\",\"2021-03-31T23:59:59+00:00\",\"2021-04-01T23:59:59+00:00\",\"2021-04-02T23:59:59+00:00\",\"2021-04-03T23:59:59+00:00\",\"2021-04-04T23:59:59+00:00\",\"2021-04-05T23:59:59+00:00\",\"2021-04-06T23:59:59+00:00\",\"2021-04-07T23:59:59+00:00\",\"2021-04-08T23:59:59+00:00\",\"2021-04-09T23:59:59+00:00\",\"2021-04-10T23:59:59+00:00\",\"2021-04-11T23:59:59+00:00\",\"2021-04-12T23:59:59+00:00\",\"2021-04-13T23:59:59+00:00\",\"2021-04-14T23:59:59+00:00\",\"2021-04-15T23:59:59+00:00\",\"2021-04-16T23:59:59+00:00\",\"2021-04-17T23:59:59+00:00\",\"2021-04-18T23:59:59+00:00\",\"2021-04-19T23:59:59+00:00\",\"2021-04-20T23:59:59+00:00\",\"2021-04-21T23:59:59+00:00\",\"2021-04-22T23:59:59+00:00\",\"2021-04-23T23:59:59+00:00\",\"2021-04-24T23:59:59+00:00\",\"2021-04-25T23:59:59+00:00\",\"2021-04-26T23:59:59+00:00\",\"2021-04-27T23:59:59+00:00\",\"2021-04-28T23:59:59+00:00\",\"2021-04-29T23:59:59+00:00\",\"2021-04-30T23:59:59+00:00\",\"2021-05-01T23:59:59+00:00\",\"2021-05-02T23:59:59+00:00\",\"2021-05-03T23:59:59+00:00\",\"2021-05-04T23:59:59+00:00\",\"2021-05-05T23:59:59+00:00\",\"2021-05-06T23:59:59+00:00\",\"2021-05-07T23:59:59+00:00\",\"2021-05-08T23:59:59+00:00\",\"2021-05-09T23:59:59+00:00\",\"2021-05-10T23:59:59+00:00\",\"2021-05-11T23:59:59+00:00\",\"2021-05-12T23:59:59+00:00\",\"2021-05-13T23:59:59+00:00\",\"2021-05-14T23:59:59+00:00\",\"2021-05-15T23:59:59+00:00\",\"2021-05-16T23:59:59+00:00\",\"2021-05-17T23:59:59+00:00\",\"2021-05-18T23:59:59+00:00\",\"2021-05-19T23:59:59+00:00\",\"2021-05-20T23:59:59+00:00\",\"2021-05-21T23:59:59+00:00\",\"2021-05-22T23:59:59+00:00\",\"2021-05-23T23:59:59+00:00\",\"2021-05-24T23:59:59+00:00\",\"2021-05-25T23:59:59+00:00\",\"2021-05-26T23:59:59+00:00\",\"2021-05-27T23:59:59+00:00\",\"2021-05-28T23:59:59+00:00\",\"2021-05-29T23:59:59+00:00\",\"2021-05-30T23:59:59+00:00\",\"2021-05-31T23:59:59+00:00\",\"2021-06-01T23:59:59+00:00\"],\"xaxis\":\"x\",\"y\":[2,1,1,1,1,1,2,5,4,2,2,1,4,3,3,5,6,9,23,37,36,32,36,53,59,59,69,99,72,87,145,174,138,250,297,236,227,438,411,454,451,465,349,371,480,458,493,489,400,476,550,598,558,619,579,753,600,595,614,522,548,511,432,427,368,480,417,406,409,488,333,343,334,410,356,306,298,310,294,216,258,362,342,382,370,422,376,330,388,338,400,367,341,399,273,322,325,606,346,412,396,366,348,279,278,223,207,214,216,237,187,240,171,144,178,173,190,198,189,154,174,203,152,163,146,182,230,205,131,176,150,142,151,129,92,105,140,142,136,124,128,113,98,105,133,142,165,175,122,178,118,124,195,139,118,125,122,122,100,109,127,103,57,97,87,81,97,80,92,90,69,88,96,90,91,86,100,99,104,103,108,133,82,101,117,120,131,150,120,109,122,134,123,126,169,155,147,194,174,181,194,205,265,297,215,277,318,335,429,398,400,401,387,373,396,426,515,624,561,532,608,681,624,675,544,587,577,759,879,744,804,687,797,591,830,879,763,708,706,800,755,759,841,994,955,936,881,780,875,924,892,1091,948,1103,969,876,939,1261,1299,1156,1325,1427,1575,1533,1600,1487,1496,1305,1343,1258,1490,1503,1637,1501,1320,1371,1411,1696,1859,1762,1722,1678,1630,1817,1757,1824,1891,2089,1732,1779,1865,1908,1891,1915,1975,1982,2056,2250,2312,2375,2415,2276,2338,2162,2551,2217,1922,2183,2248,2140,2741,3192,2807,3411,3277,2888,3301,3141,3324,3738,4169,3823,3377,3103,2841,3173,3337,2997,3210,2724,2085,2400,2417,2761,2348,2473,1929,1789,1624,1899,1964,1959,1880,1659,1453,1260,1446,1493,1382,1503,1244,1105,964,1131,1299,1219,1186,997,933,861,1000,1100,1198,1221,1148,989,905,1127,1189,1242,1113,1117,1001,918,1118,1128,1236,1255,1281,1255,1183,1237,1352,1470,1601,1400,1237,1205,1544,1711,1773,1816,1753,1597,1756,1836,2183,2237,2571,2218,2241,2213,2502,2870,2981,3082,3055,2920,2926,3404,3763,3909,3938,4720,3984,4023,4278,5067,4830,3897,4803,4281,3680,3983,4010,4510,4062,3821,3649,3135,3510,4020,3821,3378,3697,2952,2603,2895,3277,3365,2960,2702,2286,2078,2565,2594,2348,2451,2209,1690,1612,1930,2132,1815,1869,1598,1212,1017,987,1211,1224,1058,1056,706,665,809],\"yaxis\":\"y\",\"type\":\"scattergl\"},{\"hovertemplate\":\"province=BC\\u003cbr\\u003ereported_date=%{x}\\u003cbr\\u003etotal_daily=%{y}\\u003cextra\\u003e\\u003c\\u002fextra\\u003e\",\"legendgroup\":\"BC\",\"line\":{\"color\":\"#00cc96\",\"dash\":\"solid\"},\"marker\":{\"symbol\":\"circle\"},\"mode\":\"lines\",\"name\":\"BC\",\"showlegend\":true,\"x\":[\"2020-01-29T23:59:59+00:00\",\"2020-02-06T23:59:59+00:00\",\"2020-02-10T23:59:59+00:00\",\"2020-02-18T23:59:59+00:00\",\"2020-02-24T23:59:59+00:00\",\"2020-03-03T23:59:59+00:00\",\"2020-03-05T23:59:59+00:00\",\"2020-03-06T23:59:59+00:00\",\"2020-03-07T23:59:59+00:00\",\"2020-03-08T23:59:59+00:00\",\"2020-03-09T23:59:59+00:00\",\"2020-03-10T23:59:59+00:00\",\"2020-03-11T23:59:59+00:00\",\"2020-03-12T23:59:59+00:00\",\"2020-03-13T23:59:59+00:00\",\"2020-03-14T23:59:59+00:00\",\"2020-03-15T23:59:59+00:00\",\"2020-03-16T23:59:59+00:00\",\"2020-03-17T23:59:59+00:00\",\"2020-03-18T23:59:59+00:00\",\"2020-03-19T23:59:59+00:00\",\"2020-03-20T23:59:59+00:00\",\"2020-03-21T23:59:59+00:00\",\"2020-03-22T23:59:59+00:00\",\"2020-03-23T23:59:59+00:00\",\"2020-03-24T23:59:59+00:00\",\"2020-03-25T23:59:59+00:00\",\"2020-03-26T23:59:59+00:00\",\"2020-03-27T23:59:59+00:00\",\"2020-03-28T23:59:59+00:00\",\"2020-03-29T23:59:59+00:00\",\"2020-03-30T23:59:59+00:00\",\"2020-03-31T23:59:59+00:00\",\"2020-04-01T23:59:59+00:00\",\"2020-04-02T23:59:59+00:00\",\"2020-04-03T23:59:59+00:00\",\"2020-04-04T23:59:59+00:00\",\"2020-04-05T23:59:59+00:00\",\"2020-04-06T23:59:59+00:00\",\"2020-04-07T23:59:59+00:00\",\"2020-04-08T23:59:59+00:00\",\"2020-04-09T23:59:59+00:00\",\"2020-04-10T23:59:59+00:00\",\"2020-04-11T23:59:59+00:00\",\"2020-04-12T23:59:59+00:00\",\"2020-04-13T23:59:59+00:00\",\"2020-04-14T23:59:59+00:00\",\"2020-04-15T23:59:59+00:00\",\"2020-04-16T23:59:59+00:00\",\"2020-04-17T23:59:59+00:00\",\"2020-04-18T23:59:59+00:00\",\"2020-04-19T23:59:59+00:00\",\"2020-04-20T23:59:59+00:00\",\"2020-04-21T23:59:59+00:00\",\"2020-04-22T23:59:59+00:00\",\"2020-04-23T23:59:59+00:00\",\"2020-04-24T23:59:59+00:00\",\"2020-04-25T23:59:59+00:00\",\"2020-04-26T23:59:59+00:00\",\"2020-04-27T23:59:59+00:00\",\"2020-04-28T23:59:59+00:00\",\"2020-04-29T23:59:59+00:00\",\"2020-04-30T23:59:59+00:00\",\"2020-05-01T23:59:59+00:00\",\"2020-05-02T23:59:59+00:00\",\"2020-05-03T23:59:59+00:00\",\"2020-05-04T23:59:59+00:00\",\"2020-05-05T23:59:59+00:00\",\"2020-05-06T23:59:59+00:00\",\"2020-05-07T23:59:59+00:00\",\"2020-05-08T23:59:59+00:00\",\"2020-05-09T23:59:59+00:00\",\"2020-05-10T23:59:59+00:00\",\"2020-05-11T23:59:59+00:00\",\"2020-05-12T23:59:59+00:00\",\"2020-05-13T23:59:59+00:00\",\"2020-05-14T23:59:59+00:00\",\"2020-05-15T23:59:59+00:00\",\"2020-05-16T23:59:59+00:00\",\"2020-05-17T23:59:59+00:00\",\"2020-05-18T23:59:59+00:00\",\"2020-05-19T23:59:59+00:00\",\"2020-05-20T23:59:59+00:00\",\"2020-05-21T23:59:59+00:00\",\"2020-05-22T23:59:59+00:00\",\"2020-05-23T23:59:59+00:00\",\"2020-05-24T23:59:59+00:00\",\"2020-05-25T23:59:59+00:00\",\"2020-05-26T23:59:59+00:00\",\"2020-05-27T23:59:59+00:00\",\"2020-05-28T23:59:59+00:00\",\"2020-05-29T23:59:59+00:00\",\"2020-05-30T23:59:59+00:00\",\"2020-05-31T23:59:59+00:00\",\"2020-06-01T23:59:59+00:00\",\"2020-06-02T23:59:59+00:00\",\"2020-06-03T23:59:59+00:00\",\"2020-06-04T23:59:59+00:00\",\"2020-06-05T23:59:59+00:00\",\"2020-06-06T23:59:59+00:00\",\"2020-06-07T23:59:59+00:00\",\"2020-06-08T23:59:59+00:00\",\"2020-06-09T23:59:59+00:00\",\"2020-06-10T23:59:59+00:00\",\"2020-06-11T23:59:59+00:00\",\"2020-06-12T23:59:59+00:00\",\"2020-06-13T23:59:59+00:00\",\"2020-06-14T23:59:59+00:00\",\"2020-06-15T23:59:59+00:00\",\"2020-06-16T23:59:59+00:00\",\"2020-06-17T23:59:59+00:00\",\"2020-06-18T23:59:59+00:00\",\"2020-06-19T23:59:59+00:00\",\"2020-06-20T23:59:59+00:00\",\"2020-06-21T23:59:59+00:00\",\"2020-06-22T23:59:59+00:00\",\"2020-06-23T23:59:59+00:00\",\"2020-06-24T23:59:59+00:00\",\"2020-06-25T23:59:59+00:00\",\"2020-06-26T23:59:59+00:00\",\"2020-06-27T23:59:59+00:00\",\"2020-06-28T23:59:59+00:00\",\"2020-06-29T23:59:59+00:00\",\"2020-06-30T23:59:59+00:00\",\"2020-07-01T23:59:59+00:00\",\"2020-07-02T23:59:59+00:00\",\"2020-07-03T23:59:59+00:00\",\"2020-07-04T23:59:59+00:00\",\"2020-07-05T23:59:59+00:00\",\"2020-07-06T23:59:59+00:00\",\"2020-07-07T23:59:59+00:00\",\"2020-07-08T23:59:59+00:00\",\"2020-07-09T23:59:59+00:00\",\"2020-07-10T23:59:59+00:00\",\"2020-07-11T23:59:59+00:00\",\"2020-07-12T23:59:59+00:00\",\"2020-07-13T23:59:59+00:00\",\"2020-07-14T23:59:59+00:00\",\"2020-07-15T23:59:59+00:00\",\"2020-07-16T23:59:59+00:00\",\"2020-07-17T23:59:59+00:00\",\"2020-07-18T23:59:59+00:00\",\"2020-07-19T23:59:59+00:00\",\"2020-07-20T23:59:59+00:00\",\"2020-07-21T23:59:59+00:00\",\"2020-07-22T23:59:59+00:00\",\"2020-07-23T23:59:59+00:00\",\"2020-07-24T23:59:59+00:00\",\"2020-07-25T23:59:59+00:00\",\"2020-07-26T23:59:59+00:00\",\"2020-07-27T23:59:59+00:00\",\"2020-07-28T23:59:59+00:00\",\"2020-07-29T23:59:59+00:00\",\"2020-07-30T23:59:59+00:00\",\"2020-07-31T23:59:59+00:00\",\"2020-08-01T23:59:59+00:00\",\"2020-08-02T23:59:59+00:00\",\"2020-08-03T23:59:59+00:00\",\"2020-08-04T23:59:59+00:00\",\"2020-08-05T23:59:59+00:00\",\"2020-08-06T23:59:59+00:00\",\"2020-08-07T23:59:59+00:00\",\"2020-08-08T23:59:59+00:00\",\"2020-08-09T23:59:59+00:00\",\"2020-08-10T23:59:59+00:00\",\"2020-08-11T23:59:59+00:00\",\"2020-08-12T23:59:59+00:00\",\"2020-08-13T23:59:59+00:00\",\"2020-08-14T23:59:59+00:00\",\"2020-08-15T23:59:59+00:00\",\"2020-08-16T23:59:59+00:00\",\"2020-08-17T23:59:59+00:00\",\"2020-08-18T23:59:59+00:00\",\"2020-08-19T23:59:59+00:00\",\"2020-08-20T23:59:59+00:00\",\"2020-08-21T23:59:59+00:00\",\"2020-08-22T23:59:59+00:00\",\"2020-08-23T23:59:59+00:00\",\"2020-08-24T23:59:59+00:00\",\"2020-08-25T23:59:59+00:00\",\"2020-08-26T23:59:59+00:00\",\"2020-08-27T23:59:59+00:00\",\"2020-08-28T23:59:59+00:00\",\"2020-08-29T23:59:59+00:00\",\"2020-08-30T23:59:59+00:00\",\"2020-08-31T23:59:59+00:00\",\"2020-09-01T23:59:59+00:00\",\"2020-09-02T23:59:59+00:00\",\"2020-09-03T23:59:59+00:00\",\"2020-09-04T23:59:59+00:00\",\"2020-09-05T23:59:59+00:00\",\"2020-09-06T23:59:59+00:00\",\"2020-09-07T23:59:59+00:00\",\"2020-09-08T23:59:59+00:00\",\"2020-09-09T23:59:59+00:00\",\"2020-09-10T23:59:59+00:00\",\"2020-09-11T23:59:59+00:00\",\"2020-09-12T23:59:59+00:00\",\"2020-09-13T23:59:59+00:00\",\"2020-09-14T23:59:59+00:00\",\"2020-09-15T23:59:59+00:00\",\"2020-09-16T23:59:59+00:00\",\"2020-09-17T23:59:59+00:00\",\"2020-09-18T23:59:59+00:00\",\"2020-09-19T23:59:59+00:00\",\"2020-09-20T23:59:59+00:00\",\"2020-09-21T23:59:59+00:00\",\"2020-09-22T23:59:59+00:00\",\"2020-09-23T23:59:59+00:00\",\"2020-09-24T23:59:59+00:00\",\"2020-09-25T23:59:59+00:00\",\"2020-09-26T23:59:59+00:00\",\"2020-09-27T23:59:59+00:00\",\"2020-09-28T23:59:59+00:00\",\"2020-09-29T23:59:59+00:00\",\"2020-09-30T23:59:59+00:00\",\"2020-10-01T23:59:59+00:00\",\"2020-10-02T23:59:59+00:00\",\"2020-10-03T23:59:59+00:00\",\"2020-10-04T23:59:59+00:00\",\"2020-10-05T23:59:59+00:00\",\"2020-10-06T23:59:59+00:00\",\"2020-10-07T23:59:59+00:00\",\"2020-10-08T23:59:59+00:00\",\"2020-10-09T23:59:59+00:00\",\"2020-10-10T23:59:59+00:00\",\"2020-10-11T23:59:59+00:00\",\"2020-10-12T23:59:59+00:00\",\"2020-10-13T23:59:59+00:00\",\"2020-10-14T23:59:59+00:00\",\"2020-10-15T23:59:59+00:00\",\"2020-10-16T23:59:59+00:00\",\"2020-10-17T23:59:59+00:00\",\"2020-10-18T23:59:59+00:00\",\"2020-10-19T23:59:59+00:00\",\"2020-10-20T23:59:59+00:00\",\"2020-10-21T23:59:59+00:00\",\"2020-10-22T23:59:59+00:00\",\"2020-10-23T23:59:59+00:00\",\"2020-10-24T23:59:59+00:00\",\"2020-10-25T23:59:59+00:00\",\"2020-10-26T23:59:59+00:00\",\"2020-10-27T23:59:59+00:00\",\"2020-10-28T23:59:59+00:00\",\"2020-10-29T23:59:59+00:00\",\"2020-10-30T23:59:59+00:00\",\"2020-10-31T23:59:59+00:00\",\"2020-11-01T23:59:59+00:00\",\"2020-11-02T23:59:59+00:00\",\"2020-11-03T23:59:59+00:00\",\"2020-11-04T23:59:59+00:00\",\"2020-11-05T23:59:59+00:00\",\"2020-11-06T23:59:59+00:00\",\"2020-11-07T23:59:59+00:00\",\"2020-11-08T23:59:59+00:00\",\"2020-11-09T23:59:59+00:00\",\"2020-11-10T23:59:59+00:00\",\"2020-11-11T23:59:59+00:00\",\"2020-11-12T23:59:59+00:00\",\"2020-11-13T23:59:59+00:00\",\"2020-11-14T23:59:59+00:00\",\"2020-11-15T23:59:59+00:00\",\"2020-11-16T23:59:59+00:00\",\"2020-11-17T23:59:59+00:00\",\"2020-11-18T23:59:59+00:00\",\"2020-11-19T23:59:59+00:00\",\"2020-11-20T23:59:59+00:00\",\"2020-11-21T23:59:59+00:00\",\"2020-11-22T23:59:59+00:00\",\"2020-11-23T23:59:59+00:00\",\"2020-11-24T23:59:59+00:00\",\"2020-11-25T23:59:59+00:00\",\"2020-11-26T23:59:59+00:00\",\"2020-11-27T23:59:59+00:00\",\"2020-11-28T23:59:59+00:00\",\"2020-11-29T23:59:59+00:00\",\"2020-11-30T23:59:59+00:00\",\"2020-12-01T23:59:59+00:00\",\"2020-12-02T23:59:59+00:00\",\"2020-12-03T23:59:59+00:00\",\"2020-12-04T23:59:59+00:00\",\"2020-12-05T23:59:59+00:00\",\"2020-12-06T23:59:59+00:00\",\"2020-12-07T23:59:59+00:00\",\"2020-12-08T23:59:59+00:00\",\"2020-12-09T23:59:59+00:00\",\"2020-12-10T23:59:59+00:00\",\"2020-12-11T23:59:59+00:00\",\"2020-12-12T23:59:59+00:00\",\"2020-12-13T23:59:59+00:00\",\"2020-12-14T23:59:59+00:00\",\"2020-12-15T23:59:59+00:00\",\"2020-12-16T23:59:59+00:00\",\"2020-12-17T23:59:59+00:00\",\"2020-12-18T23:59:59+00:00\",\"2020-12-19T23:59:59+00:00\",\"2020-12-20T23:59:59+00:00\",\"2020-12-21T23:59:59+00:00\",\"2020-12-22T23:59:59+00:00\",\"2020-12-23T23:59:59+00:00\",\"2020-12-24T23:59:59+00:00\",\"2020-12-25T23:59:59+00:00\",\"2020-12-26T23:59:59+00:00\",\"2020-12-27T23:59:59+00:00\",\"2020-12-28T23:59:59+00:00\",\"2020-12-29T23:59:59+00:00\",\"2020-12-30T23:59:59+00:00\",\"2020-12-31T23:59:59+00:00\",\"2021-01-01T23:59:59+00:00\",\"2021-01-02T23:59:59+00:00\",\"2021-01-03T23:59:59+00:00\",\"2021-01-04T23:59:59+00:00\",\"2021-01-05T23:59:59+00:00\",\"2021-01-06T23:59:59+00:00\",\"2021-01-07T23:59:59+00:00\",\"2021-01-08T23:59:59+00:00\",\"2021-01-09T23:59:59+00:00\",\"2021-01-10T23:59:59+00:00\",\"2021-01-11T23:59:59+00:00\",\"2021-01-12T23:59:59+00:00\",\"2021-01-13T23:59:59+00:00\",\"2021-01-14T23:59:59+00:00\",\"2021-01-15T23:59:59+00:00\",\"2021-01-16T23:59:59+00:00\",\"2021-01-17T23:59:59+00:00\",\"2021-01-18T23:59:59+00:00\",\"2021-01-19T23:59:59+00:00\",\"2021-01-20T23:59:59+00:00\",\"2021-01-21T23:59:59+00:00\",\"2021-01-22T23:59:59+00:00\",\"2021-01-23T23:59:59+00:00\",\"2021-01-24T23:59:59+00:00\",\"2021-01-25T23:59:59+00:00\",\"2021-01-26T23:59:59+00:00\",\"2021-01-27T23:59:59+00:00\",\"2021-01-28T23:59:59+00:00\",\"2021-01-29T23:59:59+00:00\",\"2021-01-30T23:59:59+00:00\",\"2021-01-31T23:59:59+00:00\",\"2021-02-01T23:59:59+00:00\",\"2021-02-02T23:59:59+00:00\",\"2021-02-03T23:59:59+00:00\",\"2021-02-04T23:59:59+00:00\",\"2021-02-05T23:59:59+00:00\",\"2021-02-06T23:59:59+00:00\",\"2021-02-07T23:59:59+00:00\",\"2021-02-08T23:59:59+00:00\",\"2021-02-09T23:59:59+00:00\",\"2021-02-10T23:59:59+00:00\",\"2021-02-11T23:59:59+00:00\",\"2021-02-12T23:59:59+00:00\",\"2021-02-13T23:59:59+00:00\",\"2021-02-14T23:59:59+00:00\",\"2021-02-15T23:59:59+00:00\",\"2021-02-16T23:59:59+00:00\",\"2021-02-17T23:59:59+00:00\",\"2021-02-18T23:59:59+00:00\",\"2021-02-19T23:59:59+00:00\",\"2021-02-20T23:59:59+00:00\",\"2021-02-21T23:59:59+00:00\",\"2021-02-22T23:59:59+00:00\",\"2021-02-23T23:59:59+00:00\",\"2021-02-24T23:59:59+00:00\",\"2021-02-25T23:59:59+00:00\",\"2021-02-26T23:59:59+00:00\",\"2021-02-27T23:59:59+00:00\",\"2021-02-28T23:59:59+00:00\",\"2021-03-01T23:59:59+00:00\",\"2021-03-02T23:59:59+00:00\",\"2021-03-03T23:59:59+00:00\",\"2021-03-04T23:59:59+00:00\",\"2021-03-05T23:59:59+00:00\",\"2021-03-06T23:59:59+00:00\",\"2021-03-07T23:59:59+00:00\",\"2021-03-08T23:59:59+00:00\",\"2021-03-09T23:59:59+00:00\",\"2021-03-10T23:59:59+00:00\",\"2021-03-11T23:59:59+00:00\",\"2021-03-12T23:59:59+00:00\",\"2021-03-13T23:59:59+00:00\",\"2021-03-14T23:59:59+00:00\",\"2021-03-15T23:59:59+00:00\",\"2021-03-16T23:59:59+00:00\",\"2021-03-17T23:59:59+00:00\",\"2021-03-18T23:59:59+00:00\",\"2021-03-19T23:59:59+00:00\",\"2021-03-20T23:59:59+00:00\",\"2021-03-21T23:59:59+00:00\",\"2021-03-22T23:59:59+00:00\",\"2021-03-23T23:59:59+00:00\",\"2021-03-24T23:59:59+00:00\",\"2021-03-25T23:59:59+00:00\",\"2021-03-26T23:59:59+00:00\",\"2021-03-27T23:59:59+00:00\",\"2021-03-28T23:59:59+00:00\",\"2021-03-29T23:59:59+00:00\",\"2021-03-30T23:59:59+00:00\",\"2021-03-31T23:59:59+00:00\",\"2021-04-01T23:59:59+00:00\",\"2021-04-02T23:59:59+00:00\",\"2021-04-03T23:59:59+00:00\",\"2021-04-04T23:59:59+00:00\",\"2021-04-05T23:59:59+00:00\",\"2021-04-06T23:59:59+00:00\",\"2021-04-07T23:59:59+00:00\",\"2021-04-08T23:59:59+00:00\",\"2021-04-09T23:59:59+00:00\",\"2021-04-10T23:59:59+00:00\",\"2021-04-11T23:59:59+00:00\",\"2021-04-12T23:59:59+00:00\",\"2021-04-13T23:59:59+00:00\",\"2021-04-14T23:59:59+00:00\",\"2021-04-15T23:59:59+00:00\",\"2021-04-16T23:59:59+00:00\",\"2021-04-17T23:59:59+00:00\",\"2021-04-18T23:59:59+00:00\",\"2021-04-19T23:59:59+00:00\",\"2021-04-20T23:59:59+00:00\",\"2021-04-21T23:59:59+00:00\",\"2021-04-22T23:59:59+00:00\",\"2021-04-23T23:59:59+00:00\",\"2021-04-24T23:59:59+00:00\",\"2021-04-25T23:59:59+00:00\",\"2021-04-26T23:59:59+00:00\",\"2021-04-27T23:59:59+00:00\",\"2021-04-28T23:59:59+00:00\",\"2021-04-29T23:59:59+00:00\",\"2021-04-30T23:59:59+00:00\",\"2021-05-01T23:59:59+00:00\",\"2021-05-02T23:59:59+00:00\",\"2021-05-03T23:59:59+00:00\",\"2021-05-04T23:59:59+00:00\",\"2021-05-05T23:59:59+00:00\",\"2021-05-06T23:59:59+00:00\",\"2021-05-07T23:59:59+00:00\",\"2021-05-08T23:59:59+00:00\",\"2021-05-09T23:59:59+00:00\",\"2021-05-10T23:59:59+00:00\",\"2021-05-11T23:59:59+00:00\",\"2021-05-12T23:59:59+00:00\",\"2021-05-13T23:59:59+00:00\",\"2021-05-14T23:59:59+00:00\",\"2021-05-15T23:59:59+00:00\",\"2021-05-16T23:59:59+00:00\",\"2021-05-17T23:59:59+00:00\",\"2021-05-18T23:59:59+00:00\",\"2021-05-19T23:59:59+00:00\",\"2021-05-20T23:59:59+00:00\",\"2021-05-21T23:59:59+00:00\",\"2021-05-22T23:59:59+00:00\",\"2021-05-23T23:59:59+00:00\",\"2021-05-24T23:59:59+00:00\",\"2021-05-25T23:59:59+00:00\",\"2021-05-26T23:59:59+00:00\",\"2021-05-27T23:59:59+00:00\",\"2021-05-28T23:59:59+00:00\",\"2021-05-29T23:59:59+00:00\",\"2021-05-30T23:59:59+00:00\",\"2021-05-31T23:59:59+00:00\",\"2021-06-01T23:59:59+00:00\"],\"xaxis\":\"x\",\"y\":[1,1,2,1,2,5,8,7,1,4,3,10,16,8,16,28,29,47,50,48,57,63,74,52,54,64,81,68,61,66,46,50,58,53,46,37,29,15,49,34,32,44,30,19,18,28,40,25,39,23,25,21,44,54,31,63,69,32,26,57,29,30,29,34,23,18,24,24,16,24,13,13,13,12,10,24,8,18,11,9,10,14,13,23,8,8,10,7,5,9,9,12,13,9,13,12,3,9,5,11,8,6,15,18,12,16,15,7,8,23,6,6,7,8,19,9,19,19,7,10,11,8,8,15,11,9,14,14,7,11,18,18,21,27,22,18,13,22,33,30,33,26,31,30,30,35,32,27,22,21,20,53,21,46,44,48,41,35,36,42,55,42,43,41,63,77,82,93,112,61,80,51,74,85,108,121,75,61,61,46,99,111,106,105,87,60,98,81,150,125,113,111,92,114,122,121,149,102,84,83,155,139,153,130,108,126,98,81,149,80,98,116,88,96,110,119,144,94,125,124,90,112,122,129,182,160,112,142,158,89,152,211,137,204,140,256,298,200,274,295,229,259,265,272,340,381,381,374,336,367,591,481,449,568,504,497,699,660,585,542,945,588,550,734,860,643,936,721,657,680,843,880,757,705,819,639,542,773,757,697,589,777,573,580,660,763,774,715,738,563,517,587,635,622,640,579,503,404,514,536,554,404,331,476,404,618,594,619,596,414,537,517,566,607,548,527,533,449,409,503,521,495,572,462,321,379,513,558,520,486,494,359,335,537,502,523,421,478,295,398,402,473,475,444,484,348,394,475,448,433,451,451,360,323,393,618,542,529,493,455,501,521,506,593,519,493,450,457,558,564,626,548,558,399,497,529,580,660,550,526,484,482,514,597,735,577,616,659,586,721,806,992,885,826,802,787,1022,880,1075,1107,1029,912,928,1036,1316,1218,1301,1064,1040,944,1004,1225,929,1086,965,1019,747,930,960,1015,893,875,764,773,796,873,746,892,688,646,569,627,711,651,618,623,569,516,575,604,479,452,486,442,398,522,376,433,353,335,302,252,254,392,315,251,247,218,153,198],\"yaxis\":\"y\",\"type\":\"scattergl\"},{\"hovertemplate\":\"province=AB\\u003cbr\\u003ereported_date=%{x}\\u003cbr\\u003etotal_daily=%{y}\\u003cextra\\u003e\\u003c\\u002fextra\\u003e\",\"legendgroup\":\"AB\",\"line\":{\"color\":\"#ab63fa\",\"dash\":\"solid\"},\"marker\":{\"symbol\":\"circle\"},\"mode\":\"lines\",\"name\":\"AB\",\"showlegend\":true,\"x\":[\"2020-03-05T23:59:59+00:00\",\"2020-03-07T23:59:59+00:00\",\"2020-03-08T23:59:59+00:00\",\"2020-03-09T23:59:59+00:00\",\"2020-03-10T23:59:59+00:00\",\"2020-03-11T23:59:59+00:00\",\"2020-03-12T23:59:59+00:00\",\"2020-03-13T23:59:59+00:00\",\"2020-03-14T23:59:59+00:00\",\"2020-03-15T23:59:59+00:00\",\"2020-03-16T23:59:59+00:00\",\"2020-03-17T23:59:59+00:00\",\"2020-03-18T23:59:59+00:00\",\"2020-03-19T23:59:59+00:00\",\"2020-03-20T23:59:59+00:00\",\"2020-03-21T23:59:59+00:00\",\"2020-03-22T23:59:59+00:00\",\"2020-03-23T23:59:59+00:00\",\"2020-03-24T23:59:59+00:00\",\"2020-03-25T23:59:59+00:00\",\"2020-03-26T23:59:59+00:00\",\"2020-03-27T23:59:59+00:00\",\"2020-03-28T23:59:59+00:00\",\"2020-03-29T23:59:59+00:00\",\"2020-03-30T23:59:59+00:00\",\"2020-03-31T23:59:59+00:00\",\"2020-04-01T23:59:59+00:00\",\"2020-04-02T23:59:59+00:00\",\"2020-04-03T23:59:59+00:00\",\"2020-04-04T23:59:59+00:00\",\"2020-04-05T23:59:59+00:00\",\"2020-04-06T23:59:59+00:00\",\"2020-04-07T23:59:59+00:00\",\"2020-04-08T23:59:59+00:00\",\"2020-04-09T23:59:59+00:00\",\"2020-04-10T23:59:59+00:00\",\"2020-04-11T23:59:59+00:00\",\"2020-04-12T23:59:59+00:00\",\"2020-04-13T23:59:59+00:00\",\"2020-04-14T23:59:59+00:00\",\"2020-04-15T23:59:59+00:00\",\"2020-04-16T23:59:59+00:00\",\"2020-04-17T23:59:59+00:00\",\"2020-04-18T23:59:59+00:00\",\"2020-04-19T23:59:59+00:00\",\"2020-04-20T23:59:59+00:00\",\"2020-04-21T23:59:59+00:00\",\"2020-04-22T23:59:59+00:00\",\"2020-04-23T23:59:59+00:00\",\"2020-04-24T23:59:59+00:00\",\"2020-04-25T23:59:59+00:00\",\"2020-04-26T23:59:59+00:00\",\"2020-04-27T23:59:59+00:00\",\"2020-04-28T23:59:59+00:00\",\"2020-04-29T23:59:59+00:00\",\"2020-04-30T23:59:59+00:00\",\"2020-05-01T23:59:59+00:00\",\"2020-05-02T23:59:59+00:00\",\"2020-05-03T23:59:59+00:00\",\"2020-05-04T23:59:59+00:00\",\"2020-05-05T23:59:59+00:00\",\"2020-05-06T23:59:59+00:00\",\"2020-05-07T23:59:59+00:00\",\"2020-05-08T23:59:59+00:00\",\"2020-05-09T23:59:59+00:00\",\"2020-05-10T23:59:59+00:00\",\"2020-05-11T23:59:59+00:00\",\"2020-05-12T23:59:59+00:00\",\"2020-05-13T23:59:59+00:00\",\"2020-05-14T23:59:59+00:00\",\"2020-05-15T23:59:59+00:00\",\"2020-05-16T23:59:59+00:00\",\"2020-05-17T23:59:59+00:00\",\"2020-05-18T23:59:59+00:00\",\"2020-05-19T23:59:59+00:00\",\"2020-05-20T23:59:59+00:00\",\"2020-05-21T23:59:59+00:00\",\"2020-05-22T23:59:59+00:00\",\"2020-05-23T23:59:59+00:00\",\"2020-05-24T23:59:59+00:00\",\"2020-05-25T23:59:59+00:00\",\"2020-05-26T23:59:59+00:00\",\"2020-05-27T23:59:59+00:00\",\"2020-05-28T23:59:59+00:00\",\"2020-05-29T23:59:59+00:00\",\"2020-05-30T23:59:59+00:00\",\"2020-05-31T23:59:59+00:00\",\"2020-06-01T23:59:59+00:00\",\"2020-06-02T23:59:59+00:00\",\"2020-06-03T23:59:59+00:00\",\"2020-06-04T23:59:59+00:00\",\"2020-06-05T23:59:59+00:00\",\"2020-06-06T23:59:59+00:00\",\"2020-06-07T23:59:59+00:00\",\"2020-06-08T23:59:59+00:00\",\"2020-06-09T23:59:59+00:00\",\"2020-06-10T23:59:59+00:00\",\"2020-06-11T23:59:59+00:00\",\"2020-06-12T23:59:59+00:00\",\"2020-06-13T23:59:59+00:00\",\"2020-06-14T23:59:59+00:00\",\"2020-06-15T23:59:59+00:00\",\"2020-06-16T23:59:59+00:00\",\"2020-06-17T23:59:59+00:00\",\"2020-06-18T23:59:59+00:00\",\"2020-06-19T23:59:59+00:00\",\"2020-06-20T23:59:59+00:00\",\"2020-06-21T23:59:59+00:00\",\"2020-06-22T23:59:59+00:00\",\"2020-06-23T23:59:59+00:00\",\"2020-06-24T23:59:59+00:00\",\"2020-06-25T23:59:59+00:00\",\"2020-06-26T23:59:59+00:00\",\"2020-06-27T23:59:59+00:00\",\"2020-06-28T23:59:59+00:00\",\"2020-06-29T23:59:59+00:00\",\"2020-06-30T23:59:59+00:00\",\"2020-07-01T23:59:59+00:00\",\"2020-07-02T23:59:59+00:00\",\"2020-07-03T23:59:59+00:00\",\"2020-07-04T23:59:59+00:00\",\"2020-07-05T23:59:59+00:00\",\"2020-07-06T23:59:59+00:00\",\"2020-07-07T23:59:59+00:00\",\"2020-07-08T23:59:59+00:00\",\"2020-07-09T23:59:59+00:00\",\"2020-07-10T23:59:59+00:00\",\"2020-07-11T23:59:59+00:00\",\"2020-07-12T23:59:59+00:00\",\"2020-07-13T23:59:59+00:00\",\"2020-07-14T23:59:59+00:00\",\"2020-07-15T23:59:59+00:00\",\"2020-07-16T23:59:59+00:00\",\"2020-07-17T23:59:59+00:00\",\"2020-07-18T23:59:59+00:00\",\"2020-07-19T23:59:59+00:00\",\"2020-07-20T23:59:59+00:00\",\"2020-07-21T23:59:59+00:00\",\"2020-07-22T23:59:59+00:00\",\"2020-07-23T23:59:59+00:00\",\"2020-07-24T23:59:59+00:00\",\"2020-07-25T23:59:59+00:00\",\"2020-07-26T23:59:59+00:00\",\"2020-07-27T23:59:59+00:00\",\"2020-07-28T23:59:59+00:00\",\"2020-07-29T23:59:59+00:00\",\"2020-07-30T23:59:59+00:00\",\"2020-07-31T23:59:59+00:00\",\"2020-08-01T23:59:59+00:00\",\"2020-08-02T23:59:59+00:00\",\"2020-08-03T23:59:59+00:00\",\"2020-08-04T23:59:59+00:00\",\"2020-08-05T23:59:59+00:00\",\"2020-08-06T23:59:59+00:00\",\"2020-08-07T23:59:59+00:00\",\"2020-08-08T23:59:59+00:00\",\"2020-08-09T23:59:59+00:00\",\"2020-08-10T23:59:59+00:00\",\"2020-08-11T23:59:59+00:00\",\"2020-08-12T23:59:59+00:00\",\"2020-08-13T23:59:59+00:00\",\"2020-08-14T23:59:59+00:00\",\"2020-08-15T23:59:59+00:00\",\"2020-08-16T23:59:59+00:00\",\"2020-08-17T23:59:59+00:00\",\"2020-08-18T23:59:59+00:00\",\"2020-08-19T23:59:59+00:00\",\"2020-08-20T23:59:59+00:00\",\"2020-08-21T23:59:59+00:00\",\"2020-08-22T23:59:59+00:00\",\"2020-08-23T23:59:59+00:00\",\"2020-08-24T23:59:59+00:00\",\"2020-08-25T23:59:59+00:00\",\"2020-08-26T23:59:59+00:00\",\"2020-08-27T23:59:59+00:00\",\"2020-08-28T23:59:59+00:00\",\"2020-08-29T23:59:59+00:00\",\"2020-08-30T23:59:59+00:00\",\"2020-08-31T23:59:59+00:00\",\"2020-09-01T23:59:59+00:00\",\"2020-09-02T23:59:59+00:00\",\"2020-09-03T23:59:59+00:00\",\"2020-09-04T23:59:59+00:00\",\"2020-09-05T23:59:59+00:00\",\"2020-09-06T23:59:59+00:00\",\"2020-09-07T23:59:59+00:00\",\"2020-09-08T23:59:59+00:00\",\"2020-09-09T23:59:59+00:00\",\"2020-09-10T23:59:59+00:00\",\"2020-09-11T23:59:59+00:00\",\"2020-09-12T23:59:59+00:00\",\"2020-09-13T23:59:59+00:00\",\"2020-09-14T23:59:59+00:00\",\"2020-09-15T23:59:59+00:00\",\"2020-09-16T23:59:59+00:00\",\"2020-09-17T23:59:59+00:00\",\"2020-09-18T23:59:59+00:00\",\"2020-09-19T23:59:59+00:00\",\"2020-09-20T23:59:59+00:00\",\"2020-09-21T23:59:59+00:00\",\"2020-09-22T23:59:59+00:00\",\"2020-09-23T23:59:59+00:00\",\"2020-09-24T23:59:59+00:00\",\"2020-09-25T23:59:59+00:00\",\"2020-09-26T23:59:59+00:00\",\"2020-09-27T23:59:59+00:00\",\"2020-09-28T23:59:59+00:00\",\"2020-09-29T23:59:59+00:00\",\"2020-09-30T23:59:59+00:00\",\"2020-10-01T23:59:59+00:00\",\"2020-10-02T23:59:59+00:00\",\"2020-10-03T23:59:59+00:00\",\"2020-10-04T23:59:59+00:00\",\"2020-10-05T23:59:59+00:00\",\"2020-10-06T23:59:59+00:00\",\"2020-10-07T23:59:59+00:00\",\"2020-10-08T23:59:59+00:00\",\"2020-10-09T23:59:59+00:00\",\"2020-10-10T23:59:59+00:00\",\"2020-10-11T23:59:59+00:00\",\"2020-10-12T23:59:59+00:00\",\"2020-10-13T23:59:59+00:00\",\"2020-10-14T23:59:59+00:00\",\"2020-10-15T23:59:59+00:00\",\"2020-10-16T23:59:59+00:00\",\"2020-10-17T23:59:59+00:00\",\"2020-10-18T23:59:59+00:00\",\"2020-10-19T23:59:59+00:00\",\"2020-10-20T23:59:59+00:00\",\"2020-10-21T23:59:59+00:00\",\"2020-10-22T23:59:59+00:00\",\"2020-10-23T23:59:59+00:00\",\"2020-10-24T23:59:59+00:00\",\"2020-10-25T23:59:59+00:00\",\"2020-10-26T23:59:59+00:00\",\"2020-10-27T23:59:59+00:00\",\"2020-10-28T23:59:59+00:00\",\"2020-10-29T23:59:59+00:00\",\"2020-10-30T23:59:59+00:00\",\"2020-10-31T23:59:59+00:00\",\"2020-11-01T23:59:59+00:00\",\"2020-11-02T23:59:59+00:00\",\"2020-11-03T23:59:59+00:00\",\"2020-11-04T23:59:59+00:00\",\"2020-11-05T23:59:59+00:00\",\"2020-11-06T23:59:59+00:00\",\"2020-11-07T23:59:59+00:00\",\"2020-11-08T23:59:59+00:00\",\"2020-11-09T23:59:59+00:00\",\"2020-11-10T23:59:59+00:00\",\"2020-11-11T23:59:59+00:00\",\"2020-11-12T23:59:59+00:00\",\"2020-11-13T23:59:59+00:00\",\"2020-11-14T23:59:59+00:00\",\"2020-11-15T23:59:59+00:00\",\"2020-11-16T23:59:59+00:00\",\"2020-11-17T23:59:59+00:00\",\"2020-11-18T23:59:59+00:00\",\"2020-11-19T23:59:59+00:00\",\"2020-11-20T23:59:59+00:00\",\"2020-11-21T23:59:59+00:00\",\"2020-11-22T23:59:59+00:00\",\"2020-11-23T23:59:59+00:00\",\"2020-11-24T23:59:59+00:00\",\"2020-11-25T23:59:59+00:00\",\"2020-11-26T23:59:59+00:00\",\"2020-11-27T23:59:59+00:00\",\"2020-11-28T23:59:59+00:00\",\"2020-11-29T23:59:59+00:00\",\"2020-11-30T23:59:59+00:00\",\"2020-12-01T23:59:59+00:00\",\"2020-12-02T23:59:59+00:00\",\"2020-12-03T23:59:59+00:00\",\"2020-12-04T23:59:59+00:00\",\"2020-12-05T23:59:59+00:00\",\"2020-12-06T23:59:59+00:00\",\"2020-12-07T23:59:59+00:00\",\"2020-12-08T23:59:59+00:00\",\"2020-12-09T23:59:59+00:00\",\"2020-12-10T23:59:59+00:00\",\"2020-12-11T23:59:59+00:00\",\"2020-12-12T23:59:59+00:00\",\"2020-12-13T23:59:59+00:00\",\"2020-12-14T23:59:59+00:00\",\"2020-12-15T23:59:59+00:00\",\"2020-12-16T23:59:59+00:00\",\"2020-12-17T23:59:59+00:00\",\"2020-12-18T23:59:59+00:00\",\"2020-12-19T23:59:59+00:00\",\"2020-12-20T23:59:59+00:00\",\"2020-12-21T23:59:59+00:00\",\"2020-12-22T23:59:59+00:00\",\"2020-12-23T23:59:59+00:00\",\"2020-12-24T23:59:59+00:00\",\"2020-12-25T23:59:59+00:00\",\"2020-12-26T23:59:59+00:00\",\"2020-12-27T23:59:59+00:00\",\"2020-12-28T23:59:59+00:00\",\"2020-12-29T23:59:59+00:00\",\"2020-12-30T23:59:59+00:00\",\"2020-12-31T23:59:59+00:00\",\"2021-01-01T23:59:59+00:00\",\"2021-01-02T23:59:59+00:00\",\"2021-01-03T23:59:59+00:00\",\"2021-01-04T23:59:59+00:00\",\"2021-01-05T23:59:59+00:00\",\"2021-01-06T23:59:59+00:00\",\"2021-01-07T23:59:59+00:00\",\"2021-01-08T23:59:59+00:00\",\"2021-01-09T23:59:59+00:00\",\"2021-01-10T23:59:59+00:00\",\"2021-01-11T23:59:59+00:00\",\"2021-01-12T23:59:59+00:00\",\"2021-01-13T23:59:59+00:00\",\"2021-01-14T23:59:59+00:00\",\"2021-01-15T23:59:59+00:00\",\"2021-01-16T23:59:59+00:00\",\"2021-01-17T23:59:59+00:00\",\"2021-01-18T23:59:59+00:00\",\"2021-01-19T23:59:59+00:00\",\"2021-01-20T23:59:59+00:00\",\"2021-01-21T23:59:59+00:00\",\"2021-01-22T23:59:59+00:00\",\"2021-01-23T23:59:59+00:00\",\"2021-01-24T23:59:59+00:00\",\"2021-01-25T23:59:59+00:00\",\"2021-01-26T23:59:59+00:00\",\"2021-01-27T23:59:59+00:00\",\"2021-01-28T23:59:59+00:00\",\"2021-01-29T23:59:59+00:00\",\"2021-01-30T23:59:59+00:00\",\"2021-01-31T23:59:59+00:00\",\"2021-02-01T23:59:59+00:00\",\"2021-02-02T23:59:59+00:00\",\"2021-02-03T23:59:59+00:00\",\"2021-02-04T23:59:59+00:00\",\"2021-02-05T23:59:59+00:00\",\"2021-02-06T23:59:59+00:00\",\"2021-02-07T23:59:59+00:00\",\"2021-02-08T23:59:59+00:00\",\"2021-02-09T23:59:59+00:00\",\"2021-02-10T23:59:59+00:00\",\"2021-02-11T23:59:59+00:00\",\"2021-02-12T23:59:59+00:00\",\"2021-02-13T23:59:59+00:00\",\"2021-02-14T23:59:59+00:00\",\"2021-02-15T23:59:59+00:00\",\"2021-02-16T23:59:59+00:00\",\"2021-02-17T23:59:59+00:00\",\"2021-02-18T23:59:59+00:00\",\"2021-02-19T23:59:59+00:00\",\"2021-02-20T23:59:59+00:00\",\"2021-02-21T23:59:59+00:00\",\"2021-02-22T23:59:59+00:00\",\"2021-02-23T23:59:59+00:00\",\"2021-02-24T23:59:59+00:00\",\"2021-02-25T23:59:59+00:00\",\"2021-02-26T23:59:59+00:00\",\"2021-02-27T23:59:59+00:00\",\"2021-02-28T23:59:59+00:00\",\"2021-03-01T23:59:59+00:00\",\"2021-03-02T23:59:59+00:00\",\"2021-03-03T23:59:59+00:00\",\"2021-03-04T23:59:59+00:00\",\"2021-03-05T23:59:59+00:00\",\"2021-03-06T23:59:59+00:00\",\"2021-03-07T23:59:59+00:00\",\"2021-03-08T23:59:59+00:00\",\"2021-03-09T23:59:59+00:00\",\"2021-03-10T23:59:59+00:00\",\"2021-03-11T23:59:59+00:00\",\"2021-03-12T23:59:59+00:00\",\"2021-03-13T23:59:59+00:00\",\"2021-03-14T23:59:59+00:00\",\"2021-03-15T23:59:59+00:00\",\"2021-03-16T23:59:59+00:00\",\"2021-03-17T23:59:59+00:00\",\"2021-03-18T23:59:59+00:00\",\"2021-03-19T23:59:59+00:00\",\"2021-03-20T23:59:59+00:00\",\"2021-03-21T23:59:59+00:00\",\"2021-03-22T23:59:59+00:00\",\"2021-03-23T23:59:59+00:00\",\"2021-03-24T23:59:59+00:00\",\"2021-03-25T23:59:59+00:00\",\"2021-03-26T23:59:59+00:00\",\"2021-03-27T23:59:59+00:00\",\"2021-03-28T23:59:59+00:00\",\"2021-03-29T23:59:59+00:00\",\"2021-03-30T23:59:59+00:00\",\"2021-03-31T23:59:59+00:00\",\"2021-04-01T23:59:59+00:00\",\"2021-04-02T23:59:59+00:00\",\"2021-04-03T23:59:59+00:00\",\"2021-04-04T23:59:59+00:00\",\"2021-04-05T23:59:59+00:00\",\"2021-04-06T23:59:59+00:00\",\"2021-04-07T23:59:59+00:00\",\"2021-04-08T23:59:59+00:00\",\"2021-04-09T23:59:59+00:00\",\"2021-04-10T23:59:59+00:00\",\"2021-04-11T23:59:59+00:00\",\"2021-04-12T23:59:59+00:00\",\"2021-04-13T23:59:59+00:00\",\"2021-04-14T23:59:59+00:00\",\"2021-04-15T23:59:59+00:00\",\"2021-04-16T23:59:59+00:00\",\"2021-04-17T23:59:59+00:00\",\"2021-04-18T23:59:59+00:00\",\"2021-04-19T23:59:59+00:00\",\"2021-04-20T23:59:59+00:00\",\"2021-04-21T23:59:59+00:00\",\"2021-04-22T23:59:59+00:00\",\"2021-04-23T23:59:59+00:00\",\"2021-04-24T23:59:59+00:00\",\"2021-04-25T23:59:59+00:00\",\"2021-04-26T23:59:59+00:00\",\"2021-04-27T23:59:59+00:00\",\"2021-04-28T23:59:59+00:00\",\"2021-04-29T23:59:59+00:00\",\"2021-04-30T23:59:59+00:00\",\"2021-05-01T23:59:59+00:00\",\"2021-05-02T23:59:59+00:00\",\"2021-05-03T23:59:59+00:00\",\"2021-05-04T23:59:59+00:00\",\"2021-05-05T23:59:59+00:00\",\"2021-05-06T23:59:59+00:00\",\"2021-05-07T23:59:59+00:00\",\"2021-05-08T23:59:59+00:00\",\"2021-05-09T23:59:59+00:00\",\"2021-05-10T23:59:59+00:00\",\"2021-05-11T23:59:59+00:00\",\"2021-05-12T23:59:59+00:00\",\"2021-05-13T23:59:59+00:00\",\"2021-05-14T23:59:59+00:00\",\"2021-05-15T23:59:59+00:00\",\"2021-05-16T23:59:59+00:00\",\"2021-05-17T23:59:59+00:00\",\"2021-05-18T23:59:59+00:00\",\"2021-05-19T23:59:59+00:00\",\"2021-05-20T23:59:59+00:00\",\"2021-05-21T23:59:59+00:00\",\"2021-05-22T23:59:59+00:00\",\"2021-05-23T23:59:59+00:00\",\"2021-05-24T23:59:59+00:00\",\"2021-05-25T23:59:59+00:00\",\"2021-05-26T23:59:59+00:00\",\"2021-05-27T23:59:59+00:00\",\"2021-05-28T23:59:59+00:00\",\"2021-05-29T23:59:59+00:00\",\"2021-05-30T23:59:59+00:00\",\"2021-05-31T23:59:59+00:00\",\"2021-06-01T23:59:59+00:00\"],\"xaxis\":\"x\",\"y\":[1,1,1,4,9,7,3,8,22,11,24,11,29,32,46,35,47,53,68,63,53,85,54,34,40,132,108,122,70,60,42,34,53,33,45,49,65,68,68,127,133,146,213,187,201,183,264,294,340,232,222,203,178,249,231,222,141,112,70,79,62,65,87,77,85,71,47,70,62,61,73,54,46,38,43,27,30,27,32,29,13,19,27,28,30,20,34,21,19,18,19,37,23,33,24,38,48,43,27,35,53,36,45,46,46,47,30,33,41,45,25,36,66,37,68,44,33,64,55,30,48,48,49,44,43,74,62,90,78,87,85,115,103,168,102,88,131,136,113,116,117,98,89,81,131,118,124,99,67,73,64,94,61,128,111,97,45,86,116,72,81,104,83,95,85,81,101,140,88,103,70,73,125,104,153,142,181,109,152,109,132,157,169,168,134,147,97,113,116,115,166,137,123,170,182,125,137,120,152,156,128,129,124,175,155,121,127,175,154,147,222,195,213,206,243,218,186,258,250,241,221,242,242,319,307,225,370,324,392,436,442,390,578,500,416,407,479,614,589,524,605,571,537,771,735,825,640,630,724,676,854,896,1017,981,852,765,729,1102,1140,1333,1562,1528,1120,1271,1084,1228,1714,1593,1710,1317,1695,1851,1794,1880,1828,1725,1794,1494,1596,1745,1597,1709,1865,1342,1287,1592,1461,1369,1307,1251,1052,1336,1130,1240,904,486,955,896,1364,1263,1360,921,466,1138,878,1148,966,1176,982,809,627,675,867,966,779,702,743,461,462,670,672,642,567,451,358,362,468,473,519,388,468,351,280,456,403,394,361,352,268,219,335,348,318,301,286,244,260,286,420,331,384,327,268,277,425,404,355,413,301,287,262,400,333,408,336,306,250,252,385,405,447,426,376,364,349,507,516,669,528,545,456,481,677,762,727,655,640,540,622,895,878,1078,1065,936,867,930,1365,1414,1533,1281,1171,1096,1052,1433,1649,1606,1501,1474,1356,1348,1729,1842,1672,1513,1446,1492,1547,1835,2070,1995,2411,1701,1970,1792,2281,2183,1944,2050,1583,1570,1511,1813,1591,1485,1238,1132,718,918,955,829,756,635,552,447,388,407,540,538,409,397,259,213,430],\"yaxis\":\"y\",\"type\":\"scattergl\"}],                        {\"template\":{\"data\":{\"histogram2dcontour\":[{\"type\":\"histogram2dcontour\",\"colorbar\":{\"outlinewidth\":0,\"ticks\":\"\"},\"colorscale\":[[0.0,\"#0d0887\"],[0.1111111111111111,\"#46039f\"],[0.2222222222222222,\"#7201a8\"],[0.3333333333333333,\"#9c179e\"],[0.4444444444444444,\"#bd3786\"],[0.5555555555555556,\"#d8576b\"],[0.6666666666666666,\"#ed7953\"],[0.7777777777777778,\"#fb9f3a\"],[0.8888888888888888,\"#fdca26\"],[1.0,\"#f0f921\"]]}],\"choropleth\":[{\"type\":\"choropleth\",\"colorbar\":{\"outlinewidth\":0,\"ticks\":\"\"}}],\"histogram2d\":[{\"type\":\"histogram2d\",\"colorbar\":{\"outlinewidth\":0,\"ticks\":\"\"},\"colorscale\":[[0.0,\"#0d0887\"],[0.1111111111111111,\"#46039f\"],[0.2222222222222222,\"#7201a8\"],[0.3333333333333333,\"#9c179e\"],[0.4444444444444444,\"#bd3786\"],[0.5555555555555556,\"#d8576b\"],[0.6666666666666666,\"#ed7953\"],[0.7777777777777778,\"#fb9f3a\"],[0.8888888888888888,\"#fdca26\"],[1.0,\"#f0f921\"]]}],\"heatmap\":[{\"type\":\"heatmap\",\"colorbar\":{\"outlinewidth\":0,\"ticks\":\"\"},\"colorscale\":[[0.0,\"#0d0887\"],[0.1111111111111111,\"#46039f\"],[0.2222222222222222,\"#7201a8\"],[0.3333333333333333,\"#9c179e\"],[0.4444444444444444,\"#bd3786\"],[0.5555555555555556,\"#d8576b\"],[0.6666666666666666,\"#ed7953\"],[0.7777777777777778,\"#fb9f3a\"],[0.8888888888888888,\"#fdca26\"],[1.0,\"#f0f921\"]]}],\"heatmapgl\":[{\"type\":\"heatmapgl\",\"colorbar\":{\"outlinewidth\":0,\"ticks\":\"\"},\"colorscale\":[[0.0,\"#0d0887\"],[0.1111111111111111,\"#46039f\"],[0.2222222222222222,\"#7201a8\"],[0.3333333333333333,\"#9c179e\"],[0.4444444444444444,\"#bd3786\"],[0.5555555555555556,\"#d8576b\"],[0.6666666666666666,\"#ed7953\"],[0.7777777777777778,\"#fb9f3a\"],[0.8888888888888888,\"#fdca26\"],[1.0,\"#f0f921\"]]}],\"contourcarpet\":[{\"type\":\"contourcarpet\",\"colorbar\":{\"outlinewidth\":0,\"ticks\":\"\"}}],\"contour\":[{\"type\":\"contour\",\"colorbar\":{\"outlinewidth\":0,\"ticks\":\"\"},\"colorscale\":[[0.0,\"#0d0887\"],[0.1111111111111111,\"#46039f\"],[0.2222222222222222,\"#7201a8\"],[0.3333333333333333,\"#9c179e\"],[0.4444444444444444,\"#bd3786\"],[0.5555555555555556,\"#d8576b\"],[0.6666666666666666,\"#ed7953\"],[0.7777777777777778,\"#fb9f3a\"],[0.8888888888888888,\"#fdca26\"],[1.0,\"#f0f921\"]]}],\"surface\":[{\"type\":\"surface\",\"colorbar\":{\"outlinewidth\":0,\"ticks\":\"\"},\"colorscale\":[[0.0,\"#0d0887\"],[0.1111111111111111,\"#46039f\"],[0.2222222222222222,\"#7201a8\"],[0.3333333333333333,\"#9c179e\"],[0.4444444444444444,\"#bd3786\"],[0.5555555555555556,\"#d8576b\"],[0.6666666666666666,\"#ed7953\"],[0.7777777777777778,\"#fb9f3a\"],[0.8888888888888888,\"#fdca26\"],[1.0,\"#f0f921\"]]}],\"mesh3d\":[{\"type\":\"mesh3d\",\"colorbar\":{\"outlinewidth\":0,\"ticks\":\"\"}}],\"scatter\":[{\"fillpattern\":{\"fillmode\":\"overlay\",\"size\":10,\"solidity\":0.2},\"type\":\"scatter\"}],\"parcoords\":[{\"type\":\"parcoords\",\"line\":{\"colorbar\":{\"outlinewidth\":0,\"ticks\":\"\"}}}],\"scatterpolargl\":[{\"type\":\"scatterpolargl\",\"marker\":{\"colorbar\":{\"outlinewidth\":0,\"ticks\":\"\"}}}],\"bar\":[{\"error_x\":{\"color\":\"#2a3f5f\"},\"error_y\":{\"color\":\"#2a3f5f\"},\"marker\":{\"line\":{\"color\":\"#E5ECF6\",\"width\":0.5},\"pattern\":{\"fillmode\":\"overlay\",\"size\":10,\"solidity\":0.2}},\"type\":\"bar\"}],\"scattergeo\":[{\"type\":\"scattergeo\",\"marker\":{\"colorbar\":{\"outlinewidth\":0,\"ticks\":\"\"}}}],\"scatterpolar\":[{\"type\":\"scatterpolar\",\"marker\":{\"colorbar\":{\"outlinewidth\":0,\"ticks\":\"\"}}}],\"histogram\":[{\"marker\":{\"pattern\":{\"fillmode\":\"overlay\",\"size\":10,\"solidity\":0.2}},\"type\":\"histogram\"}],\"scattergl\":[{\"type\":\"scattergl\",\"marker\":{\"colorbar\":{\"outlinewidth\":0,\"ticks\":\"\"}}}],\"scatter3d\":[{\"type\":\"scatter3d\",\"line\":{\"colorbar\":{\"outlinewidth\":0,\"ticks\":\"\"}},\"marker\":{\"colorbar\":{\"outlinewidth\":0,\"ticks\":\"\"}}}],\"scattermapbox\":[{\"type\":\"scattermapbox\",\"marker\":{\"colorbar\":{\"outlinewidth\":0,\"ticks\":\"\"}}}],\"scatterternary\":[{\"type\":\"scatterternary\",\"marker\":{\"colorbar\":{\"outlinewidth\":0,\"ticks\":\"\"}}}],\"scattercarpet\":[{\"type\":\"scattercarpet\",\"marker\":{\"colorbar\":{\"outlinewidth\":0,\"ticks\":\"\"}}}],\"carpet\":[{\"aaxis\":{\"endlinecolor\":\"#2a3f5f\",\"gridcolor\":\"white\",\"linecolor\":\"white\",\"minorgridcolor\":\"white\",\"startlinecolor\":\"#2a3f5f\"},\"baxis\":{\"endlinecolor\":\"#2a3f5f\",\"gridcolor\":\"white\",\"linecolor\":\"white\",\"minorgridcolor\":\"white\",\"startlinecolor\":\"#2a3f5f\"},\"type\":\"carpet\"}],\"table\":[{\"cells\":{\"fill\":{\"color\":\"#EBF0F8\"},\"line\":{\"color\":\"white\"}},\"header\":{\"fill\":{\"color\":\"#C8D4E3\"},\"line\":{\"color\":\"white\"}},\"type\":\"table\"}],\"barpolar\":[{\"marker\":{\"line\":{\"color\":\"#E5ECF6\",\"width\":0.5},\"pattern\":{\"fillmode\":\"overlay\",\"size\":10,\"solidity\":0.2}},\"type\":\"barpolar\"}],\"pie\":[{\"automargin\":true,\"type\":\"pie\"}]},\"layout\":{\"autotypenumbers\":\"strict\",\"colorway\":[\"#636efa\",\"#EF553B\",\"#00cc96\",\"#ab63fa\",\"#FFA15A\",\"#19d3f3\",\"#FF6692\",\"#B6E880\",\"#FF97FF\",\"#FECB52\"],\"font\":{\"color\":\"#2a3f5f\"},\"hovermode\":\"closest\",\"hoverlabel\":{\"align\":\"left\"},\"paper_bgcolor\":\"white\",\"plot_bgcolor\":\"#E5ECF6\",\"polar\":{\"bgcolor\":\"#E5ECF6\",\"angularaxis\":{\"gridcolor\":\"white\",\"linecolor\":\"white\",\"ticks\":\"\"},\"radialaxis\":{\"gridcolor\":\"white\",\"linecolor\":\"white\",\"ticks\":\"\"}},\"ternary\":{\"bgcolor\":\"#E5ECF6\",\"aaxis\":{\"gridcolor\":\"white\",\"linecolor\":\"white\",\"ticks\":\"\"},\"baxis\":{\"gridcolor\":\"white\",\"linecolor\":\"white\",\"ticks\":\"\"},\"caxis\":{\"gridcolor\":\"white\",\"linecolor\":\"white\",\"ticks\":\"\"}},\"coloraxis\":{\"colorbar\":{\"outlinewidth\":0,\"ticks\":\"\"}},\"colorscale\":{\"sequential\":[[0.0,\"#0d0887\"],[0.1111111111111111,\"#46039f\"],[0.2222222222222222,\"#7201a8\"],[0.3333333333333333,\"#9c179e\"],[0.4444444444444444,\"#bd3786\"],[0.5555555555555556,\"#d8576b\"],[0.6666666666666666,\"#ed7953\"],[0.7777777777777778,\"#fb9f3a\"],[0.8888888888888888,\"#fdca26\"],[1.0,\"#f0f921\"]],\"sequentialminus\":[[0.0,\"#0d0887\"],[0.1111111111111111,\"#46039f\"],[0.2222222222222222,\"#7201a8\"],[0.3333333333333333,\"#9c179e\"],[0.4444444444444444,\"#bd3786\"],[0.5555555555555556,\"#d8576b\"],[0.6666666666666666,\"#ed7953\"],[0.7777777777777778,\"#fb9f3a\"],[0.8888888888888888,\"#fdca26\"],[1.0,\"#f0f921\"]],\"diverging\":[[0,\"#8e0152\"],[0.1,\"#c51b7d\"],[0.2,\"#de77ae\"],[0.3,\"#f1b6da\"],[0.4,\"#fde0ef\"],[0.5,\"#f7f7f7\"],[0.6,\"#e6f5d0\"],[0.7,\"#b8e186\"],[0.8,\"#7fbc41\"],[0.9,\"#4d9221\"],[1,\"#276419\"]]},\"xaxis\":{\"gridcolor\":\"white\",\"linecolor\":\"white\",\"ticks\":\"\",\"title\":{\"standoff\":15},\"zerolinecolor\":\"white\",\"automargin\":true,\"zerolinewidth\":2},\"yaxis\":{\"gridcolor\":\"white\",\"linecolor\":\"white\",\"ticks\":\"\",\"title\":{\"standoff\":15},\"zerolinecolor\":\"white\",\"automargin\":true,\"zerolinewidth\":2},\"scene\":{\"xaxis\":{\"backgroundcolor\":\"#E5ECF6\",\"gridcolor\":\"white\",\"linecolor\":\"white\",\"showbackground\":true,\"ticks\":\"\",\"zerolinecolor\":\"white\",\"gridwidth\":2},\"yaxis\":{\"backgroundcolor\":\"#E5ECF6\",\"gridcolor\":\"white\",\"linecolor\":\"white\",\"showbackground\":true,\"ticks\":\"\",\"zerolinecolor\":\"white\",\"gridwidth\":2},\"zaxis\":{\"backgroundcolor\":\"#E5ECF6\",\"gridcolor\":\"white\",\"linecolor\":\"white\",\"showbackground\":true,\"ticks\":\"\",\"zerolinecolor\":\"white\",\"gridwidth\":2}},\"shapedefaults\":{\"line\":{\"color\":\"#2a3f5f\"}},\"annotationdefaults\":{\"arrowcolor\":\"#2a3f5f\",\"arrowhead\":0,\"arrowwidth\":1},\"geo\":{\"bgcolor\":\"white\",\"landcolor\":\"#E5ECF6\",\"subunitcolor\":\"white\",\"showland\":true,\"showlakes\":true,\"lakecolor\":\"white\"},\"title\":{\"x\":0.05},\"mapbox\":{\"style\":\"light\"}}},\"xaxis\":{\"anchor\":\"y\",\"domain\":[0.0,1.0],\"title\":{\"text\":\"reported_date\"}},\"yaxis\":{\"anchor\":\"x\",\"domain\":[0.0,1.0],\"title\":{\"text\":\"total_daily\"}},\"legend\":{\"title\":{\"text\":\"province\"},\"tracegroupgap\":0},\"margin\":{\"t\":60}},                        {\"responsive\": true}                    ).then(function(){\n",
       "                            \n",
       "var gd = document.getElementById('becc5cec-cbde-451a-a0a5-c2397a155891');\n",
       "var x = new MutationObserver(function (mutations, observer) {{\n",
       "        var display = window.getComputedStyle(gd).display;\n",
       "        if (!display || display === 'none') {{\n",
       "            console.log([gd, 'removed!']);\n",
       "            Plotly.purge(gd);\n",
       "            observer.disconnect();\n",
       "        }}\n",
       "}});\n",
       "\n",
       "// Listen for the removal of the full notebook cells\n",
       "var notebookContainer = gd.closest('#notebook-container');\n",
       "if (notebookContainer) {{\n",
       "    x.observe(notebookContainer, {childList: true});\n",
       "}}\n",
       "\n",
       "// Listen for the clearing of the current output cell\n",
       "var outputEl = gd.closest('.output');\n",
       "if (outputEl) {{\n",
       "    x.observe(outputEl, {childList: true});\n",
       "}}\n",
       "\n",
       "                        })                };                });            </script>        </div>"
      ]
     },
     "metadata": {},
     "output_type": "display_data"
    }
   ],
   "source": [
    "%%local\n",
    "import plotly.express\n",
    "plotly.express.line(daily_cases, x=\"reported_date\" , y=\"total_daily\", color=\"province\")"
   ]
  },
  {
   "cell_type": "markdown",
   "id": "6bd2a6b0",
   "metadata": {},
   "source": [
    "<div class=\"alert alert-block alert-info\">\n",
    "As seen in the graph above, there are two significant spikes in Quebec's COVID-19 data from late December 2020 and early January 2021. These spikes likely don't reflect an actual surge in cases but rather a delay in data entry due to the holiday weekend. In Kamu, we use watermarks, which are markers that indicate when we have probably received all relevant data for a particular period. Given the potential for delays like these, the watermark can be adjusted to account for late-arriving data, ensuring that all reports are accurately included in the analysis.\n",
    "</div>"
   ]
  },
  {
   "cell_type": "code",
   "execution_count": null,
   "id": "b16c6926",
   "metadata": {},
   "outputs": [],
   "source": []
  }
 ],
 "metadata": {
  "kernelspec": {
   "display_name": "PySpark",
   "language": "python",
   "name": "pysparkkernel"
  },
  "language_info": {
   "codemirror_mode": {
    "name": "python",
    "version": 3
   },
   "file_extension": ".py",
   "mimetype": "text/x-python",
   "name": "pyspark",
   "pygments_lexer": "python3"
  }
 },
 "nbformat": 4,
 "nbformat_minor": 5
}
