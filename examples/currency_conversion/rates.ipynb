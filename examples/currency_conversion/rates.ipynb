{
 "cells": [
  {
   "cell_type": "code",
   "execution_count": null,
   "metadata": {},
   "outputs": [],
   "source": [
    "%load_ext kamu\n",
    "# Loads kamu extension to use `%%sql` cell magic and auto-viz"
   ]
  },
  {
   "cell_type": "code",
   "execution_count": null,
   "metadata": {},
   "outputs": [],
   "source": [
    "import kamu\n",
    "\n",
    "# Create onnection to kamu server\n",
    "con = kamu.connect()"
   ]
  },
  {
   "cell_type": "code",
   "execution_count": null,
   "metadata": {},
   "outputs": [],
   "source": [
    "%%sql -o rates\n",
    "-- We can run SQL queries directly\n",
    "-- By adding `-o <name>` we can download the result into the local notebook as Pandas dataframe!\n",
    "select * from 'ca.bankofcanada.exchange-rates.daily'"
   ]
  },
  {
   "cell_type": "code",
   "execution_count": null,
   "metadata": {},
   "outputs": [],
   "source": [
    "rates.info()"
   ]
  },
  {
   "cell_type": "code",
   "execution_count": null,
   "metadata": {},
   "outputs": [],
   "source": [
    "%%sql -o tx\n",
    "-- Let's use SQL to shape the data and download the processed result into the notebook\n",
    "select \n",
    "    offset,\n",
    "    system_time,\n",
    "    event_time,\n",
    "    symbol,\n",
    "    quantity,\n",
    "    cast(price_usd as double) as price_usd,\n",
    "    cast(price_cad as double) as price_cad,\n",
    "    cast(settlement_usd as double) as settlement_usd,\n",
    "    cast(settlement_cad as double) as settlement_cad\n",
    "from 'my.trading.transactions.cad'"
   ]
  },
  {
   "cell_type": "code",
   "execution_count": null,
   "metadata": {},
   "outputs": [],
   "source": [
    "import os\n",
    "import numpy as np\n",
    "import xarray as xr\n",
    "import pandas as pd\n",
    "import matplotlib.pyplot as plt\n",
    "import hvplot.pandas\n",
    "import hvplot.xarray"
   ]
  },
  {
   "cell_type": "code",
   "execution_count": null,
   "metadata": {},
   "outputs": [],
   "source": [
    "# Now we can visualize it!\n",
    "rates.hvplot.line(\n",
    "    x=\"date\", \n",
    "    y=[\"rate\"], \n",
    "    legend=\"bottom_right\",\n",
    "    title=\"USD to CAD rate\",\n",
    "    height=500, \n",
    "    width=800,\n",
    ")"
   ]
  },
  {
   "cell_type": "code",
   "execution_count": null,
   "metadata": {},
   "outputs": [],
   "source": [
    "tx.hvplot.scatter(\n",
    "    x=\"event_time\", \n",
    "    y=[\"settlement_cad\"], \n",
    "    legend=\"bottom_right\",\n",
    "    title=\"Transactions Settlement (CAD)\",\n",
    "    height=500, \n",
    "    width=800,\n",
    ")"
   ]
  },
  {
   "cell_type": "code",
   "execution_count": null,
   "metadata": {},
   "outputs": [],
   "source": []
  }
 ],
 "metadata": {
  "kernelspec": {
   "display_name": "Python 3 (ipykernel)",
   "language": "python",
   "name": "python3"
  },
  "language_info": {
   "codemirror_mode": {
    "name": "ipython",
    "version": 3
   },
   "file_extension": ".py",
   "mimetype": "text/x-python",
   "name": "python",
   "nbconvert_exporter": "python",
   "pygments_lexer": "ipython3",
   "version": "3.12.8"
  }
 },
 "nbformat": 4,
 "nbformat_minor": 4
}
