{
 "cells": [
  {
   "cell_type": "code",
   "execution_count": null,
   "metadata": {},
   "outputs": [],
   "source": [
    "%load_ext kamu\n",
    "# Loads kamu extension to use `import_dataset` command"
   ]
  },
  {
   "cell_type": "code",
   "execution_count": null,
   "metadata": {},
   "outputs": [],
   "source": [
    "%import_dataset ca.bankofcanada.exchange-rates.daily --alias rates\n",
    "# Imports dataset and gives it an *SQL table / PySpark* alias"
   ]
  },
  {
   "cell_type": "code",
   "execution_count": null,
   "metadata": {},
   "outputs": [],
   "source": [
    "# By default all code is executed remotely via PySpark and has direct access to imported datasets\n",
    "rates.printSchema()"
   ]
  },
  {
   "cell_type": "code",
   "execution_count": null,
   "metadata": {},
   "outputs": [],
   "source": [
    "%%local\n",
    "# The above makes python code execute in a *local* notebook kernel \n",
    "print(\"This runs in the notebook\")"
   ]
  },
  {
   "cell_type": "code",
   "execution_count": null,
   "metadata": {},
   "outputs": [],
   "source": [
    "%%sql -o rates\n",
    "-- We can run SQL queries directly\n",
    "-- By adding `-o <name>` we can download the result into the local notebook as Pandas dataframe!\n",
    "select * from rates"
   ]
  },
  {
   "cell_type": "code",
   "execution_count": null,
   "metadata": {},
   "outputs": [],
   "source": [
    "%%local\n",
    "# Local notebook now has `rates` variable\n",
    "rates.info()"
   ]
  },
  {
   "cell_type": "code",
   "execution_count": null,
   "metadata": {},
   "outputs": [],
   "source": [
    "%import_dataset my.trading.transactions --alias transactions\n",
    "%import_dataset my.trading.transactions.cad --alias transactions_cad"
   ]
  },
  {
   "cell_type": "code",
   "execution_count": null,
   "metadata": {},
   "outputs": [],
   "source": [
    "%%sql -o tx\n",
    "-- Let's use SQL to shape the data via Spark and download the processed result into the notebook\n",
    "select \n",
    "    offset,\n",
    "    system_time,\n",
    "    event_time,\n",
    "    symbol,\n",
    "    quantity,\n",
    "    cast(price_usd as double) as price_usd,\n",
    "    cast(price_cad as double) as price_cad,\n",
    "    cast(settlement_usd as double) as settlement_usd,\n",
    "    cast(settlement_cad as double) as settlement_cad\n",
    "from transactions_cad"
   ]
  },
  {
   "cell_type": "code",
   "execution_count": null,
   "metadata": {},
   "outputs": [],
   "source": [
    "%%local\n",
    "import os\n",
    "import numpy as np\n",
    "import xarray as xr\n",
    "import pandas as pd\n",
    "import matplotlib.pyplot as plt\n",
    "import hvplot.pandas  # noqa\n",
    "import hvplot.xarray  # noqa"
   ]
  },
  {
   "cell_type": "code",
   "execution_count": null,
   "metadata": {},
   "outputs": [],
   "source": [
    "%%local\n",
    "# Now we can visualize it!\n",
    "rates.hvplot.line(\n",
    "    x=\"date\", \n",
    "    y=[\"rate\"], \n",
    "    legend=\"bottom_right\",\n",
    "    title=\"USD to CAD rate\",\n",
    "    height=500, \n",
    "    width=800,\n",
    ")"
   ]
  },
  {
   "cell_type": "code",
   "execution_count": null,
   "metadata": {},
   "outputs": [],
   "source": [
    "%%local\n",
    "tx.hvplot.scatter(\n",
    "    x=\"event_time\", \n",
    "    y=[\"settlement_cad\"], \n",
    "    legend=\"bottom_right\",\n",
    "    title=\"Transactions Settlement (CAD)\",\n",
    "    height=500, \n",
    "    width=800,\n",
    ")"
   ]
  },
  {
   "cell_type": "code",
   "execution_count": null,
   "metadata": {},
   "outputs": [],
   "source": []
  }
 ],
 "metadata": {
  "kernelspec": {
   "display_name": "PySpark",
   "language": "python",
   "name": "pysparkkernel"
  },
  "language_info": {
   "codemirror_mode": {
    "name": "python",
    "version": 3
   },
   "file_extension": ".py",
   "mimetype": "text/x-python",
   "name": "pyspark",
   "pygments_lexer": "python3"
  }
 },
 "nbformat": 4,
 "nbformat_minor": 4
}
