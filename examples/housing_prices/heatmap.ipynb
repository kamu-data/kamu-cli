{
 "cells": [
  {
   "cell_type": "code",
   "execution_count": null,
   "metadata": {},
   "outputs": [],
   "source": [
    "%load_ext kamu"
   ]
  },
  {
   "cell_type": "code",
   "execution_count": null,
   "metadata": {},
   "outputs": [],
   "source": [
    "%import_dataset ca.vancouver.opendata.property.parcel-polygons --alias lots\n",
    "%import_dataset ca.vancouver.opendata.property.tax-reports --alias tax"
   ]
  },
  {
   "cell_type": "code",
   "execution_count": null,
   "metadata": {},
   "outputs": [],
   "source": [
    "print(lots.count())\n",
    "lots.printSchema()"
   ]
  },
  {
   "cell_type": "code",
   "execution_count": null,
   "metadata": {},
   "outputs": [],
   "source": [
    "print(tax.count())\n",
    "tax.printSchema()"
   ]
  },
  {
   "cell_type": "code",
   "execution_count": null,
   "metadata": {},
   "outputs": [],
   "source": [
    "%%sql\n",
    "select * from tax limit 10"
   ]
  },
  {
   "cell_type": "code",
   "execution_count": null,
   "metadata": {},
   "outputs": [],
   "source": [
    "%%sql\n",
    "CREATE OR REPLACE TEMP VIEW lot_tax AS (\n",
    "SELECT\n",
    "    t.*,\n",
    "    l.geometry\n",
    "FROM lots as l\n",
    "JOIN tax as t\n",
    "ON l.tax_coord = t.land_coordinate\n",
    "WHERE\n",
    "    t.legal_type = 'LAND'\n",
    "    AND t.tax_assessment_year = 2020\n",
    "    AND t.current_land_value is not null\n",
    ")"
   ]
  },
  {
   "cell_type": "code",
   "execution_count": null,
   "metadata": {},
   "outputs": [],
   "source": [
    "%%sql -o df\n",
    "SELECT\n",
    "    land_coordinate,\n",
    "    geometry,\n",
    "    CAST(current_land_value AS DOUBLE) + CAST(current_improvement_value AS DOUBLE) AS current_total_value\n",
    "FROM lot_tax"
   ]
  },
  {
   "cell_type": "code",
   "execution_count": null,
   "metadata": {},
   "outputs": [],
   "source": [
    "%%local\n",
    "import json\n",
    "\n",
    "# For every row we first combine GeoJson geometry with other columns into a Feature object\n",
    "# Then we combine all Features into a FeatureCollection\n",
    "def df_to_geojson(df, geom='geometry', props=None):\n",
    "    if props is None:\n",
    "        props = [\n",
    "            c for c in df.columns\n",
    "            if c != geom\n",
    "        ]\n",
    "    \n",
    "    return {\n",
    "        \"type\": \"FeatureCollection\",\n",
    "        \"features\": [\n",
    "            {\n",
    "                \"type\": \"Feature\",\n",
    "                \"geometry\": json.loads(row[geom]),\n",
    "                \"properties\": {p: row[p] for p in props}\n",
    "            }\n",
    "            for _, row in df.iterrows()\n",
    "        ]\n",
    "    }"
   ]
  },
  {
   "cell_type": "code",
   "execution_count": null,
   "metadata": {},
   "outputs": [],
   "source": [
    "%%local\n",
    "gj = df_to_geojson(df)"
   ]
  },
  {
   "cell_type": "code",
   "execution_count": null,
   "metadata": {},
   "outputs": [],
   "source": [
    "%%local\n",
    "import os\n",
    "from mapboxgl.viz import *\n",
    "from mapboxgl.utils import *\n",
    "\n",
    "# Must be a public token, starting with `pk`\n",
    "token = os.getenv('MAPBOX_ACCESS_TOKEN')"
   ]
  },
  {
   "cell_type": "code",
   "execution_count": null,
   "metadata": {
    "scrolled": false
   },
   "outputs": [],
   "source": [
    "%%local\n",
    "viz = ChoroplethViz(\n",
    "    gj,\n",
    "    style='mapbox://styles/mapbox/dark-v10',\n",
    "    center=(-123.1207, 49.2827),\n",
    "    zoom=10,\n",
    "    access_token=token,\n",
    "    color_property='current_total_value',\n",
    "    color_stops=create_color_stops([1000000, 2000000, 3000000, 5000000, 10000000], colors='YlOrRd'),\n",
    "    color_default='rgb(158,202,195)',\n",
    "    line_width=0,\n",
    "    opacity=1.0,\n",
    "    legend_layout='horizontal',\n",
    "    legend_key_shape='bar',\n",
    "    legend_key_borders_on=False)\n",
    "\n",
    "viz.show()"
   ]
  },
  {
   "cell_type": "code",
   "execution_count": null,
   "metadata": {},
   "outputs": [],
   "source": []
  }
 ],
 "metadata": {
  "kernelspec": {
   "display_name": "PySpark",
   "language": "python",
   "name": "pysparkkernel"
  },
  "language_info": {
   "codemirror_mode": {
    "name": "python",
    "version": 3
   },
   "file_extension": ".py",
   "mimetype": "text/x-python",
   "name": "pyspark",
   "pygments_lexer": "python3"
  }
 },
 "nbformat": 4,
 "nbformat_minor": 2
}
