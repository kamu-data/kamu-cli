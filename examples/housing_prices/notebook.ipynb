{
 "cells": [
  {
   "cell_type": "code",
   "execution_count": null,
   "id": "090c009f-34ae-4262-b9d7-36ca94d88baa",
   "metadata": {},
   "outputs": [],
   "source": [
    "%load_ext kamu"
   ]
  },
  {
   "cell_type": "code",
   "execution_count": null,
   "id": "213fc2aa-5f6f-48f9-87be-38e76ad731e5",
   "metadata": {},
   "outputs": [],
   "source": [
    "import kamu\n",
    "con = kamu.connect(engine=\"spark\", connection_params=dict(driver_memory=\"1000m\", executor_memory=\"2000m\"))"
   ]
  },
  {
   "cell_type": "markdown",
   "id": "9654a8c1-4981-42a1-aef1-91dc36dded5c",
   "metadata": {},
   "source": [
    "# Land value heatmap\n",
    "Let's join land tax report records to their corresponding geographical boundaries and visualize their price on a map."
   ]
  },
  {
   "cell_type": "code",
   "execution_count": null,
   "id": "7086bb8c-08b8-4a40-b51d-d74165dcbb18",
   "metadata": {},
   "outputs": [],
   "source": [
    "%%sql\n",
    "select * from `ca.vancouver.opendata.property.tax-reports` limit 3"
   ]
  },
  {
   "cell_type": "code",
   "execution_count": null,
   "id": "eaa1ed5d-f65b-40dd-b749-1dc327b5677b",
   "metadata": {},
   "outputs": [],
   "source": [
    "%%sql\n",
    "select * from `ca.vancouver.opendata.property.parcel-polygons` limit 3"
   ]
  },
  {
   "cell_type": "code",
   "execution_count": null,
   "id": "36538d2f-04ee-4f43-ac14-de708a066175",
   "metadata": {},
   "outputs": [],
   "source": [
    "%%sql -o heatmap -q\n",
    "select\n",
    "    tax.report_year,\n",
    "    tax.pid,\n",
    "    tax.legal_type,\n",
    "    tax.zoning_district,\n",
    "    cast(tax.current_land_value as double) + cast(tax.current_improvement_value as double) as current_total_value,\n",
    "    polys.geometry\n",
    "from `ca.vancouver.opendata.property.parcel-polygons` as polys\n",
    "inner join `ca.vancouver.opendata.property.tax-reports` as tax\n",
    "    on tax.land_coordinate = polys.tax_coord\n",
    "where\n",
    "    tax.legal_type = 'LAND'\n",
    "    and tax.tax_assessment_year = 2024\n",
    "    and tax.current_land_value is not null"
   ]
  },
  {
   "cell_type": "code",
   "execution_count": null,
   "id": "b54cbaf0-9a08-429d-8949-e9f884e13683",
   "metadata": {},
   "outputs": [],
   "source": [
    "import kamu.utils\n",
    "\n",
    "heatmap_gj = kamu.utils.df_to_geojson(heatmap)"
   ]
  },
  {
   "cell_type": "code",
   "execution_count": null,
   "id": "f2500525-2095-4e7f-855b-830cd1c1d549",
   "metadata": {},
   "outputs": [],
   "source": [
    "import os\n",
    "import kamu.utils\n",
    "from mapboxgl.viz import *\n",
    "from mapboxgl.utils import *\n",
    "\n",
    "# Must be a public token, starting with `pk`\n",
    "token = os.getenv('MAPBOX_ACCESS_TOKEN')\n",
    "\n",
    "viz = ChoroplethViz(\n",
    "    heatmap_gj,\n",
    "    style='mapbox://styles/mapbox/dark-v10',\n",
    "    center=(-123.1207, 49.2827),\n",
    "    zoom=10,\n",
    "    access_token=token,\n",
    "    color_property='current_total_value',\n",
    "    color_stops=create_color_stops([1000000, 2000000, 3000000, 5000000, 10000000], colors='YlOrRd'),\n",
    "    color_default='rgb(158,202,195)',\n",
    "    line_width=0,\n",
    "    opacity=1.0,\n",
    "    legend_layout='horizontal',\n",
    "    legend_key_shape='bar',\n",
    "    legend_key_borders_on=False)\n",
    "\n",
    "viz.show()"
   ]
  },
  {
   "cell_type": "markdown",
   "id": "bcc55e34-4871-44fb-828d-364323f8f339",
   "metadata": {},
   "source": [
    "# Spatial JOIN\n",
    "We have two GIS datasets with outlines of every city block and geo boundaries of city neighbourhoods. Let's classify which neighbourhood every city block belongs to by joining two datasets using `st_contains` to test that a block polygon is fully contained within a neighbourhood polygon."
   ]
  },
  {
   "cell_type": "code",
   "execution_count": null,
   "id": "ba53b40c-7360-4fdc-9f37-175b433121c3",
   "metadata": {},
   "outputs": [],
   "source": [
    "%%sql\n",
    "select * from `ca.vancouver.opendata.property.block-outlines` limit 3"
   ]
  },
  {
   "cell_type": "code",
   "execution_count": null,
   "id": "a464c56b-945a-4437-b880-e42c219a070a",
   "metadata": {},
   "outputs": [],
   "source": [
    "%%sql\n",
    "select * from `ca.vancouver.opendata.property.local-area-boundaries` limit 3"
   ]
  },
  {
   "cell_type": "code",
   "execution_count": null,
   "id": "eea7076e-0362-403f-a15a-183664d85f89",
   "metadata": {},
   "outputs": [],
   "source": [
    "%%sql -o blocks_by_hood -q\n",
    "with blocks as (\n",
    "    select\n",
    "        st_geomfromgeojson(geometry) as geometry\n",
    "    from `ca.vancouver.opendata.property.block-outlines`\n",
    "),\n",
    "hoods as (\n",
    "    select\n",
    "        st_geomfromgeojson(geometry) as geometry,\n",
    "        name\n",
    "    from `ca.vancouver.opendata.property.local-area-boundaries`\n",
    "),\n",
    "blocks_by_hood as (\n",
    "    select hoods.name, blocks.geometry\n",
    "    from\n",
    "        blocks,\n",
    "        hoods\n",
    "    where st_intersects(blocks.geometry, hoods.geometry)\n",
    ")\n",
    "select\n",
    "    st_asgeojson(geometry) as geometry,\n",
    "    name,\n",
    "    -- calculating median value is left as an excercise :)\n",
    "    rand() as median_value\n",
    "from blocks_by_hood"
   ]
  },
  {
   "cell_type": "code",
   "execution_count": null,
   "id": "d75afd5d-edbe-4d0b-8a5b-6c5b476a201d",
   "metadata": {},
   "outputs": [],
   "source": [
    "import kamu.utils\n",
    "\n",
    "blocks_by_hood_gj = kamu.utils.df_to_geojson(blocks_by_hood)"
   ]
  },
  {
   "cell_type": "code",
   "execution_count": null,
   "id": "1f52343f-2889-42a9-83fb-e4068398d267",
   "metadata": {},
   "outputs": [],
   "source": [
    "viz = ChoroplethViz(\n",
    "    blocks_by_hood_gj,\n",
    "    style='mapbox://styles/mapbox/dark-v10',\n",
    "    center=(-123.1207, 49.2827),\n",
    "    zoom=10,\n",
    "    access_token=token,\n",
    "    color_property='median_value',\n",
    "    color_stops=create_color_stops([0.25, 0.5, 0.75, 1.0], colors='YlOrRd'),\n",
    "    line_stroke='solid',\n",
    "    line_width=0.1,\n",
    "    line_color='rgb(128,0,38)',\n",
    "    opacity=0.8,\n",
    "    legend_layout='horizontal',\n",
    "    legend_key_shape='bar',\n",
    "    legend_key_borders_on=False)\n",
    "\n",
    "viz.show()"
   ]
  },
  {
   "cell_type": "code",
   "execution_count": null,
   "id": "924d86c3-41b9-40a8-b2c1-ac70b601164e",
   "metadata": {},
   "outputs": [],
   "source": [
    "# adjust view angle\n",
    "viz.bearing = -15\n",
    "viz.pitch = 45\n",
    "\n",
    "# add extrusion to viz using interpolation keyed on density in GeoJSON features\n",
    "viz.height_property = 'median_value'\n",
    "viz.height_stops = create_numeric_stops([0, 1], 0, 500)\n",
    "viz.height_function_type = 'interpolate'\n",
    "viz.opacity = 1\n",
    "\n",
    "# render again\n",
    "viz.show()"
   ]
  },
  {
   "cell_type": "code",
   "execution_count": null,
   "id": "f15c06e8-9b55-4ca6-a15a-b3f9d3321518",
   "metadata": {},
   "outputs": [],
   "source": []
  }
 ],
 "metadata": {
  "kernelspec": {
   "display_name": "Python 3 (ipykernel)",
   "language": "python",
   "name": "python3"
  },
  "language_info": {
   "codemirror_mode": {
    "name": "ipython",
    "version": 3
   },
   "file_extension": ".py",
   "mimetype": "text/x-python",
   "name": "python",
   "nbconvert_exporter": "python",
   "pygments_lexer": "ipython3",
   "version": "3.12.8"
  }
 },
 "nbformat": 4,
 "nbformat_minor": 5
}
