{
 "cells": [
  {
   "cell_type": "code",
   "execution_count": null,
   "id": "4a15a1c9-7e81-4a17-8282-a32c06bdbaf4",
   "metadata": {},
   "outputs": [],
   "source": [
    "%load_ext kamu"
   ]
  },
  {
   "cell_type": "code",
   "execution_count": null,
   "id": "1d60c661-237b-4850-bafe-705ac04bd7c9",
   "metadata": {},
   "outputs": [],
   "source": [
    "import kamu\n",
    "\n",
    "import os\n",
    "import numpy as np\n",
    "import xarray as xr\n",
    "import pandas as pd\n",
    "import geopandas as gpd\n",
    "import matplotlib.pyplot as plt\n",
    "import hvplot.pandas\n",
    "import hvplot.xarray\n",
    "from datetime import datetime\n",
    "from mapboxgl.utils import create_color_stops, create_numeric_stops, df_to_geojson\n",
    "from mapboxgl.viz import CircleViz\n",
    "\n",
    "con = kamu.connect()"
   ]
  },
  {
   "cell_type": "code",
   "execution_count": null,
   "id": "4072b9d6",
   "metadata": {},
   "outputs": [],
   "source": [
    "%%sql\n",
    "select * from 'rijkswaterstaat.nl/stations' limit 3"
   ]
  },
  {
   "cell_type": "code",
   "execution_count": null,
   "id": "61ad0157",
   "metadata": {},
   "outputs": [],
   "source": [
    "%%sql\n",
    "select * from 'rijkswaterstaat.nl/measurements.boven-rijn' limit 3"
   ]
  },
  {
   "cell_type": "markdown",
   "id": "0ce30c6d",
   "metadata": {},
   "source": [
    "# Visualizing Water Stations Data\n",
    "Here we show the dataset using a scatterplot. We select the 25th timestep, which corresponds to 2020-01-01 00:00 . We visualize the waterlevels for that timestep, using a scatterplot with 1 value per station."
   ]
  },
  {
   "cell_type": "code",
   "execution_count": null,
   "id": "285317ba",
   "metadata": {
    "scrolled": true
   },
   "outputs": [],
   "source": [
    "%%sql -o df -q\n",
    "select\n",
    "    m.event_time,\n",
    "    m.station_id,\n",
    "    s.station_name, \n",
    "    s.lat,\n",
    "    s.lon,\n",
    "    waterlevel,\n",
    "    velocity,\n",
    "    discharge\n",
    "from 'deltares.nl/rhine-basin.netherlands' as m\n",
    "left join 'rijkswaterstaat.nl/stations' as s \n",
    "    on m.station_id = s.station_id"
   ]
  },
  {
   "cell_type": "code",
   "execution_count": null,
   "id": "2fcc39fa",
   "metadata": {},
   "outputs": [],
   "source": [
    "ds = df.set_index(['event_time', 'station_id']).to_xarray()\n",
    "ds.plot.scatter(x='lon', y='lat', hue='waterlevel', edgecolors='none')"
   ]
  },
  {
   "cell_type": "code",
   "execution_count": null,
   "id": "4fa97c57",
   "metadata": {},
   "outputs": [],
   "source": [
    "viz = CircleViz(\n",
    "    df_to_geojson(\n",
    "        df, properties=['station_id', 'station_name', 'waterlevel'], lat='lat', lon='lon', precision=3\n",
    "    ),\n",
    "    access_token=os.getenv('MAPBOX_ACCESS_TOKEN'),\n",
    "    height='500px',\n",
    "    radius=3,\n",
    "    stroke_width = 0,\n",
    "    color_property = \"waterlevel\",\n",
    "    color_stops = create_color_stops([0, 2.5, 5, 7.5, 10], colors='YlOrRd'),\n",
    "    center = (5.7, 52.2),\n",
    "    zoom = 7.8,\n",
    "    #below_layer = 'waterway-label',\n",
    "    style='mapbox://styles/mapbox/streets-v11',\n",
    ")\n",
    "viz.show()"
   ]
  },
  {
   "cell_type": "markdown",
   "id": "3ba2b0cb",
   "metadata": {},
   "source": [
    "# Simulating Predicted Water Levels"
   ]
  },
  {
   "cell_type": "code",
   "execution_count": null,
   "id": "0bcec539",
   "metadata": {
    "scrolled": true
   },
   "outputs": [],
   "source": [
    "%%sql -o df2 -q\n",
    "select \n",
    "    analysis_time, \n",
    "    sim_time,\n",
    "    waterlevel,\n",
    "    velocity,\n",
    "    discharge,\n",
    "    round((cast(sim_time as bigint) - cast(analysis_time as bigint))/3600) as lookahead\n",
    "from 'deltares.nl/rhine-basin.netherlands.sim' as m\n",
    "where \n",
    "    station_id = 'BR_0863.00'\n",
    "    and waterlevel is not null\n",
    "order by analysis_time, sim_time"
   ]
  },
  {
   "cell_type": "code",
   "execution_count": null,
   "id": "6403d35f",
   "metadata": {},
   "outputs": [],
   "source": [
    "df2.hvplot.scatter(\n",
    "    x='sim_time', y=['waterlevel', 'velocity', 'discharge'], shared_axes=False, c='lookahead', \n",
    "    cmap='magma', s=2, height=300, width=800, subplots=True\n",
    ").cols(1)"
   ]
  },
  {
   "cell_type": "markdown",
   "id": "caf90b5b",
   "metadata": {},
   "source": [
    "# Compute statistics\n",
    "Here we take two years of forecasts to compute  the discharge - waterlevel/velocity relation. We take the discharge at Lobith and the waterlevel and velocity at Thiel. We will start by looking at one forecast series. We can select the discharge and take the waterlevel 12 hours later. "
   ]
  },
  {
   "cell_type": "code",
   "execution_count": null,
   "id": "36bdaf61",
   "metadata": {
    "scrolled": true
   },
   "outputs": [],
   "source": [
    "%%sql -o lobith -q\n",
    "select\n",
    "    analysis_time,\n",
    "    sim_time,\n",
    "    discharge\n",
    "from 'deltares.nl/rhine-basin.netherlands.sim'\n",
    "where station_id = 'BR_0863.00'\n",
    "order by analysis_time, sim_time"
   ]
  },
  {
   "cell_type": "code",
   "execution_count": null,
   "id": "368bdfc3",
   "metadata": {
    "scrolled": true
   },
   "outputs": [],
   "source": [
    "%%sql -o thiel -q\n",
    "select\n",
    "    analysis_time,\n",
    "    sim_time,\n",
    "    waterlevel,\n",
    "    velocity\n",
    "from 'deltares.nl/rhine-basin.netherlands.sim'\n",
    "where station_id = 'WA_0913.00'\n",
    "order by analysis_time, sim_time"
   ]
  },
  {
   "cell_type": "markdown",
   "id": "86eae2c3",
   "metadata": {},
   "source": [
    "Now we can select waterlevels, discharge and velocities for all timesteps. We could decide to filter by time difference with analysis time. We could compare 12 hours ahead with the analysis time. For now let's use all the data (all time combinations). "
   ]
  },
  {
   "cell_type": "markdown",
   "id": "78c39d2d",
   "metadata": {},
   "source": [
    "Let's visualize the data by showing the histograms."
   ]
  },
  {
   "cell_type": "code",
   "execution_count": null,
   "id": "5b4209b7",
   "metadata": {},
   "outputs": [],
   "source": [
    "lds = lobith.to_xarray()\n",
    "tds = thiel.to_xarray()"
   ]
  },
  {
   "cell_type": "code",
   "execution_count": null,
   "id": "c696c5b0",
   "metadata": {},
   "outputs": [],
   "source": [
    "fig, axes = plt.subplots(ncols=3, figsize=(13, 6))\n",
    "axes[0].hist(lds.discharge.values.ravel())\n",
    "axes[1].hist(tds.waterlevel.values.ravel())\n",
    "axes[2].hist(tds.velocity.values.ravel())\n",
    "fig"
   ]
  },
  {
   "cell_type": "markdown",
   "id": "192f8f82",
   "metadata": {},
   "source": [
    "Show the Q-h and Q-v relationship. Now we just do it for 1 location, but we need it for all locations. We also need to incorporate the time lag and to fit a non-parametric monotonic increasing function. But that's for a later moment. For now let's just inspect the functions."
   ]
  },
  {
   "cell_type": "code",
   "execution_count": null,
   "id": "fb0817fb",
   "metadata": {},
   "outputs": [],
   "source": [
    "fig, ax = plt.subplots(figsize=(13, 8))\n",
    "ax.plot(lds.discharge.values.ravel(), tds.waterlevel.values.ravel(), 'k.', alpha=0.1)\n",
    "ax.set_xlabel('Discharge @ Lobith [m3/s]')\n",
    "ax.set_ylabel('Waterlevel @ Thiel [m]')\n",
    "fig"
   ]
  },
  {
   "cell_type": "code",
   "execution_count": null,
   "id": "4d508c7d",
   "metadata": {},
   "outputs": [],
   "source": [
    "%%local\n",
    "fig, ax = plt.subplots(figsize=(13, 8))\n",
    "ax.plot(lds.discharge.values.ravel(), tds.velocity.values.ravel(), 'k.', alpha=0.1)\n",
    "ax.set_xlabel('Discharge @ Lobith [m3/s]')\n",
    "ax.set_ylabel('Velocity @ Thiel [m]')\n",
    "fig"
   ]
  },
  {
   "cell_type": "code",
   "execution_count": null,
   "id": "0da772eb",
   "metadata": {},
   "outputs": [],
   "source": []
  }
 ],
 "metadata": {
  "kernelspec": {
   "display_name": "Python 3 (ipykernel)",
   "language": "python",
   "name": "python3"
  },
  "language_info": {
   "codemirror_mode": {
    "name": "ipython",
    "version": 3
   },
   "file_extension": ".py",
   "mimetype": "text/x-python",
   "name": "python",
   "nbconvert_exporter": "python",
   "pygments_lexer": "ipython3",
   "version": "3.12.8"
  }
 },
 "nbformat": 4,
 "nbformat_minor": 5
}
